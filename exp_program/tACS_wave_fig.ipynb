{
 "cells": [
  {
   "cell_type": "code",
   "execution_count": 40,
   "metadata": {},
   "outputs": [],
   "source": [
    "import numpy as np\n",
    "import matplotlib.pyplot as plt\n",
    "import matplotlib\n",
    "import os"
   ]
  },
  {
   "cell_type": "code",
   "execution_count": 41,
   "metadata": {},
   "outputs": [
    {
     "name": "stderr",
     "output_type": "stream",
     "text": [
      "findfont: Font family 'normal' not found.\n",
      "findfont: Font family 'normal' not found.\n",
      "findfont: Font family 'normal' not found.\n",
      "findfont: Font family 'normal' not found.\n",
      "findfont: Font family 'normal' not found.\n",
      "findfont: Font family 'normal' not found.\n",
      "findfont: Font family 'normal' not found.\n",
      "findfont: Font family 'normal' not found.\n",
      "findfont: Font family 'normal' not found.\n",
      "findfont: Font family 'normal' not found.\n",
      "findfont: Font family 'normal' not found.\n",
      "findfont: Font family 'normal' not found.\n",
      "findfont: Font family 'normal' not found.\n",
      "findfont: Font family 'normal' not found.\n",
      "findfont: Font family 'normal' not found.\n"
     ]
    },
    {
     "name": "stderr",
     "output_type": "stream",
     "text": [
      "findfont: Font family 'normal' not found.\n",
      "findfont: Font family 'normal' not found.\n",
      "findfont: Font family 'normal' not found.\n",
      "findfont: Font family 'normal' not found.\n",
      "findfont: Font family 'normal' not found.\n",
      "findfont: Font family 'normal' not found.\n",
      "findfont: Font family 'normal' not found.\n",
      "findfont: Font family 'normal' not found.\n",
      "findfont: Font family 'normal' not found.\n",
      "findfont: Font family 'normal' not found.\n",
      "findfont: Font family 'normal' not found.\n",
      "findfont: Font family 'normal' not found.\n",
      "findfont: Font family 'normal' not found.\n",
      "findfont: Font family 'normal' not found.\n",
      "findfont: Font family 'normal' not found.\n",
      "findfont: Font family 'normal' not found.\n",
      "findfont: Font family 'normal' not found.\n",
      "findfont: Font family 'normal' not found.\n",
      "findfont: Font family 'normal' not found.\n",
      "findfont: Font family 'normal' not found.\n",
      "findfont: Font family 'normal' not found.\n",
      "findfont: Font family 'normal' not found.\n",
      "findfont: Font family 'normal' not found.\n",
      "findfont: Font family 'normal' not found.\n",
      "findfont: Font family 'normal' not found.\n",
      "findfont: Font family 'normal' not found.\n",
      "findfont: Font family 'normal' not found.\n",
      "findfont: Font family 'normal' not found.\n",
      "findfont: Font family 'normal' not found.\n",
      "findfont: Font family 'normal' not found.\n"
     ]
    },
    {
     "data": {
      "image/png": "[encoded data removed]",
      "text/plain": [
       "<Figure size 236.22x118.11 with 1 Axes>"
      ]
     },
     "metadata": {},
     "output_type": "display_data"
    }
   ],
   "source": [
    "# Directory path\n",
    "dir_path = '../../paper/Figure 1/'\n",
    "\n",
    "# Full path for saving the file\n",
    "save_path = os.path.join(dir_path, 'tacs_generate.svg')\n",
    "\n",
    "# Parameters\n",
    "duration = 60  # total duration in seconds\n",
    "fade_in_out_duration = 10  # fade in and fade out duration in seconds\n",
    "frequency = 0.3  # frequency in Hz for the real tACS\n",
    "peak_to_peak_current = 1.5  # peak-to-peak current in mA for the real tACS\n",
    "sampling_rate = 1000  # sampling rate in Hz\n",
    "\n",
    "# Time array\n",
    "time = np.linspace(0, duration, int(duration * sampling_rate))\n",
    "\n",
    "# Creating fade in and fade out window\n",
    "window = np.ones_like(time)\n",
    "window[:int(fade_in_out_duration * sampling_rate)] = np.linspace(0, 1, int(fade_in_out_duration * sampling_rate))\n",
    "window[-int(fade_in_out_duration * sampling_rate):] = np.linspace(1, 0, int(fade_in_out_duration * sampling_rate))\n",
    "\n",
    "# Real tACS waveform\n",
    "real_tacs = 0.5 * peak_to_peak_current * np.sin(2 * np.pi * frequency * time) * window\n",
    "\n",
    "# Sham tACS waveform\n",
    "sham_tacs = np.zeros_like(time)\n",
    "sham_tacs[:int(fade_in_out_duration * sampling_rate)] = real_tacs[:int(fade_in_out_duration * sampling_rate)]\n",
    "sham_tacs[-int(fade_in_out_duration * sampling_rate):] = real_tacs[-int(fade_in_out_duration * sampling_rate):]\n",
    "\n",
    "# Plotting\n",
    "cm = 1/2.54  # centimeters in inches\n",
    "plt.figure(figsize=(6*cm, 3*cm))\n",
    "\n",
    "plt.plot(time, real_tacs, color='red', label='Real tACS')\n",
    "plt.plot(time, sham_tacs, color='blue', linestyle='--', label='Sham tACS')\n",
    "\n",
    "# plt.title('tACS Waveform: Real vs Sham')\n",
    "# plt.xlabel('Time (s)')\n",
    "# plt.ylabel('Current (mA)')\n",
    "# plt.legend()\n",
    "plt.grid(False)\n",
    "matplotlib.rcParams.update({'font.size': 7})\n",
    "# Saving the figure\n",
    "plt.savefig(save_path, format='svg')\n",
    "\n",
    "plt.show()"
   ]
  }
 ],
 "metadata": {
  "kernelspec": {
   "display_name": "brain",
   "language": "python",
   "name": "python3"
  },
  "language_info": {
   "codemirror_mode": {
    "name": "ipython",
    "version": 3
   },
   "file_extension": ".py",
   "mimetype": "text/x-python",
   "name": "python",
   "nbconvert_exporter": "python",
   "pygments_lexer": "ipython3",
   "version": "3.11.6"
  }
 },
 "nbformat": 4,
 "nbformat_minor": 2
}
