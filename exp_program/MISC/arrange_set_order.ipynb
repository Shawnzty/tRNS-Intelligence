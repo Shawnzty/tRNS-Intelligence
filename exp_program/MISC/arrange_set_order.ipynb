{
 "cells": [
  {
   "cell_type": "markdown",
   "metadata": {},
   "source": [
    "Only run once to create dataset"
   ]
  },
  {
   "cell_type": "code",
   "execution_count": 12,
   "metadata": {},
   "outputs": [],
   "source": [
    "import pandas as pd\n",
    "import numpy as np\n",
    "from random import shuffle"
   ]
  },
  {
   "cell_type": "code",
   "execution_count": 14,
   "metadata": {},
   "outputs": [],
   "source": [
    "# Load the Excel file\n",
    "file_path = '../rspm_info.csv'  # Update this to your Excel file path\n",
    "df = pd.read_csv(file_path)\n",
    "\n",
    "for id in range(1, 31):\n",
    "    # Assuming your column is named 'Column1', replace it with the actual column name\n",
    "    column_name = 'id'+str(id)  # Update this to your actual column name\n",
    "    new_values = []\n",
    "\n",
    "    # Shuffle each group of four rows\n",
    "    for i in range (0,15): # Skip header and bottom test rows\n",
    "        group = np.array([1,2,3,4])\n",
    "        np.random.shuffle(group)  # Using numpy for in-place shuffling\n",
    "        new_values.extend(group)\n",
    "\n",
    "    # Replace the original column with the shuffled values\n",
    "    df.loc[0:59, column_name] = new_values  # Adjust the row indices as needed\n",
    "\n",
    "# Save the modified DataFrame back to an Excel file\n",
    "output_file_path = '../mod_rspm_info.csv'  # Update this to your desired output file path\n",
    "df.to_csv(output_file_path, index=False)"
   ]
  }
 ],
 "metadata": {
  "kernelspec": {
   "display_name": "brain",
   "language": "python",
   "name": "python3"
  },
  "language_info": {
   "codemirror_mode": {
    "name": "ipython",
    "version": 3
   },
   "file_extension": ".py",
   "mimetype": "text/x-python",
   "name": "python",
   "nbconvert_exporter": "python",
   "pygments_lexer": "ipython3",
   "version": "3.11.6"
  }
 },
 "nbformat": 4,
 "nbformat_minor": 2
}
