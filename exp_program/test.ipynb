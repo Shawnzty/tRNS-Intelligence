{
 "cells": [
  {
   "cell_type": "code",
   "execution_count": 65,
   "metadata": {},
   "outputs": [],
   "source": [
    "import numpy as np\n",
    "import pandas as pd\n",
    "from psychopy import core, visual, gui, data, event\n",
    "from settings import *\n",
    "import serial\n",
    "import time"
   ]
  },
  {
   "cell_type": "code",
   "execution_count": 66,
   "metadata": {},
   "outputs": [],
   "source": [
    "# def get_sets(id, set_number, test):\n",
    "id = 17\n",
    "set_number = 2\n",
    "test = 1\n",
    "filename = 'rspm_info.csv'\n",
    "df = pd.read_csv(filename)\n",
    "if test == 0:\n",
    "    id_column = \"id\" + str(id)\n",
    "    filtered_df = df[df[id_column] == set_number]\n",
    "    sets = filtered_df.iloc[:,[0,1]]\n",
    "else:\n",
    "    sets = df.iloc[-3:,[0,1]]\n",
    "return_sets = sets.to_numpy()"
   ]
  },
  {
   "cell_type": "code",
   "execution_count": 67,
   "metadata": {},
   "outputs": [
    {
     "data": {
      "text/plain": [
       "array([['test1', 6],\n",
       "       ['test2', 6],\n",
       "       ['test3', 8]], dtype=object)"
      ]
     },
     "execution_count": 67,
     "metadata": {},
     "output_type": "execute_result"
    }
   ],
   "source": [
    "return_sets"
   ]
  }
 ],
 "metadata": {
  "kernelspec": {
   "display_name": "psychoexp",
   "language": "python",
   "name": "python3"
  },
  "language_info": {
   "codemirror_mode": {
    "name": "ipython",
    "version": 3
   },
   "file_extension": ".py",
   "mimetype": "text/x-python",
   "name": "python",
   "nbconvert_exporter": "python",
   "pygments_lexer": "ipython3",
   "version": "3.8.18"
  }
 },
 "nbformat": 4,
 "nbformat_minor": 2
}
