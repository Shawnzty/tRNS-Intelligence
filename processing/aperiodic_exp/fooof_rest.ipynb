{
 "cells": [
  {
   "cell_type": "code",
   "execution_count": 1,
   "metadata": {},
   "outputs": [
    {
     "name": "stderr",
     "output_type": "stream",
     "text": [
      "C:\\Users\\Tianyi Zheng\\AppData\\Local\\Temp\\ipykernel_19348\\1452165549.py:11: DeprecationWarning: the imp module is deprecated in favour of importlib and slated for removal in Python 3.12; see the module's documentation for alternative uses\n",
      "  import imp\n"
     ]
    }
   ],
   "source": [
    "import sys\n",
    "import os\n",
    "sys.path.insert(0, os.path.abspath('..'))\n",
    "import matplotlib.pyplot as plt\n",
    "import matplotlib\n",
    "import numpy as np\n",
    "import pandas as pd\n",
    "import seaborn as sns\n",
    "from scipy import stats\n",
    "import funcs\n",
    "import imp\n",
    "import random\n",
    "import mne\n",
    "from scipy.signal import hilbert\n",
    "imp.reload(funcs)\n",
    "import statsmodels.api as sm\n",
    "from statsmodels.formula.api import ols\n",
    "from statsmodels.stats.anova import anova_lm\n",
    "\n",
    "\n",
    "# Import the FOOOF object\n",
    "from fooof import FOOOF\n",
    "\n",
    "# Import some internal functions\n",
    "#   These are used here to demonstrate the algorithm\n",
    "#   You do not need to import these functions for standard usage of the module\n",
    "from fooof.sim.gen import gen_aperiodic\n",
    "from fooof.plts.spectra import plot_spectra\n",
    "from fooof.plts.annotate import plot_annotated_peak_search"
   ]
  },
  {
   "cell_type": "code",
   "execution_count": null,
   "metadata": {},
   "outputs": [],
   "source": [
    "load_path = os.path.join('..', '..', '..', 'data', 'subjects_rest_eeg.pkl')\n",
    "subjects_rest_eeg = pd.read_pickle(load_path)\n",
    "# 7.4s"
   ]
  },
  {
   "cell_type": "code",
   "execution_count": 4,
   "metadata": {},
   "outputs": [],
   "source": [
    "exp_info = funcs.load_info()\n",
    "exp_info[\"exponent pre\"] = None\n",
    "exp_info[\"exponent post\"] = None\n",
    "\n",
    "exp_info[\"R_squared pre\"] = None\n",
    "exp_info[\"R_squared post\"] = None\n",
    "\n",
    "exp_info[\"error pre\"] = None\n",
    "exp_info[\"error post\"] = None"
   ]
  },
  {
   "cell_type": "code",
   "execution_count": null,
   "metadata": {},
   "outputs": [],
   "source": [
    "task_time_name = ['pre', 'post']\n",
    "for subject_id in range(1, 27):\n",
    "    for tasktime in range (1, 3):\n",
    "        raw = subjects_rest_eeg[subjects_rest_eeg['subject id'] == subject_id][task_time_name[tasktime-1]].values[0]\n",
    "        print(\"\\nsubject_id: \", subject_id, \" tasktime: \", task_time_name[tasktime-1], \"\\n\")\n",
    "\n",
    "        eeg = raw.get_data()[1:32,:]\n",
    "        exponent = np.zeros((eeg.shape[0]))\n",
    "        R_squared = np.zeros((eeg.shape[0]))\n",
    "        error = np.zeros((eeg.shape[0]))\n",
    "\n",
    "        # Compute the power spectrum with multitaper method\n",
    "        psds, freqs = mne.time_frequency.psd_array_multitaper(eeg, sfreq=4800, fmin=1, fmax=100, n_jobs=1)\n",
    "        # Define frequency range across which to model the spectrum\n",
    "        freq_range = [3, 40]\n",
    "        for channel in range(eeg.shape[0]):\n",
    "            # Initialize FOOOF object\n",
    "            fm = FOOOF()\n",
    "            # Fit FOOOF model\n",
    "            fit_results = fm.fit(freqs, psds[channel,:], freq_range)\n",
    "            exponent[channel] = fm.get_results().aperiodic_params[1]\n",
    "            R_squared[channel] = fm.get_results().r_squared\n",
    "            error[channel] = fm.get_results().error\n",
    "\n",
    "        idx = exp_info[(exp_info['subject id'] == subject_id)].index[0]\n",
    "        exp_info.at[idx, 'exponent '+task_time_name[tasktime-1]] = exponent\n",
    "        exp_info.at[idx, 'R_squared '+task_time_name[tasktime-1]] = R_squared\n",
    "        exp_info.at[idx, 'error '+task_time_name[tasktime-1]] = error\n"
   ]
  },
  {
   "cell_type": "code",
   "execution_count": null,
   "metadata": {},
   "outputs": [],
   "source": [
    "save_path = os.path.join('..', '..', '..', 'data', 'subjects_rest_fooof' +'.pkl')\n",
    "exp_info.to_pickle(save_path)"
   ]
  }
 ],
 "metadata": {
  "kernelspec": {
   "display_name": "brain",
   "language": "python",
   "name": "python3"
  },
  "language_info": {
   "codemirror_mode": {
    "name": "ipython",
    "version": 3
   },
   "file_extension": ".py",
   "mimetype": "text/x-python",
   "name": "python",
   "nbconvert_exporter": "python",
   "pygments_lexer": "ipython3",
   "version": "3.11.8"
  }
 },
 "nbformat": 4,
 "nbformat_minor": 2
}
