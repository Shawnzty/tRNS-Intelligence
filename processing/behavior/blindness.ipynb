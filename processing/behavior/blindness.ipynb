{
 "cells": [
  {
   "cell_type": "code",
   "execution_count": 2,
   "metadata": {},
   "outputs": [
    {
     "name": "stdout",
     "output_type": "stream",
     "text": [
      "McNemar's Test Statistic: 0.6428571428571429\n",
      "P-value: 0.4226780741706353\n"
     ]
    }
   ],
   "source": [
    "import numpy as np\n",
    "from statsmodels.stats.contingency_tables import mcnemar\n",
    "\n",
    "# Define the contingency table\n",
    "# Rows: Actual conditions\n",
    "# Columns: Reported conditions\n",
    "data = np.array([[4, 9],  # Condition active (Active reported, Sham reported)\n",
    "                 [5, 8]]) # Condition sham   (Active reported, Sham reported)\n",
    "# data = np.array([[59, 6],  # Condition active (Active reported, Sham reported)\n",
    "#                  [16, 80]]) # Condition sham   (Active reported, Sham reported)\n",
    "\n",
    "# Perform McNemar's test\n",
    "result = mcnemar(data, exact=False)  # Set exact=False for large sample approximation\n",
    "\n",
    "# Print the results\n",
    "print(\"McNemar's Test Statistic:\", result.statistic)\n",
    "print(\"P-value:\", result.pvalue)\n"
   ]
  },
  {
   "cell_type": "code",
   "execution_count": 16,
   "metadata": {},
   "outputs": [
    {
     "name": "stdout",
     "output_type": "stream",
     "text": [
      "McNemar's Test Statistic: 0.1\n",
      "P-value: 0.7518296340458492\n"
     ]
    }
   ],
   "source": [
    "data = np.array([[9, 4],  # active (better, not better)\n",
    "                 [6, 7]]) # sham   (better, not better)\n",
    "\n",
    "# data = np.array([[13, 1],  # active (better, not better)\n",
    "#                  [13, 1]]) # sham   (better, not better)\n",
    "\n",
    "\n",
    "# Perform McNemar's test\n",
    "result = mcnemar(data, exact=False)  # Set exact=False for large sample approximation\n",
    "\n",
    "# Print the results\n",
    "print(\"McNemar's Test Statistic:\", result.statistic)\n",
    "print(\"P-value:\", result.pvalue)"
   ]
  }
 ],
 "metadata": {
  "kernelspec": {
   "display_name": "brain",
   "language": "python",
   "name": "python3"
  },
  "language_info": {
   "codemirror_mode": {
    "name": "ipython",
    "version": 3
   },
   "file_extension": ".py",
   "mimetype": "text/x-python",
   "name": "python",
   "nbconvert_exporter": "python",
   "pygments_lexer": "ipython3",
   "version": "3.11.6"
  }
 },
 "nbformat": 4,
 "nbformat_minor": 2
}
