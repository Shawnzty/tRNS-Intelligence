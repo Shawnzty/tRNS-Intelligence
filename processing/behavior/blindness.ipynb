{
 "cells": [
  {
   "cell_type": "code",
   "execution_count": 6,
   "metadata": {},
   "outputs": [
    {
     "name": "stdout",
     "output_type": "stream",
     "text": [
      "McNemar's Test Statistic: 1.125\n",
      "P-value: 0.2888443663464818\n"
     ]
    }
   ],
   "source": [
    "import numpy as np\n",
    "from statsmodels.stats.contingency_tables import mcnemar\n",
    "\n",
    "# Define the contingency table\n",
    "# Rows: Actual conditions\n",
    "# Columns: Reported conditions\n",
    "data = np.array([[7, 2],  # Condition active (Active reported, Sham reported)\n",
    "                 [6, 3]]) # Condition sham   (Active reported, Sham reported)\n",
    "# data = np.array([[59, 6],  # Condition active (Active reported, Sham reported)\n",
    "#                  [16, 80]]) # Condition sham   (Active reported, Sham reported)\n",
    "\n",
    "# Perform McNemar's test\n",
    "result = mcnemar(data, exact=False)  # Set exact=False for large sample approximation\n",
    "\n",
    "# Print the results\n",
    "print(\"McNemar's Test Statistic:\", result.statistic)\n",
    "print(\"P-value:\", result.pvalue)\n"
   ]
  }
 ],
 "metadata": {
  "kernelspec": {
   "display_name": "brain",
   "language": "python",
   "name": "python3"
  },
  "language_info": {
   "codemirror_mode": {
    "name": "ipython",
    "version": 3
   },
   "file_extension": ".py",
   "mimetype": "text/x-python",
   "name": "python",
   "nbconvert_exporter": "python",
   "pygments_lexer": "ipython3",
   "version": "3.11.6"
  }
 },
 "nbformat": 4,
 "nbformat_minor": 2
}
