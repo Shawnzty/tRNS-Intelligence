{
 "cells": [
  {
   "cell_type": "code",
   "execution_count": 24,
   "metadata": {},
   "outputs": [
    {
     "data": {
      "text/plain": [
       "<module 'funcs' from 'c:\\\\Users\\\\Tianyi Zheng\\\\OneDrive - neuron.t.u-tokyo.ac.jp\\\\Documents\\\\zheng\\\\mywork\\\\intelligence_tRNS\\\\tRNS-Intelligence\\\\processing\\\\funcs.py'>"
      ]
     },
     "execution_count": 24,
     "metadata": {},
     "output_type": "execute_result"
    }
   ],
   "source": [
    "import sys\n",
    "import os\n",
    "sys.path.insert(0, os.path.abspath('..'))\n",
    "import matplotlib.pyplot as plt\n",
    "import numpy as np\n",
    "import pandas as pd\n",
    "import seaborn as sns\n",
    "from scipy import stats\n",
    "import funcs\n",
    "import imp\n",
    "imp.reload(funcs)\n"
   ]
  },
  {
   "cell_type": "code",
   "execution_count": 41,
   "metadata": {},
   "outputs": [
    {
     "name": "stderr",
     "output_type": "stream",
     "text": [
      "C:\\Users\\Tianyi Zheng\\AppData\\Local\\Temp\\ipykernel_17252\\1029939688.py:18: FutureWarning: The behavior of DataFrame concatenation with empty or all-NA entries is deprecated. In a future version, this will no longer exclude empty or all-NA columns when determining the result dtypes. To retain the old behavior, exclude the relevant entries before the concat operation.\n",
      "  subjects_behavior = pd.concat([subjects_behavior, one_behavior], ignore_index=True)\n"
     ]
    }
   ],
   "source": [
    "exp_info = funcs.load_info()\n",
    "rpm_answers = funcs.load_rpm_answers()\n",
    "task_times = ['pre', 'post']\n",
    "subjects_behavior = pd.DataFrame(columns=['subject id', 'condition', 'report', 'task time', 'question', 'level', 'subject answer', 'correct answer', 'answered', 'correct', 'reaction time'])\n",
    "\n",
    "for subject_id in range (1, 27):\n",
    "    for i,task_time in enumerate(task_times):\n",
    "        filename = f'../../../data/{subject_id}/{subject_id}_{i+1}.csv'\n",
    "        one_behavior = pd.read_csv(filename)\n",
    "        one_behavior.rename(columns={'answer': 'subject answer'}, inplace=True)\n",
    "\n",
    "        # Add subject_id and task_time to one_behavior DataFrame\n",
    "        one_behavior['subject id'] = subject_id\n",
    "        one_behavior['task time'] = task_times[i]  \n",
    "        # Reorder columns to match subjects_behavior DataFrame\n",
    "        one_behavior = one_behavior[['subject id', 'question', 'subject answer', 'reaction time', 'task time']]\n",
    "        # Append one_behavior data to subjects_behavior DataFrame\n",
    "        subjects_behavior = pd.concat([subjects_behavior, one_behavior], ignore_index=True)\n",
    "\n",
    "for row in range(len(subjects_behavior)):\n",
    "    subject_id = subjects_behavior.loc[row, 'subject id']\n",
    "\n",
    "    condition = exp_info.loc[exp_info['subject id'] == subject_id, 'Condition'].values[0]\n",
    "    report = exp_info.loc[exp_info['subject id'] == subject_id, 'Report'].values[0]\n",
    "    subjects_behavior.at[row, 'condition'] = condition\n",
    "    subjects_behavior.at[row, 'report'] = report\n",
    "\n",
    "    question = subjects_behavior.loc[row, 'question']\n",
    "    level = rpm_answers.loc[rpm_answers['question'] == question, 'level'].values[0]\n",
    "    correct_answer = rpm_answers.loc[rpm_answers['question'] == question, 'answer'].values[0]\n",
    "    subjects_behavior.at[row, 'level'] = level\n",
    "    subjects_behavior.at[row, 'correct answer'] = correct_answer\n",
    "\n",
    "    # Fill in 'answered' and 'correct' columns\n",
    "    if subjects_behavior.loc[row, 'subject answer'] != 0:\n",
    "        subjects_behavior.at[row, 'answered'] = 1 # 1 means the subject answered the question\n",
    "        if subjects_behavior.loc[row, 'subject answer'] == subjects_behavior.loc[row, 'correct answer']:\n",
    "            subjects_behavior.at[row, 'correct'] = 1 # 1 means the subject answered the question and got it right\n",
    "        else:\n",
    "            subjects_behavior.at[row, 'correct'] = 0 # 0 means the subject answered the question but got it wrong\n",
    "    else:\n",
    "        subjects_behavior.at[row, 'answered'] = 0 # 0 means the subject did not answer the question\n",
    "        subjects_behavior.at[row, 'correct'] = -1 # -1 means the subject did not answer the question"
   ]
  }
 ],
 "metadata": {
  "kernelspec": {
   "display_name": "brain",
   "language": "python",
   "name": "python3"
  },
  "language_info": {
   "codemirror_mode": {
    "name": "ipython",
    "version": 3
   },
   "file_extension": ".py",
   "mimetype": "text/x-python",
   "name": "python",
   "nbconvert_exporter": "python",
   "pygments_lexer": "ipython3",
   "version": "3.11.6"
  }
 },
 "nbformat": 4,
 "nbformat_minor": 2
}
