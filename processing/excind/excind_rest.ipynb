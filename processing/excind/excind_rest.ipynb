{
 "cells": [
  {
   "cell_type": "code",
   "execution_count": 8,
   "metadata": {},
   "outputs": [],
   "source": [
    "import sys\n",
    "import os\n",
    "sys.path.insert(0, os.path.abspath('..'))\n",
    "import matplotlib.pyplot as plt\n",
    "import matplotlib\n",
    "import numpy as np\n",
    "import pandas as pd\n",
    "import seaborn as sns\n",
    "from scipy import stats\n",
    "import funcs\n",
    "import imp\n",
    "import random\n",
    "import mne\n",
    "from scipy.signal import hilbert\n",
    "imp.reload(funcs)\n",
    "\n",
    "import statsmodels.api as sm\n",
    "from statsmodels.formula.api import ols\n",
    "from statsmodels.stats.anova import anova_lm"
   ]
  },
  {
   "cell_type": "code",
   "execution_count": 3,
   "metadata": {},
   "outputs": [],
   "source": [
    "load_path = os.path.join('..', '..', '..', 'data', 'subjects_rest_eeg.pkl')\n",
    "subjects_rest_eeg = pd.read_pickle(load_path)\n",
    "# 7.3s"
   ]
  },
  {
   "cell_type": "code",
   "execution_count": 4,
   "metadata": {},
   "outputs": [
    {
     "name": "stdout",
     "output_type": "stream",
     "text": [
      "Filtering raw data in 1 contiguous segment\n",
      "Setting up band-pass filter from 55 - 95 Hz\n",
      "\n",
      "FIR filter parameters\n",
      "---------------------\n",
      "Designing a one-pass, zero-phase, non-causal bandpass filter:\n",
      "- Windowed time-domain design (firwin) method\n",
      "- Hamming window with 0.0194 passband ripple and 53 dB stopband attenuation\n",
      "- Lower passband edge: 55.00\n",
      "- Lower transition bandwidth: 13.75 Hz (-6 dB cutoff frequency: 48.12 Hz)\n",
      "- Upper passband edge: 95.00 Hz\n",
      "- Upper transition bandwidth: 23.75 Hz (-6 dB cutoff frequency: 106.88 Hz)\n",
      "- Filter length: 1153 samples (0.240 s)\n",
      "\n"
     ]
    },
    {
     "name": "stderr",
     "output_type": "stream",
     "text": [
      "[Parallel(n_jobs=1)]: Done  17 tasks      | elapsed:    0.2s\n"
     ]
    },
    {
     "name": "stdout",
     "output_type": "stream",
     "text": [
      "Filtering raw data in 1 contiguous segment\n",
      "Setting up band-pass filter from 55 - 95 Hz\n",
      "\n",
      "FIR filter parameters\n",
      "---------------------\n",
      "Designing a one-pass, zero-phase, non-causal bandpass filter:\n",
      "- Windowed time-domain design (firwin) method\n",
      "- Hamming window with 0.0194 passband ripple and 53 dB stopband attenuation\n",
      "- Lower passband edge: 55.00\n",
      "- Lower transition bandwidth: 13.75 Hz (-6 dB cutoff frequency: 48.12 Hz)\n",
      "- Upper passband edge: 95.00 Hz\n",
      "- Upper transition bandwidth: 23.75 Hz (-6 dB cutoff frequency: 106.88 Hz)\n",
      "- Filter length: 1153 samples (0.240 s)\n",
      "\n"
     ]
    },
    {
     "name": "stderr",
     "output_type": "stream",
     "text": [
      "[Parallel(n_jobs=1)]: Done  17 tasks      | elapsed:    0.2s\n"
     ]
    },
    {
     "name": "stdout",
     "output_type": "stream",
     "text": [
      "Filtering raw data in 1 contiguous segment\n",
      "Setting up band-pass filter from 55 - 95 Hz\n",
      "\n",
      "FIR filter parameters\n",
      "---------------------\n",
      "Designing a one-pass, zero-phase, non-causal bandpass filter:\n",
      "- Windowed time-domain design (firwin) method\n",
      "- Hamming window with 0.0194 passband ripple and 53 dB stopband attenuation\n",
      "- Lower passband edge: 55.00\n",
      "- Lower transition bandwidth: 13.75 Hz (-6 dB cutoff frequency: 48.12 Hz)\n",
      "- Upper passband edge: 95.00 Hz\n",
      "- Upper transition bandwidth: 23.75 Hz (-6 dB cutoff frequency: 106.88 Hz)\n",
      "- Filter length: 1153 samples (0.240 s)\n",
      "\n"
     ]
    },
    {
     "name": "stderr",
     "output_type": "stream",
     "text": [
      "[Parallel(n_jobs=1)]: Done  17 tasks      | elapsed:    0.2s\n"
     ]
    },
    {
     "name": "stdout",
     "output_type": "stream",
     "text": [
      "Filtering raw data in 1 contiguous segment\n",
      "Setting up band-pass filter from 55 - 95 Hz\n",
      "\n",
      "FIR filter parameters\n",
      "---------------------\n",
      "Designing a one-pass, zero-phase, non-causal bandpass filter:\n",
      "- Windowed time-domain design (firwin) method\n",
      "- Hamming window with 0.0194 passband ripple and 53 dB stopband attenuation\n",
      "- Lower passband edge: 55.00\n",
      "- Lower transition bandwidth: 13.75 Hz (-6 dB cutoff frequency: 48.12 Hz)\n",
      "- Upper passband edge: 95.00 Hz\n",
      "- Upper transition bandwidth: 23.75 Hz (-6 dB cutoff frequency: 106.88 Hz)\n",
      "- Filter length: 1153 samples (0.240 s)\n",
      "\n"
     ]
    },
    {
     "name": "stderr",
     "output_type": "stream",
     "text": [
      "[Parallel(n_jobs=1)]: Done  17 tasks      | elapsed:    0.1s\n"
     ]
    },
    {
     "name": "stdout",
     "output_type": "stream",
     "text": [
      "Filtering raw data in 1 contiguous segment\n",
      "Setting up band-pass filter from 55 - 95 Hz\n",
      "\n",
      "FIR filter parameters\n",
      "---------------------\n",
      "Designing a one-pass, zero-phase, non-causal bandpass filter:\n",
      "- Windowed time-domain design (firwin) method\n",
      "- Hamming window with 0.0194 passband ripple and 53 dB stopband attenuation\n",
      "- Lower passband edge: 55.00\n",
      "- Lower transition bandwidth: 13.75 Hz (-6 dB cutoff frequency: 48.12 Hz)\n",
      "- Upper passband edge: 95.00 Hz\n",
      "- Upper transition bandwidth: 23.75 Hz (-6 dB cutoff frequency: 106.88 Hz)\n",
      "- Filter length: 1153 samples (0.240 s)\n",
      "\n"
     ]
    },
    {
     "name": "stderr",
     "output_type": "stream",
     "text": [
      "[Parallel(n_jobs=1)]: Done  17 tasks      | elapsed:    0.2s\n"
     ]
    },
    {
     "name": "stdout",
     "output_type": "stream",
     "text": [
      "Filtering raw data in 1 contiguous segment\n",
      "Setting up band-pass filter from 55 - 95 Hz\n",
      "\n",
      "FIR filter parameters\n",
      "---------------------\n",
      "Designing a one-pass, zero-phase, non-causal bandpass filter:\n",
      "- Windowed time-domain design (firwin) method\n",
      "- Hamming window with 0.0194 passband ripple and 53 dB stopband attenuation\n",
      "- Lower passband edge: 55.00\n",
      "- Lower transition bandwidth: 13.75 Hz (-6 dB cutoff frequency: 48.12 Hz)\n",
      "- Upper passband edge: 95.00 Hz\n",
      "- Upper transition bandwidth: 23.75 Hz (-6 dB cutoff frequency: 106.88 Hz)\n",
      "- Filter length: 1153 samples (0.240 s)\n",
      "\n"
     ]
    },
    {
     "name": "stderr",
     "output_type": "stream",
     "text": [
      "[Parallel(n_jobs=1)]: Done  17 tasks      | elapsed:    0.2s\n"
     ]
    },
    {
     "name": "stdout",
     "output_type": "stream",
     "text": [
      "Filtering raw data in 1 contiguous segment\n",
      "Setting up band-pass filter from 55 - 95 Hz\n",
      "\n",
      "FIR filter parameters\n",
      "---------------------\n",
      "Designing a one-pass, zero-phase, non-causal bandpass filter:\n",
      "- Windowed time-domain design (firwin) method\n",
      "- Hamming window with 0.0194 passband ripple and 53 dB stopband attenuation\n",
      "- Lower passband edge: 55.00\n",
      "- Lower transition bandwidth: 13.75 Hz (-6 dB cutoff frequency: 48.12 Hz)\n",
      "- Upper passband edge: 95.00 Hz\n",
      "- Upper transition bandwidth: 23.75 Hz (-6 dB cutoff frequency: 106.88 Hz)\n",
      "- Filter length: 1153 samples (0.240 s)\n",
      "\n"
     ]
    },
    {
     "name": "stderr",
     "output_type": "stream",
     "text": [
      "[Parallel(n_jobs=1)]: Done  17 tasks      | elapsed:    0.2s\n"
     ]
    },
    {
     "name": "stdout",
     "output_type": "stream",
     "text": [
      "Filtering raw data in 1 contiguous segment\n",
      "Setting up band-pass filter from 55 - 95 Hz\n",
      "\n",
      "FIR filter parameters\n",
      "---------------------\n",
      "Designing a one-pass, zero-phase, non-causal bandpass filter:\n",
      "- Windowed time-domain design (firwin) method\n",
      "- Hamming window with 0.0194 passband ripple and 53 dB stopband attenuation\n",
      "- Lower passband edge: 55.00\n",
      "- Lower transition bandwidth: 13.75 Hz (-6 dB cutoff frequency: 48.12 Hz)\n",
      "- Upper passband edge: 95.00 Hz\n",
      "- Upper transition bandwidth: 23.75 Hz (-6 dB cutoff frequency: 106.88 Hz)\n",
      "- Filter length: 1153 samples (0.240 s)\n",
      "\n"
     ]
    },
    {
     "name": "stderr",
     "output_type": "stream",
     "text": [
      "[Parallel(n_jobs=1)]: Done  17 tasks      | elapsed:    0.2s\n"
     ]
    },
    {
     "name": "stdout",
     "output_type": "stream",
     "text": [
      "Filtering raw data in 1 contiguous segment\n",
      "Setting up band-pass filter from 55 - 95 Hz\n",
      "\n",
      "FIR filter parameters\n",
      "---------------------\n",
      "Designing a one-pass, zero-phase, non-causal bandpass filter:\n",
      "- Windowed time-domain design (firwin) method\n",
      "- Hamming window with 0.0194 passband ripple and 53 dB stopband attenuation\n",
      "- Lower passband edge: 55.00\n",
      "- Lower transition bandwidth: 13.75 Hz (-6 dB cutoff frequency: 48.12 Hz)\n",
      "- Upper passband edge: 95.00 Hz\n",
      "- Upper transition bandwidth: 23.75 Hz (-6 dB cutoff frequency: 106.88 Hz)\n",
      "- Filter length: 1153 samples (0.240 s)\n",
      "\n"
     ]
    },
    {
     "name": "stderr",
     "output_type": "stream",
     "text": [
      "[Parallel(n_jobs=1)]: Done  17 tasks      | elapsed:    0.2s\n"
     ]
    },
    {
     "name": "stdout",
     "output_type": "stream",
     "text": [
      "Filtering raw data in 1 contiguous segment\n",
      "Setting up band-pass filter from 55 - 95 Hz\n",
      "\n",
      "FIR filter parameters\n",
      "---------------------\n",
      "Designing a one-pass, zero-phase, non-causal bandpass filter:\n",
      "- Windowed time-domain design (firwin) method\n",
      "- Hamming window with 0.0194 passband ripple and 53 dB stopband attenuation\n",
      "- Lower passband edge: 55.00\n",
      "- Lower transition bandwidth: 13.75 Hz (-6 dB cutoff frequency: 48.12 Hz)\n",
      "- Upper passband edge: 95.00 Hz\n",
      "- Upper transition bandwidth: 23.75 Hz (-6 dB cutoff frequency: 106.88 Hz)\n",
      "- Filter length: 1153 samples (0.240 s)\n",
      "\n"
     ]
    },
    {
     "name": "stderr",
     "output_type": "stream",
     "text": [
      "[Parallel(n_jobs=1)]: Done  17 tasks      | elapsed:    0.2s\n"
     ]
    },
    {
     "name": "stdout",
     "output_type": "stream",
     "text": [
      "Filtering raw data in 1 contiguous segment\n",
      "Setting up band-pass filter from 55 - 95 Hz\n",
      "\n",
      "FIR filter parameters\n",
      "---------------------\n",
      "Designing a one-pass, zero-phase, non-causal bandpass filter:\n",
      "- Windowed time-domain design (firwin) method\n",
      "- Hamming window with 0.0194 passband ripple and 53 dB stopband attenuation\n",
      "- Lower passband edge: 55.00\n",
      "- Lower transition bandwidth: 13.75 Hz (-6 dB cutoff frequency: 48.12 Hz)\n",
      "- Upper passband edge: 95.00 Hz\n",
      "- Upper transition bandwidth: 23.75 Hz (-6 dB cutoff frequency: 106.88 Hz)\n",
      "- Filter length: 1153 samples (0.240 s)\n",
      "\n"
     ]
    },
    {
     "name": "stderr",
     "output_type": "stream",
     "text": [
      "[Parallel(n_jobs=1)]: Done  17 tasks      | elapsed:    0.2s\n"
     ]
    },
    {
     "name": "stdout",
     "output_type": "stream",
     "text": [
      "Filtering raw data in 1 contiguous segment\n",
      "Setting up band-pass filter from 55 - 95 Hz\n",
      "\n",
      "FIR filter parameters\n",
      "---------------------\n",
      "Designing a one-pass, zero-phase, non-causal bandpass filter:\n",
      "- Windowed time-domain design (firwin) method\n",
      "- Hamming window with 0.0194 passband ripple and 53 dB stopband attenuation\n",
      "- Lower passband edge: 55.00\n",
      "- Lower transition bandwidth: 13.75 Hz (-6 dB cutoff frequency: 48.12 Hz)\n",
      "- Upper passband edge: 95.00 Hz\n",
      "- Upper transition bandwidth: 23.75 Hz (-6 dB cutoff frequency: 106.88 Hz)\n",
      "- Filter length: 1153 samples (0.240 s)\n",
      "\n"
     ]
    },
    {
     "name": "stderr",
     "output_type": "stream",
     "text": [
      "[Parallel(n_jobs=1)]: Done  17 tasks      | elapsed:    0.2s\n"
     ]
    },
    {
     "name": "stdout",
     "output_type": "stream",
     "text": [
      "Filtering raw data in 1 contiguous segment\n",
      "Setting up band-pass filter from 55 - 95 Hz\n",
      "\n",
      "FIR filter parameters\n",
      "---------------------\n",
      "Designing a one-pass, zero-phase, non-causal bandpass filter:\n",
      "- Windowed time-domain design (firwin) method\n",
      "- Hamming window with 0.0194 passband ripple and 53 dB stopband attenuation\n",
      "- Lower passband edge: 55.00\n",
      "- Lower transition bandwidth: 13.75 Hz (-6 dB cutoff frequency: 48.12 Hz)\n",
      "- Upper passband edge: 95.00 Hz\n",
      "- Upper transition bandwidth: 23.75 Hz (-6 dB cutoff frequency: 106.88 Hz)\n",
      "- Filter length: 1153 samples (0.240 s)\n",
      "\n"
     ]
    },
    {
     "name": "stderr",
     "output_type": "stream",
     "text": [
      "[Parallel(n_jobs=1)]: Done  17 tasks      | elapsed:    0.2s\n"
     ]
    },
    {
     "name": "stdout",
     "output_type": "stream",
     "text": [
      "Filtering raw data in 1 contiguous segment\n",
      "Setting up band-pass filter from 55 - 95 Hz\n",
      "\n",
      "FIR filter parameters\n",
      "---------------------\n",
      "Designing a one-pass, zero-phase, non-causal bandpass filter:\n",
      "- Windowed time-domain design (firwin) method\n",
      "- Hamming window with 0.0194 passband ripple and 53 dB stopband attenuation\n",
      "- Lower passband edge: 55.00\n",
      "- Lower transition bandwidth: 13.75 Hz (-6 dB cutoff frequency: 48.12 Hz)\n",
      "- Upper passband edge: 95.00 Hz\n",
      "- Upper transition bandwidth: 23.75 Hz (-6 dB cutoff frequency: 106.88 Hz)\n",
      "- Filter length: 1153 samples (0.240 s)\n",
      "\n"
     ]
    },
    {
     "name": "stderr",
     "output_type": "stream",
     "text": [
      "[Parallel(n_jobs=1)]: Done  17 tasks      | elapsed:    0.2s\n"
     ]
    },
    {
     "name": "stdout",
     "output_type": "stream",
     "text": [
      "Filtering raw data in 1 contiguous segment\n",
      "Setting up band-pass filter from 55 - 95 Hz\n",
      "\n",
      "FIR filter parameters\n",
      "---------------------\n",
      "Designing a one-pass, zero-phase, non-causal bandpass filter:\n",
      "- Windowed time-domain design (firwin) method\n",
      "- Hamming window with 0.0194 passband ripple and 53 dB stopband attenuation\n",
      "- Lower passband edge: 55.00\n",
      "- Lower transition bandwidth: 13.75 Hz (-6 dB cutoff frequency: 48.12 Hz)\n",
      "- Upper passband edge: 95.00 Hz\n",
      "- Upper transition bandwidth: 23.75 Hz (-6 dB cutoff frequency: 106.88 Hz)\n",
      "- Filter length: 1153 samples (0.240 s)\n",
      "\n"
     ]
    },
    {
     "name": "stderr",
     "output_type": "stream",
     "text": [
      "[Parallel(n_jobs=1)]: Done  17 tasks      | elapsed:    0.2s\n"
     ]
    },
    {
     "name": "stdout",
     "output_type": "stream",
     "text": [
      "Filtering raw data in 1 contiguous segment\n",
      "Setting up band-pass filter from 55 - 95 Hz\n",
      "\n",
      "FIR filter parameters\n",
      "---------------------\n",
      "Designing a one-pass, zero-phase, non-causal bandpass filter:\n",
      "- Windowed time-domain design (firwin) method\n",
      "- Hamming window with 0.0194 passband ripple and 53 dB stopband attenuation\n",
      "- Lower passband edge: 55.00\n",
      "- Lower transition bandwidth: 13.75 Hz (-6 dB cutoff frequency: 48.12 Hz)\n",
      "- Upper passband edge: 95.00 Hz\n",
      "- Upper transition bandwidth: 23.75 Hz (-6 dB cutoff frequency: 106.88 Hz)\n",
      "- Filter length: 1153 samples (0.240 s)\n",
      "\n"
     ]
    },
    {
     "name": "stderr",
     "output_type": "stream",
     "text": [
      "[Parallel(n_jobs=1)]: Done  17 tasks      | elapsed:    0.2s\n"
     ]
    },
    {
     "name": "stdout",
     "output_type": "stream",
     "text": [
      "Filtering raw data in 1 contiguous segment\n",
      "Setting up band-pass filter from 55 - 95 Hz\n",
      "\n",
      "FIR filter parameters\n",
      "---------------------\n",
      "Designing a one-pass, zero-phase, non-causal bandpass filter:\n",
      "- Windowed time-domain design (firwin) method\n",
      "- Hamming window with 0.0194 passband ripple and 53 dB stopband attenuation\n",
      "- Lower passband edge: 55.00\n",
      "- Lower transition bandwidth: 13.75 Hz (-6 dB cutoff frequency: 48.12 Hz)\n",
      "- Upper passband edge: 95.00 Hz\n",
      "- Upper transition bandwidth: 23.75 Hz (-6 dB cutoff frequency: 106.88 Hz)\n",
      "- Filter length: 1153 samples (0.240 s)\n",
      "\n"
     ]
    },
    {
     "name": "stderr",
     "output_type": "stream",
     "text": [
      "[Parallel(n_jobs=1)]: Done  17 tasks      | elapsed:    0.2s\n"
     ]
    },
    {
     "name": "stdout",
     "output_type": "stream",
     "text": [
      "Filtering raw data in 1 contiguous segment\n",
      "Setting up band-pass filter from 55 - 95 Hz\n",
      "\n",
      "FIR filter parameters\n",
      "---------------------\n",
      "Designing a one-pass, zero-phase, non-causal bandpass filter:\n",
      "- Windowed time-domain design (firwin) method\n",
      "- Hamming window with 0.0194 passband ripple and 53 dB stopband attenuation\n",
      "- Lower passband edge: 55.00\n",
      "- Lower transition bandwidth: 13.75 Hz (-6 dB cutoff frequency: 48.12 Hz)\n",
      "- Upper passband edge: 95.00 Hz\n",
      "- Upper transition bandwidth: 23.75 Hz (-6 dB cutoff frequency: 106.88 Hz)\n",
      "- Filter length: 1153 samples (0.240 s)\n",
      "\n"
     ]
    },
    {
     "name": "stderr",
     "output_type": "stream",
     "text": [
      "[Parallel(n_jobs=1)]: Done  17 tasks      | elapsed:    0.2s\n"
     ]
    },
    {
     "name": "stdout",
     "output_type": "stream",
     "text": [
      "Filtering raw data in 1 contiguous segment\n",
      "Setting up band-pass filter from 55 - 95 Hz\n",
      "\n",
      "FIR filter parameters\n",
      "---------------------\n",
      "Designing a one-pass, zero-phase, non-causal bandpass filter:\n",
      "- Windowed time-domain design (firwin) method\n",
      "- Hamming window with 0.0194 passband ripple and 53 dB stopband attenuation\n",
      "- Lower passband edge: 55.00\n",
      "- Lower transition bandwidth: 13.75 Hz (-6 dB cutoff frequency: 48.12 Hz)\n",
      "- Upper passband edge: 95.00 Hz\n",
      "- Upper transition bandwidth: 23.75 Hz (-6 dB cutoff frequency: 106.88 Hz)\n",
      "- Filter length: 1153 samples (0.240 s)\n",
      "\n"
     ]
    },
    {
     "name": "stderr",
     "output_type": "stream",
     "text": [
      "[Parallel(n_jobs=1)]: Done  17 tasks      | elapsed:    0.2s\n"
     ]
    },
    {
     "name": "stdout",
     "output_type": "stream",
     "text": [
      "Filtering raw data in 1 contiguous segment\n",
      "Setting up band-pass filter from 55 - 95 Hz\n",
      "\n",
      "FIR filter parameters\n",
      "---------------------\n",
      "Designing a one-pass, zero-phase, non-causal bandpass filter:\n",
      "- Windowed time-domain design (firwin) method\n",
      "- Hamming window with 0.0194 passband ripple and 53 dB stopband attenuation\n",
      "- Lower passband edge: 55.00\n",
      "- Lower transition bandwidth: 13.75 Hz (-6 dB cutoff frequency: 48.12 Hz)\n",
      "- Upper passband edge: 95.00 Hz\n",
      "- Upper transition bandwidth: 23.75 Hz (-6 dB cutoff frequency: 106.88 Hz)\n",
      "- Filter length: 1153 samples (0.240 s)\n",
      "\n"
     ]
    },
    {
     "name": "stderr",
     "output_type": "stream",
     "text": [
      "[Parallel(n_jobs=1)]: Done  17 tasks      | elapsed:    0.2s\n"
     ]
    },
    {
     "name": "stdout",
     "output_type": "stream",
     "text": [
      "Filtering raw data in 1 contiguous segment\n",
      "Setting up band-pass filter from 55 - 95 Hz\n",
      "\n",
      "FIR filter parameters\n",
      "---------------------\n",
      "Designing a one-pass, zero-phase, non-causal bandpass filter:\n",
      "- Windowed time-domain design (firwin) method\n",
      "- Hamming window with 0.0194 passband ripple and 53 dB stopband attenuation\n",
      "- Lower passband edge: 55.00\n",
      "- Lower transition bandwidth: 13.75 Hz (-6 dB cutoff frequency: 48.12 Hz)\n",
      "- Upper passband edge: 95.00 Hz\n",
      "- Upper transition bandwidth: 23.75 Hz (-6 dB cutoff frequency: 106.88 Hz)\n",
      "- Filter length: 1153 samples (0.240 s)\n",
      "\n"
     ]
    },
    {
     "name": "stderr",
     "output_type": "stream",
     "text": [
      "[Parallel(n_jobs=1)]: Done  17 tasks      | elapsed:    0.2s\n"
     ]
    },
    {
     "name": "stdout",
     "output_type": "stream",
     "text": [
      "Filtering raw data in 1 contiguous segment\n",
      "Setting up band-pass filter from 55 - 95 Hz\n",
      "\n",
      "FIR filter parameters\n",
      "---------------------\n",
      "Designing a one-pass, zero-phase, non-causal bandpass filter:\n",
      "- Windowed time-domain design (firwin) method\n",
      "- Hamming window with 0.0194 passband ripple and 53 dB stopband attenuation\n",
      "- Lower passband edge: 55.00\n",
      "- Lower transition bandwidth: 13.75 Hz (-6 dB cutoff frequency: 48.12 Hz)\n",
      "- Upper passband edge: 95.00 Hz\n",
      "- Upper transition bandwidth: 23.75 Hz (-6 dB cutoff frequency: 106.88 Hz)\n",
      "- Filter length: 1153 samples (0.240 s)\n",
      "\n"
     ]
    },
    {
     "name": "stderr",
     "output_type": "stream",
     "text": [
      "[Parallel(n_jobs=1)]: Done  17 tasks      | elapsed:    0.2s\n"
     ]
    },
    {
     "name": "stdout",
     "output_type": "stream",
     "text": [
      "Filtering raw data in 1 contiguous segment\n",
      "Setting up band-pass filter from 55 - 95 Hz\n",
      "\n",
      "FIR filter parameters\n",
      "---------------------\n",
      "Designing a one-pass, zero-phase, non-causal bandpass filter:\n",
      "- Windowed time-domain design (firwin) method\n",
      "- Hamming window with 0.0194 passband ripple and 53 dB stopband attenuation\n",
      "- Lower passband edge: 55.00\n",
      "- Lower transition bandwidth: 13.75 Hz (-6 dB cutoff frequency: 48.12 Hz)\n",
      "- Upper passband edge: 95.00 Hz\n",
      "- Upper transition bandwidth: 23.75 Hz (-6 dB cutoff frequency: 106.88 Hz)\n",
      "- Filter length: 1153 samples (0.240 s)\n",
      "\n"
     ]
    },
    {
     "name": "stderr",
     "output_type": "stream",
     "text": [
      "[Parallel(n_jobs=1)]: Done  17 tasks      | elapsed:    0.2s\n"
     ]
    },
    {
     "name": "stdout",
     "output_type": "stream",
     "text": [
      "Filtering raw data in 1 contiguous segment\n",
      "Setting up band-pass filter from 55 - 95 Hz\n",
      "\n",
      "FIR filter parameters\n",
      "---------------------\n",
      "Designing a one-pass, zero-phase, non-causal bandpass filter:\n",
      "- Windowed time-domain design (firwin) method\n",
      "- Hamming window with 0.0194 passband ripple and 53 dB stopband attenuation\n",
      "- Lower passband edge: 55.00\n",
      "- Lower transition bandwidth: 13.75 Hz (-6 dB cutoff frequency: 48.12 Hz)\n",
      "- Upper passband edge: 95.00 Hz\n",
      "- Upper transition bandwidth: 23.75 Hz (-6 dB cutoff frequency: 106.88 Hz)\n",
      "- Filter length: 1153 samples (0.240 s)\n",
      "\n"
     ]
    },
    {
     "name": "stderr",
     "output_type": "stream",
     "text": [
      "[Parallel(n_jobs=1)]: Done  17 tasks      | elapsed:    0.2s\n"
     ]
    },
    {
     "name": "stdout",
     "output_type": "stream",
     "text": [
      "Filtering raw data in 1 contiguous segment\n",
      "Setting up band-pass filter from 55 - 95 Hz\n",
      "\n",
      "FIR filter parameters\n",
      "---------------------\n",
      "Designing a one-pass, zero-phase, non-causal bandpass filter:\n",
      "- Windowed time-domain design (firwin) method\n",
      "- Hamming window with 0.0194 passband ripple and 53 dB stopband attenuation\n",
      "- Lower passband edge: 55.00\n",
      "- Lower transition bandwidth: 13.75 Hz (-6 dB cutoff frequency: 48.12 Hz)\n",
      "- Upper passband edge: 95.00 Hz\n",
      "- Upper transition bandwidth: 23.75 Hz (-6 dB cutoff frequency: 106.88 Hz)\n",
      "- Filter length: 1153 samples (0.240 s)\n",
      "\n"
     ]
    },
    {
     "name": "stderr",
     "output_type": "stream",
     "text": [
      "[Parallel(n_jobs=1)]: Done  17 tasks      | elapsed:    0.2s\n"
     ]
    },
    {
     "name": "stdout",
     "output_type": "stream",
     "text": [
      "Filtering raw data in 1 contiguous segment\n",
      "Setting up band-pass filter from 55 - 95 Hz\n",
      "\n",
      "FIR filter parameters\n",
      "---------------------\n",
      "Designing a one-pass, zero-phase, non-causal bandpass filter:\n",
      "- Windowed time-domain design (firwin) method\n",
      "- Hamming window with 0.0194 passband ripple and 53 dB stopband attenuation\n",
      "- Lower passband edge: 55.00\n",
      "- Lower transition bandwidth: 13.75 Hz (-6 dB cutoff frequency: 48.12 Hz)\n",
      "- Upper passband edge: 95.00 Hz\n",
      "- Upper transition bandwidth: 23.75 Hz (-6 dB cutoff frequency: 106.88 Hz)\n",
      "- Filter length: 1153 samples (0.240 s)\n",
      "\n"
     ]
    },
    {
     "name": "stderr",
     "output_type": "stream",
     "text": [
      "[Parallel(n_jobs=1)]: Done  17 tasks      | elapsed:    0.2s\n"
     ]
    },
    {
     "name": "stdout",
     "output_type": "stream",
     "text": [
      "Filtering raw data in 1 contiguous segment\n",
      "Setting up band-pass filter from 55 - 95 Hz\n",
      "\n",
      "FIR filter parameters\n",
      "---------------------\n",
      "Designing a one-pass, zero-phase, non-causal bandpass filter:\n",
      "- Windowed time-domain design (firwin) method\n",
      "- Hamming window with 0.0194 passband ripple and 53 dB stopband attenuation\n",
      "- Lower passband edge: 55.00\n",
      "- Lower transition bandwidth: 13.75 Hz (-6 dB cutoff frequency: 48.12 Hz)\n",
      "- Upper passband edge: 95.00 Hz\n",
      "- Upper transition bandwidth: 23.75 Hz (-6 dB cutoff frequency: 106.88 Hz)\n",
      "- Filter length: 1153 samples (0.240 s)\n",
      "\n"
     ]
    },
    {
     "name": "stderr",
     "output_type": "stream",
     "text": [
      "[Parallel(n_jobs=1)]: Done  17 tasks      | elapsed:    0.2s\n"
     ]
    },
    {
     "name": "stdout",
     "output_type": "stream",
     "text": [
      "Filtering raw data in 1 contiguous segment\n",
      "Setting up band-pass filter from 55 - 95 Hz\n",
      "\n",
      "FIR filter parameters\n",
      "---------------------\n",
      "Designing a one-pass, zero-phase, non-causal bandpass filter:\n",
      "- Windowed time-domain design (firwin) method\n",
      "- Hamming window with 0.0194 passband ripple and 53 dB stopband attenuation\n",
      "- Lower passband edge: 55.00\n",
      "- Lower transition bandwidth: 13.75 Hz (-6 dB cutoff frequency: 48.12 Hz)\n",
      "- Upper passband edge: 95.00 Hz\n",
      "- Upper transition bandwidth: 23.75 Hz (-6 dB cutoff frequency: 106.88 Hz)\n",
      "- Filter length: 1153 samples (0.240 s)\n",
      "\n"
     ]
    },
    {
     "name": "stderr",
     "output_type": "stream",
     "text": [
      "[Parallel(n_jobs=1)]: Done  17 tasks      | elapsed:    0.2s\n"
     ]
    },
    {
     "name": "stdout",
     "output_type": "stream",
     "text": [
      "Filtering raw data in 1 contiguous segment\n",
      "Setting up band-pass filter from 55 - 95 Hz\n",
      "\n",
      "FIR filter parameters\n",
      "---------------------\n",
      "Designing a one-pass, zero-phase, non-causal bandpass filter:\n",
      "- Windowed time-domain design (firwin) method\n",
      "- Hamming window with 0.0194 passband ripple and 53 dB stopband attenuation\n",
      "- Lower passband edge: 55.00\n",
      "- Lower transition bandwidth: 13.75 Hz (-6 dB cutoff frequency: 48.12 Hz)\n",
      "- Upper passband edge: 95.00 Hz\n",
      "- Upper transition bandwidth: 23.75 Hz (-6 dB cutoff frequency: 106.88 Hz)\n",
      "- Filter length: 1153 samples (0.240 s)\n",
      "\n"
     ]
    },
    {
     "name": "stderr",
     "output_type": "stream",
     "text": [
      "[Parallel(n_jobs=1)]: Done  17 tasks      | elapsed:    0.2s\n"
     ]
    },
    {
     "name": "stdout",
     "output_type": "stream",
     "text": [
      "Filtering raw data in 1 contiguous segment\n",
      "Setting up band-pass filter from 55 - 95 Hz\n",
      "\n",
      "FIR filter parameters\n",
      "---------------------\n",
      "Designing a one-pass, zero-phase, non-causal bandpass filter:\n",
      "- Windowed time-domain design (firwin) method\n",
      "- Hamming window with 0.0194 passband ripple and 53 dB stopband attenuation\n",
      "- Lower passband edge: 55.00\n",
      "- Lower transition bandwidth: 13.75 Hz (-6 dB cutoff frequency: 48.12 Hz)\n",
      "- Upper passband edge: 95.00 Hz\n",
      "- Upper transition bandwidth: 23.75 Hz (-6 dB cutoff frequency: 106.88 Hz)\n",
      "- Filter length: 1153 samples (0.240 s)\n",
      "\n"
     ]
    },
    {
     "name": "stderr",
     "output_type": "stream",
     "text": [
      "[Parallel(n_jobs=1)]: Done  17 tasks      | elapsed:    0.2s\n"
     ]
    },
    {
     "name": "stdout",
     "output_type": "stream",
     "text": [
      "Filtering raw data in 1 contiguous segment\n",
      "Setting up band-pass filter from 55 - 95 Hz\n",
      "\n",
      "FIR filter parameters\n",
      "---------------------\n",
      "Designing a one-pass, zero-phase, non-causal bandpass filter:\n",
      "- Windowed time-domain design (firwin) method\n",
      "- Hamming window with 0.0194 passband ripple and 53 dB stopband attenuation\n",
      "- Lower passband edge: 55.00\n",
      "- Lower transition bandwidth: 13.75 Hz (-6 dB cutoff frequency: 48.12 Hz)\n",
      "- Upper passband edge: 95.00 Hz\n",
      "- Upper transition bandwidth: 23.75 Hz (-6 dB cutoff frequency: 106.88 Hz)\n",
      "- Filter length: 1153 samples (0.240 s)\n",
      "\n"
     ]
    },
    {
     "name": "stderr",
     "output_type": "stream",
     "text": [
      "[Parallel(n_jobs=1)]: Done  17 tasks      | elapsed:    0.2s\n"
     ]
    },
    {
     "name": "stdout",
     "output_type": "stream",
     "text": [
      "Filtering raw data in 1 contiguous segment\n",
      "Setting up band-pass filter from 55 - 95 Hz\n",
      "\n",
      "FIR filter parameters\n",
      "---------------------\n",
      "Designing a one-pass, zero-phase, non-causal bandpass filter:\n",
      "- Windowed time-domain design (firwin) method\n",
      "- Hamming window with 0.0194 passband ripple and 53 dB stopband attenuation\n",
      "- Lower passband edge: 55.00\n",
      "- Lower transition bandwidth: 13.75 Hz (-6 dB cutoff frequency: 48.12 Hz)\n",
      "- Upper passband edge: 95.00 Hz\n",
      "- Upper transition bandwidth: 23.75 Hz (-6 dB cutoff frequency: 106.88 Hz)\n",
      "- Filter length: 1153 samples (0.240 s)\n",
      "\n"
     ]
    },
    {
     "name": "stderr",
     "output_type": "stream",
     "text": [
      "[Parallel(n_jobs=1)]: Done  17 tasks      | elapsed:    0.2s\n"
     ]
    },
    {
     "name": "stdout",
     "output_type": "stream",
     "text": [
      "Filtering raw data in 1 contiguous segment\n",
      "Setting up band-pass filter from 55 - 95 Hz\n",
      "\n",
      "FIR filter parameters\n",
      "---------------------\n",
      "Designing a one-pass, zero-phase, non-causal bandpass filter:\n",
      "- Windowed time-domain design (firwin) method\n",
      "- Hamming window with 0.0194 passband ripple and 53 dB stopband attenuation\n",
      "- Lower passband edge: 55.00\n",
      "- Lower transition bandwidth: 13.75 Hz (-6 dB cutoff frequency: 48.12 Hz)\n",
      "- Upper passband edge: 95.00 Hz\n",
      "- Upper transition bandwidth: 23.75 Hz (-6 dB cutoff frequency: 106.88 Hz)\n",
      "- Filter length: 1153 samples (0.240 s)\n",
      "\n"
     ]
    },
    {
     "name": "stderr",
     "output_type": "stream",
     "text": [
      "[Parallel(n_jobs=1)]: Done  17 tasks      | elapsed:    0.2s\n"
     ]
    },
    {
     "name": "stdout",
     "output_type": "stream",
     "text": [
      "Filtering raw data in 1 contiguous segment\n",
      "Setting up band-pass filter from 55 - 95 Hz\n",
      "\n",
      "FIR filter parameters\n",
      "---------------------\n",
      "Designing a one-pass, zero-phase, non-causal bandpass filter:\n",
      "- Windowed time-domain design (firwin) method\n",
      "- Hamming window with 0.0194 passband ripple and 53 dB stopband attenuation\n",
      "- Lower passband edge: 55.00\n",
      "- Lower transition bandwidth: 13.75 Hz (-6 dB cutoff frequency: 48.12 Hz)\n",
      "- Upper passband edge: 95.00 Hz\n",
      "- Upper transition bandwidth: 23.75 Hz (-6 dB cutoff frequency: 106.88 Hz)\n",
      "- Filter length: 1153 samples (0.240 s)\n",
      "\n"
     ]
    },
    {
     "name": "stderr",
     "output_type": "stream",
     "text": [
      "[Parallel(n_jobs=1)]: Done  17 tasks      | elapsed:    0.2s\n"
     ]
    },
    {
     "name": "stdout",
     "output_type": "stream",
     "text": [
      "Filtering raw data in 1 contiguous segment\n",
      "Setting up band-pass filter from 55 - 95 Hz\n",
      "\n",
      "FIR filter parameters\n",
      "---------------------\n",
      "Designing a one-pass, zero-phase, non-causal bandpass filter:\n",
      "- Windowed time-domain design (firwin) method\n",
      "- Hamming window with 0.0194 passband ripple and 53 dB stopband attenuation\n",
      "- Lower passband edge: 55.00\n",
      "- Lower transition bandwidth: 13.75 Hz (-6 dB cutoff frequency: 48.12 Hz)\n",
      "- Upper passband edge: 95.00 Hz\n",
      "- Upper transition bandwidth: 23.75 Hz (-6 dB cutoff frequency: 106.88 Hz)\n",
      "- Filter length: 1153 samples (0.240 s)\n",
      "\n"
     ]
    },
    {
     "name": "stderr",
     "output_type": "stream",
     "text": [
      "[Parallel(n_jobs=1)]: Done  17 tasks      | elapsed:    0.2s\n"
     ]
    },
    {
     "name": "stdout",
     "output_type": "stream",
     "text": [
      "Filtering raw data in 1 contiguous segment\n",
      "Setting up band-pass filter from 55 - 95 Hz\n",
      "\n",
      "FIR filter parameters\n",
      "---------------------\n",
      "Designing a one-pass, zero-phase, non-causal bandpass filter:\n",
      "- Windowed time-domain design (firwin) method\n",
      "- Hamming window with 0.0194 passband ripple and 53 dB stopband attenuation\n",
      "- Lower passband edge: 55.00\n",
      "- Lower transition bandwidth: 13.75 Hz (-6 dB cutoff frequency: 48.12 Hz)\n",
      "- Upper passband edge: 95.00 Hz\n",
      "- Upper transition bandwidth: 23.75 Hz (-6 dB cutoff frequency: 106.88 Hz)\n",
      "- Filter length: 1153 samples (0.240 s)\n",
      "\n"
     ]
    },
    {
     "name": "stderr",
     "output_type": "stream",
     "text": [
      "[Parallel(n_jobs=1)]: Done  17 tasks      | elapsed:    0.2s\n"
     ]
    },
    {
     "name": "stdout",
     "output_type": "stream",
     "text": [
      "Filtering raw data in 1 contiguous segment\n",
      "Setting up band-pass filter from 55 - 95 Hz\n",
      "\n",
      "FIR filter parameters\n",
      "---------------------\n",
      "Designing a one-pass, zero-phase, non-causal bandpass filter:\n",
      "- Windowed time-domain design (firwin) method\n",
      "- Hamming window with 0.0194 passband ripple and 53 dB stopband attenuation\n",
      "- Lower passband edge: 55.00\n",
      "- Lower transition bandwidth: 13.75 Hz (-6 dB cutoff frequency: 48.12 Hz)\n",
      "- Upper passband edge: 95.00 Hz\n",
      "- Upper transition bandwidth: 23.75 Hz (-6 dB cutoff frequency: 106.88 Hz)\n",
      "- Filter length: 1153 samples (0.240 s)\n",
      "\n"
     ]
    },
    {
     "name": "stderr",
     "output_type": "stream",
     "text": [
      "[Parallel(n_jobs=1)]: Done  17 tasks      | elapsed:    0.2s\n"
     ]
    },
    {
     "name": "stdout",
     "output_type": "stream",
     "text": [
      "Filtering raw data in 1 contiguous segment\n",
      "Setting up band-pass filter from 55 - 95 Hz\n",
      "\n",
      "FIR filter parameters\n",
      "---------------------\n",
      "Designing a one-pass, zero-phase, non-causal bandpass filter:\n",
      "- Windowed time-domain design (firwin) method\n",
      "- Hamming window with 0.0194 passband ripple and 53 dB stopband attenuation\n",
      "- Lower passband edge: 55.00\n",
      "- Lower transition bandwidth: 13.75 Hz (-6 dB cutoff frequency: 48.12 Hz)\n",
      "- Upper passband edge: 95.00 Hz\n",
      "- Upper transition bandwidth: 23.75 Hz (-6 dB cutoff frequency: 106.88 Hz)\n",
      "- Filter length: 1153 samples (0.240 s)\n",
      "\n"
     ]
    },
    {
     "name": "stderr",
     "output_type": "stream",
     "text": [
      "[Parallel(n_jobs=1)]: Done  17 tasks      | elapsed:    0.2s\n"
     ]
    },
    {
     "name": "stdout",
     "output_type": "stream",
     "text": [
      "Filtering raw data in 1 contiguous segment\n",
      "Setting up band-pass filter from 55 - 95 Hz\n",
      "\n",
      "FIR filter parameters\n",
      "---------------------\n",
      "Designing a one-pass, zero-phase, non-causal bandpass filter:\n",
      "- Windowed time-domain design (firwin) method\n",
      "- Hamming window with 0.0194 passband ripple and 53 dB stopband attenuation\n",
      "- Lower passband edge: 55.00\n",
      "- Lower transition bandwidth: 13.75 Hz (-6 dB cutoff frequency: 48.12 Hz)\n",
      "- Upper passband edge: 95.00 Hz\n",
      "- Upper transition bandwidth: 23.75 Hz (-6 dB cutoff frequency: 106.88 Hz)\n",
      "- Filter length: 1153 samples (0.240 s)\n",
      "\n"
     ]
    },
    {
     "name": "stderr",
     "output_type": "stream",
     "text": [
      "[Parallel(n_jobs=1)]: Done  17 tasks      | elapsed:    0.2s\n"
     ]
    },
    {
     "name": "stdout",
     "output_type": "stream",
     "text": [
      "Filtering raw data in 1 contiguous segment\n",
      "Setting up band-pass filter from 55 - 95 Hz\n",
      "\n",
      "FIR filter parameters\n",
      "---------------------\n",
      "Designing a one-pass, zero-phase, non-causal bandpass filter:\n",
      "- Windowed time-domain design (firwin) method\n",
      "- Hamming window with 0.0194 passband ripple and 53 dB stopband attenuation\n",
      "- Lower passband edge: 55.00\n",
      "- Lower transition bandwidth: 13.75 Hz (-6 dB cutoff frequency: 48.12 Hz)\n",
      "- Upper passband edge: 95.00 Hz\n",
      "- Upper transition bandwidth: 23.75 Hz (-6 dB cutoff frequency: 106.88 Hz)\n",
      "- Filter length: 1153 samples (0.240 s)\n",
      "\n"
     ]
    },
    {
     "name": "stderr",
     "output_type": "stream",
     "text": [
      "[Parallel(n_jobs=1)]: Done  17 tasks      | elapsed:    0.2s\n"
     ]
    },
    {
     "name": "stdout",
     "output_type": "stream",
     "text": [
      "Filtering raw data in 1 contiguous segment\n",
      "Setting up band-pass filter from 55 - 95 Hz\n",
      "\n",
      "FIR filter parameters\n",
      "---------------------\n",
      "Designing a one-pass, zero-phase, non-causal bandpass filter:\n",
      "- Windowed time-domain design (firwin) method\n",
      "- Hamming window with 0.0194 passband ripple and 53 dB stopband attenuation\n",
      "- Lower passband edge: 55.00\n",
      "- Lower transition bandwidth: 13.75 Hz (-6 dB cutoff frequency: 48.12 Hz)\n",
      "- Upper passband edge: 95.00 Hz\n",
      "- Upper transition bandwidth: 23.75 Hz (-6 dB cutoff frequency: 106.88 Hz)\n",
      "- Filter length: 1153 samples (0.240 s)\n",
      "\n"
     ]
    },
    {
     "name": "stderr",
     "output_type": "stream",
     "text": [
      "[Parallel(n_jobs=1)]: Done  17 tasks      | elapsed:    0.2s\n"
     ]
    },
    {
     "name": "stdout",
     "output_type": "stream",
     "text": [
      "Filtering raw data in 1 contiguous segment\n",
      "Setting up band-pass filter from 55 - 95 Hz\n",
      "\n",
      "FIR filter parameters\n",
      "---------------------\n",
      "Designing a one-pass, zero-phase, non-causal bandpass filter:\n",
      "- Windowed time-domain design (firwin) method\n",
      "- Hamming window with 0.0194 passband ripple and 53 dB stopband attenuation\n",
      "- Lower passband edge: 55.00\n",
      "- Lower transition bandwidth: 13.75 Hz (-6 dB cutoff frequency: 48.12 Hz)\n",
      "- Upper passband edge: 95.00 Hz\n",
      "- Upper transition bandwidth: 23.75 Hz (-6 dB cutoff frequency: 106.88 Hz)\n",
      "- Filter length: 1153 samples (0.240 s)\n",
      "\n"
     ]
    },
    {
     "name": "stderr",
     "output_type": "stream",
     "text": [
      "[Parallel(n_jobs=1)]: Done  17 tasks      | elapsed:    0.2s\n"
     ]
    },
    {
     "name": "stdout",
     "output_type": "stream",
     "text": [
      "Filtering raw data in 1 contiguous segment\n",
      "Setting up band-pass filter from 55 - 95 Hz\n",
      "\n",
      "FIR filter parameters\n",
      "---------------------\n",
      "Designing a one-pass, zero-phase, non-causal bandpass filter:\n",
      "- Windowed time-domain design (firwin) method\n",
      "- Hamming window with 0.0194 passband ripple and 53 dB stopband attenuation\n",
      "- Lower passband edge: 55.00\n",
      "- Lower transition bandwidth: 13.75 Hz (-6 dB cutoff frequency: 48.12 Hz)\n",
      "- Upper passband edge: 95.00 Hz\n",
      "- Upper transition bandwidth: 23.75 Hz (-6 dB cutoff frequency: 106.88 Hz)\n",
      "- Filter length: 1153 samples (0.240 s)\n",
      "\n"
     ]
    },
    {
     "name": "stderr",
     "output_type": "stream",
     "text": [
      "[Parallel(n_jobs=1)]: Done  17 tasks      | elapsed:    0.2s\n"
     ]
    },
    {
     "name": "stdout",
     "output_type": "stream",
     "text": [
      "Filtering raw data in 1 contiguous segment\n",
      "Setting up band-pass filter from 55 - 95 Hz\n",
      "\n",
      "FIR filter parameters\n",
      "---------------------\n",
      "Designing a one-pass, zero-phase, non-causal bandpass filter:\n",
      "- Windowed time-domain design (firwin) method\n",
      "- Hamming window with 0.0194 passband ripple and 53 dB stopband attenuation\n",
      "- Lower passband edge: 55.00\n",
      "- Lower transition bandwidth: 13.75 Hz (-6 dB cutoff frequency: 48.12 Hz)\n",
      "- Upper passband edge: 95.00 Hz\n",
      "- Upper transition bandwidth: 23.75 Hz (-6 dB cutoff frequency: 106.88 Hz)\n",
      "- Filter length: 1153 samples (0.240 s)\n",
      "\n"
     ]
    },
    {
     "name": "stderr",
     "output_type": "stream",
     "text": [
      "[Parallel(n_jobs=1)]: Done  17 tasks      | elapsed:    0.2s\n"
     ]
    },
    {
     "name": "stdout",
     "output_type": "stream",
     "text": [
      "Filtering raw data in 1 contiguous segment\n",
      "Setting up band-pass filter from 55 - 95 Hz\n",
      "\n",
      "FIR filter parameters\n",
      "---------------------\n",
      "Designing a one-pass, zero-phase, non-causal bandpass filter:\n",
      "- Windowed time-domain design (firwin) method\n",
      "- Hamming window with 0.0194 passband ripple and 53 dB stopband attenuation\n",
      "- Lower passband edge: 55.00\n",
      "- Lower transition bandwidth: 13.75 Hz (-6 dB cutoff frequency: 48.12 Hz)\n",
      "- Upper passband edge: 95.00 Hz\n",
      "- Upper transition bandwidth: 23.75 Hz (-6 dB cutoff frequency: 106.88 Hz)\n",
      "- Filter length: 1153 samples (0.240 s)\n",
      "\n"
     ]
    },
    {
     "name": "stderr",
     "output_type": "stream",
     "text": [
      "[Parallel(n_jobs=1)]: Done  17 tasks      | elapsed:    0.2s\n"
     ]
    },
    {
     "name": "stdout",
     "output_type": "stream",
     "text": [
      "Filtering raw data in 1 contiguous segment\n",
      "Setting up band-pass filter from 55 - 95 Hz\n",
      "\n",
      "FIR filter parameters\n",
      "---------------------\n",
      "Designing a one-pass, zero-phase, non-causal bandpass filter:\n",
      "- Windowed time-domain design (firwin) method\n",
      "- Hamming window with 0.0194 passband ripple and 53 dB stopband attenuation\n",
      "- Lower passband edge: 55.00\n",
      "- Lower transition bandwidth: 13.75 Hz (-6 dB cutoff frequency: 48.12 Hz)\n",
      "- Upper passband edge: 95.00 Hz\n",
      "- Upper transition bandwidth: 23.75 Hz (-6 dB cutoff frequency: 106.88 Hz)\n",
      "- Filter length: 1153 samples (0.240 s)\n",
      "\n"
     ]
    },
    {
     "name": "stderr",
     "output_type": "stream",
     "text": [
      "[Parallel(n_jobs=1)]: Done  17 tasks      | elapsed:    0.2s\n"
     ]
    },
    {
     "name": "stdout",
     "output_type": "stream",
     "text": [
      "Filtering raw data in 1 contiguous segment\n",
      "Setting up band-pass filter from 55 - 95 Hz\n",
      "\n",
      "FIR filter parameters\n",
      "---------------------\n",
      "Designing a one-pass, zero-phase, non-causal bandpass filter:\n",
      "- Windowed time-domain design (firwin) method\n",
      "- Hamming window with 0.0194 passband ripple and 53 dB stopband attenuation\n",
      "- Lower passband edge: 55.00\n",
      "- Lower transition bandwidth: 13.75 Hz (-6 dB cutoff frequency: 48.12 Hz)\n",
      "- Upper passband edge: 95.00 Hz\n",
      "- Upper transition bandwidth: 23.75 Hz (-6 dB cutoff frequency: 106.88 Hz)\n",
      "- Filter length: 1153 samples (0.240 s)\n",
      "\n"
     ]
    },
    {
     "name": "stderr",
     "output_type": "stream",
     "text": [
      "[Parallel(n_jobs=1)]: Done  17 tasks      | elapsed:    0.2s\n"
     ]
    },
    {
     "name": "stdout",
     "output_type": "stream",
     "text": [
      "Filtering raw data in 1 contiguous segment\n",
      "Setting up band-pass filter from 55 - 95 Hz\n",
      "\n",
      "FIR filter parameters\n",
      "---------------------\n",
      "Designing a one-pass, zero-phase, non-causal bandpass filter:\n",
      "- Windowed time-domain design (firwin) method\n",
      "- Hamming window with 0.0194 passband ripple and 53 dB stopband attenuation\n",
      "- Lower passband edge: 55.00\n",
      "- Lower transition bandwidth: 13.75 Hz (-6 dB cutoff frequency: 48.12 Hz)\n",
      "- Upper passband edge: 95.00 Hz\n",
      "- Upper transition bandwidth: 23.75 Hz (-6 dB cutoff frequency: 106.88 Hz)\n",
      "- Filter length: 1153 samples (0.240 s)\n",
      "\n"
     ]
    },
    {
     "name": "stderr",
     "output_type": "stream",
     "text": [
      "[Parallel(n_jobs=1)]: Done  17 tasks      | elapsed:    0.2s\n"
     ]
    },
    {
     "name": "stdout",
     "output_type": "stream",
     "text": [
      "Filtering raw data in 1 contiguous segment\n",
      "Setting up band-pass filter from 55 - 95 Hz\n",
      "\n",
      "FIR filter parameters\n",
      "---------------------\n",
      "Designing a one-pass, zero-phase, non-causal bandpass filter:\n",
      "- Windowed time-domain design (firwin) method\n",
      "- Hamming window with 0.0194 passband ripple and 53 dB stopband attenuation\n",
      "- Lower passband edge: 55.00\n",
      "- Lower transition bandwidth: 13.75 Hz (-6 dB cutoff frequency: 48.12 Hz)\n",
      "- Upper passband edge: 95.00 Hz\n",
      "- Upper transition bandwidth: 23.75 Hz (-6 dB cutoff frequency: 106.88 Hz)\n",
      "- Filter length: 1153 samples (0.240 s)\n",
      "\n"
     ]
    },
    {
     "name": "stderr",
     "output_type": "stream",
     "text": [
      "[Parallel(n_jobs=1)]: Done  17 tasks      | elapsed:    0.2s\n"
     ]
    },
    {
     "name": "stdout",
     "output_type": "stream",
     "text": [
      "Filtering raw data in 1 contiguous segment\n",
      "Setting up band-pass filter from 55 - 95 Hz\n",
      "\n",
      "FIR filter parameters\n",
      "---------------------\n",
      "Designing a one-pass, zero-phase, non-causal bandpass filter:\n",
      "- Windowed time-domain design (firwin) method\n",
      "- Hamming window with 0.0194 passband ripple and 53 dB stopband attenuation\n",
      "- Lower passband edge: 55.00\n",
      "- Lower transition bandwidth: 13.75 Hz (-6 dB cutoff frequency: 48.12 Hz)\n",
      "- Upper passband edge: 95.00 Hz\n",
      "- Upper transition bandwidth: 23.75 Hz (-6 dB cutoff frequency: 106.88 Hz)\n",
      "- Filter length: 1153 samples (0.240 s)\n",
      "\n"
     ]
    },
    {
     "name": "stderr",
     "output_type": "stream",
     "text": [
      "[Parallel(n_jobs=1)]: Done  17 tasks      | elapsed:    0.2s\n"
     ]
    },
    {
     "name": "stdout",
     "output_type": "stream",
     "text": [
      "Filtering raw data in 1 contiguous segment\n",
      "Setting up band-pass filter from 55 - 95 Hz\n",
      "\n",
      "FIR filter parameters\n",
      "---------------------\n",
      "Designing a one-pass, zero-phase, non-causal bandpass filter:\n",
      "- Windowed time-domain design (firwin) method\n",
      "- Hamming window with 0.0194 passband ripple and 53 dB stopband attenuation\n",
      "- Lower passband edge: 55.00\n",
      "- Lower transition bandwidth: 13.75 Hz (-6 dB cutoff frequency: 48.12 Hz)\n",
      "- Upper passband edge: 95.00 Hz\n",
      "- Upper transition bandwidth: 23.75 Hz (-6 dB cutoff frequency: 106.88 Hz)\n",
      "- Filter length: 1153 samples (0.240 s)\n",
      "\n"
     ]
    },
    {
     "name": "stderr",
     "output_type": "stream",
     "text": [
      "[Parallel(n_jobs=1)]: Done  17 tasks      | elapsed:    0.2s\n"
     ]
    },
    {
     "name": "stdout",
     "output_type": "stream",
     "text": [
      "Filtering raw data in 1 contiguous segment\n",
      "Setting up band-pass filter from 55 - 95 Hz\n",
      "\n",
      "FIR filter parameters\n",
      "---------------------\n",
      "Designing a one-pass, zero-phase, non-causal bandpass filter:\n",
      "- Windowed time-domain design (firwin) method\n",
      "- Hamming window with 0.0194 passband ripple and 53 dB stopband attenuation\n",
      "- Lower passband edge: 55.00\n",
      "- Lower transition bandwidth: 13.75 Hz (-6 dB cutoff frequency: 48.12 Hz)\n",
      "- Upper passband edge: 95.00 Hz\n",
      "- Upper transition bandwidth: 23.75 Hz (-6 dB cutoff frequency: 106.88 Hz)\n",
      "- Filter length: 1153 samples (0.240 s)\n",
      "\n"
     ]
    },
    {
     "name": "stderr",
     "output_type": "stream",
     "text": [
      "[Parallel(n_jobs=1)]: Done  17 tasks      | elapsed:    0.2s\n"
     ]
    }
   ],
   "source": [
    "def make_R_table(series):\n",
    "    R_table = []\n",
    "    for raw in series:\n",
    "        band = [55, 95] # high gamma band: 55-95 Hz\n",
    "        eeg = raw.filter(band[0], band[1]).get_data()[1:32,:]\n",
    "        R = funcs.synchrony_R(eeg)\n",
    "        R_table.append(R)\n",
    "\n",
    "    return R_table\n",
    "\n",
    "pre_sham_series = subjects_rest_eeg[subjects_rest_eeg['Condition'] == 'Sham']['pre']\n",
    "post_sham_series = subjects_rest_eeg[subjects_rest_eeg['Condition'] == 'Sham']['post']\n",
    "pre_active_series = subjects_rest_eeg[subjects_rest_eeg['Condition'] == 'Active']['pre']\n",
    "post_active_series = subjects_rest_eeg[subjects_rest_eeg['Condition'] == 'Active']['post']\n",
    "\n",
    "presham = make_R_table(pre_sham_series)\n",
    "postsham = make_R_table(post_sham_series)\n",
    "preactive = make_R_table(pre_active_series)\n",
    "postactive = make_R_table(post_active_series)\n",
    "\n",
    "# 5m 46.8s"
   ]
  },
  {
   "cell_type": "code",
   "execution_count": 6,
   "metadata": {},
   "outputs": [
    {
     "name": "stderr",
     "output_type": "stream",
     "text": [
      "The PostScript backend does not support transparency; partially transparent artists will be rendered opaque.\n"
     ]
    },
    {
     "name": "stdout",
     "output_type": "stream",
     "text": [
      "removed 1 outliers out of 13\n",
      "\n",
      "removed 0 outliers out of 13\n",
      "\n",
      "removed 0 outliers out of 13\n",
      "\n",
      "removed 0 outliers out of 13\n",
      "\n",
      "\n",
      "Pre-sham vs. Post-sham: p = 0.8187286846379713\n",
      "\n",
      "Pre-active vs. Post-active: p = 0.5332136149481426\n",
      "\n",
      "Pre-sham vs. Pre-active: p = 0.05467784964230809\n",
      "\n",
      "Post-sham vs. Post-active: p = 0.4461299892305668\n"
     ]
    },
    {
     "data": {
      "image/png": "[encoded data removed]",
      "text/plain": [
       "<Figure size 236.22x236.22 with 1 Axes>"
      ]
     },
     "metadata": {},
     "output_type": "display_data"
    }
   ],
   "source": [
    "pre_sham = funcs.remove_outliers(np.array(presham), low_k=5, high_k=5, verbose=True)\n",
    "post_sham = funcs.remove_outliers(np.array(postsham), low_k=5, high_k=5, verbose=True)\n",
    "pre_active = funcs.remove_outliers(np.array(preactive), low_k=5, high_k=5, verbose=True)\n",
    "post_active = funcs.remove_outliers(np.array(postactive), low_k=5, high_k=5, verbose=True)\n",
    "\n",
    "means = [np.mean(pre_sham), np.mean(post_sham), np.mean(pre_active), np.mean(post_active)]\n",
    "\n",
    "multiplier = 1   # 95% confidence interval\n",
    "std_errors = [\n",
    "    multiplier*np.std(pre_sham) / np.sqrt(len(pre_sham)), multiplier*np.std(post_sham) / np.sqrt(len(post_sham)),\n",
    "    multiplier*np.std(pre_active) / np.sqrt(len(pre_active)), multiplier*np.std(post_active) / np.sqrt(len(post_active))\n",
    "]\n",
    "\n",
    "# Calculate t-tests\n",
    "_, p_sham = stats.ttest_ind(pre_sham, post_sham)\n",
    "_, p_real = stats.ttest_ind(pre_active, post_active)\n",
    "_, p_pre = stats.ttest_ind(pre_sham, pre_active)\n",
    "_, p_post = stats.ttest_ind(post_sham, post_active)\n",
    "\n",
    "print(f\"\\nPre-sham vs. Post-sham: p = {p_sham}\")\n",
    "print(f\"\\nPre-active vs. Post-active: p = {p_real}\")\n",
    "print(f\"\\nPre-sham vs. Pre-active: p = {p_pre}\")\n",
    "print(f\"\\nPost-sham vs. Post-active: p = {p_post}\")\n",
    "\n",
    "# Bar chart\n",
    "labels = ['Pre-\\nsham', 'Post-\\nsham', 'Pre-\\nactive', 'Post-\\nactive']\n",
    "colors = ['lightblue', 'blue', 'lightcoral', 'red']\n",
    "\n",
    "# Plotting\n",
    "cm = 1/2.54  # centimeters in inches\n",
    "fig, ax = plt.subplots(figsize=(6*cm, 6*cm))\n",
    "\n",
    "# Plotting error bars\n",
    "for i in range(4):\n",
    "    ax.bar(labels[i], means[i], yerr=std_errors[i], color=colors[i], capsize=5, alpha=0.9)\n",
    "\n",
    "# Add some additional formatting if desired\n",
    "ax.set_ylabel('R-value')\n",
    "# ax.set_title(case)\n",
    "ax.set_ylim([0.1, 0.2])  # Adjust as needed\n",
    "# ax.set_yticks([0.5, 1.0, 1.5])\n",
    "matplotlib.rcParams.update({'font.size': 9})\n",
    "\n",
    "# Adjust layout and margins\n",
    "plt.tight_layout(pad=1.0)\n",
    "# plt.title('Frontal cluster', pad=6)\n",
    "fig.subplots_adjust(left=0.24, bottom=0.15, right=0.98, top=0.95)\n",
    "# save_path = os.path.join('..', '..', '..', 'paper', 'excind', 'R_rest.eps')\n",
    "# plt.savefig(save_path, format='eps')\n",
    "# save_path = os.path.join('..', '..', '..', 'paper', 'excind', 'R_rest.png')\n",
    "# plt.savefig(save_path, format='png', dpi=600)\n",
    "plt.show()"
   ]
  },
  {
   "cell_type": "code",
   "execution_count": 9,
   "metadata": {},
   "outputs": [
    {
     "name": "stderr",
     "output_type": "stream",
     "text": [
      "C:\\Users\\Tianyi Zheng\\AppData\\Local\\Temp\\ipykernel_19588\\4291551686.py:11: FutureWarning: The behavior of DataFrame concatenation with empty or all-NA entries is deprecated. In a future version, this will no longer exclude empty or all-NA columns when determining the result dtypes. To retain the old behavior, exclude the relevant entries before the concat operation.\n",
      "  df = pd.concat([df, new_rows], ignore_index=True)\n"
     ]
    },
    {
     "data": {
      "text/html": [
       "<div>\n",
       "<style scoped>\n",
       "    .dataframe tbody tr th:only-of-type {\n",
       "        vertical-align: middle;\n",
       "    }\n",
       "\n",
       "    .dataframe tbody tr th {\n",
       "        vertical-align: top;\n",
       "    }\n",
       "\n",
       "    .dataframe thead th {\n",
       "        text-align: right;\n",
       "    }\n",
       "</style>\n",
       "<table border=\"1\" class=\"dataframe\">\n",
       "  <thead>\n",
       "    <tr style=\"text-align: right;\">\n",
       "      <th></th>\n",
       "      <th>sum_sq</th>\n",
       "      <th>df</th>\n",
       "      <th>F</th>\n",
       "      <th>PR(&gt;F)</th>\n",
       "      <th>eta_sq</th>\n",
       "      <th>p</th>\n",
       "      <th>mod eta_sq</th>\n",
       "    </tr>\n",
       "  </thead>\n",
       "  <tbody>\n",
       "    <tr>\n",
       "      <th>C(condition)</th>\n",
       "      <td>0.006773</td>\n",
       "      <td>1.0</td>\n",
       "      <td>3.153812</td>\n",
       "      <td>0.082224</td>\n",
       "      <td>0.062509</td>\n",
       "      <td>0.087456</td>\n",
       "      <td>1.279039</td>\n",
       "    </tr>\n",
       "    <tr>\n",
       "      <th>C(task_time)</th>\n",
       "      <td>0.000042</td>\n",
       "      <td>1.0</td>\n",
       "      <td>0.019338</td>\n",
       "      <td>0.889995</td>\n",
       "      <td>0.000383</td>\n",
       "      <td>0.890473</td>\n",
       "      <td>0.007843</td>\n",
       "    </tr>\n",
       "    <tr>\n",
       "      <th>C(condition):C(task_time)</th>\n",
       "      <td>0.000602</td>\n",
       "      <td>1.0</td>\n",
       "      <td>0.280240</td>\n",
       "      <td>0.599036</td>\n",
       "      <td>0.005554</td>\n",
       "      <td>0.601035</td>\n",
       "      <td>0.113652</td>\n",
       "    </tr>\n",
       "    <tr>\n",
       "      <th>Residual</th>\n",
       "      <td>0.100931</td>\n",
       "      <td>47.0</td>\n",
       "      <td>NaN</td>\n",
       "      <td>NaN</td>\n",
       "      <td>0.931553</td>\n",
       "      <td>NaN</td>\n",
       "      <td>19.061005</td>\n",
       "    </tr>\n",
       "  </tbody>\n",
       "</table>\n",
       "</div>"
      ],
      "text/plain": [
       "                             sum_sq    df         F    PR(>F)    eta_sq  \\\n",
       "C(condition)               0.006773   1.0  3.153812  0.082224  0.062509   \n",
       "C(task_time)               0.000042   1.0  0.019338  0.889995  0.000383   \n",
       "C(condition):C(task_time)  0.000602   1.0  0.280240  0.599036  0.005554   \n",
       "Residual                   0.100931  47.0       NaN       NaN  0.931553   \n",
       "\n",
       "                                  p  mod eta_sq  \n",
       "C(condition)               0.087456    1.279039  \n",
       "C(task_time)               0.890473    0.007843  \n",
       "C(condition):C(task_time)  0.601035    0.113652  \n",
       "Residual                        NaN   19.061005  "
      ]
     },
     "execution_count": 9,
     "metadata": {},
     "output_type": "execute_result"
    }
   ],
   "source": [
    "# ANOVA\n",
    "def make_anova_table(pre_sham, post_sham, pre_active, post_active, difficulty):\n",
    "    df = pd.DataFrame(columns=['condition', 'task_time', 'difficulty', 'reaction_time'])\n",
    "    # Create a new DataFrame for the new rows to be inserted\n",
    "    new_rows = pd.DataFrame({\n",
    "        'condition': ['sham'] * len(pre_sham),    # Repeat 'sham' for the length of rt_sham_before\n",
    "        'task_time': ['pre'] * len(pre_sham),   # Repeat 'pre' for the same length\n",
    "        'difficulty': [difficulty] * len(pre_sham),  # Repeat 'endo valid' for the same length\n",
    "        'reaction_time': pre_sham                        # Reaction times\n",
    "    })\n",
    "    df = pd.concat([df, new_rows], ignore_index=True)\n",
    "\n",
    "    new_rows = pd.DataFrame({\n",
    "        'condition': ['sham'] * len(post_sham),    # Repeat 'sham' for the length of rt_sham_before\n",
    "        'task_time': ['post'] * len(post_sham),   # Repeat 'pre' for the same length\n",
    "        'difficulty': [difficulty] * len(post_sham),  # Repeat 'endo valid' for the same length\n",
    "        'reaction_time': post_sham                        # Reaction times\n",
    "    })\n",
    "    df = pd.concat([df, new_rows], ignore_index=True)\n",
    "\n",
    "    new_rows = pd.DataFrame({\n",
    "        'condition': ['active'] * len(pre_active),    # Repeat 'sham' for the length of rt_sham_before\n",
    "        'task_time': ['pre'] * len(pre_active),   # Repeat 'pre' for the same length\n",
    "        'difficulty': [difficulty] * len(pre_active),  # Repeat 'endo valid' for the same length\n",
    "        'reaction_time': pre_active                        # Reaction times\n",
    "    })\n",
    "    df = pd.concat([df, new_rows], ignore_index=True)\n",
    "\n",
    "    new_rows = pd.DataFrame({\n",
    "        'condition': ['active'] * len(post_active),    # Repeat 'sham' for the length of rt_sham_before\n",
    "        'task_time': ['post'] * len(post_active),   # Repeat 'pre' for the same length\n",
    "        'difficulty': [difficulty] * len(post_active),  # Repeat 'endo valid' for the same length\n",
    "        'reaction_time': post_active                        # Reaction times\n",
    "    })\n",
    "    df = pd.concat([df, new_rows], ignore_index=True)\n",
    "\n",
    "    return df\n",
    "\n",
    "\n",
    "def fvalue_to_p(fvalue, df_num, df_denom):\n",
    "    return 1 - stats.f.cdf(fvalue, df_num, df_denom)\n",
    "\n",
    "\n",
    "anova_table = make_anova_table(pre_sham, post_sham, pre_active, post_active, 'rest')\n",
    "# Assuming df is your DataFrame\n",
    "# Ensure correct data types\n",
    "# anova_table['reaction_time'] = anova_table['reaction_time'].astype('int')\n",
    "\n",
    "anova_table['condition'] = anova_table['condition'].astype('category')\n",
    "anova_table['task_time'] = anova_table['task_time'].astype('category')\n",
    "\n",
    "\n",
    "# Fit the model\n",
    "model = ols('reaction_time ~ C(condition) * C(task_time)', data=anova_table).fit()\n",
    "\n",
    "# Perform ANOVAs\n",
    "anova_results = anova_lm(model, typ=2)  # Using Type II Sum of Squares\n",
    "\n",
    "# Calculate Eta Squared\n",
    "anova_results['eta_sq'] = anova_results['sum_sq'] / sum(anova_results['sum_sq'])\n",
    "anova_results['p'] = anova_results.apply(lambda row: fvalue_to_p(row['F'], row['df'], 26), axis=1)\n",
    "anova_results['mod eta_sq'] = anova_results.apply(lambda row: row['eta_sq']*(532/26), axis=1)\n",
    "\n",
    "anova_results"
   ]
  }
 ],
 "metadata": {
  "kernelspec": {
   "display_name": "brain",
   "language": "python",
   "name": "python3"
  },
  "language_info": {
   "codemirror_mode": {
    "name": "ipython",
    "version": 3
   },
   "file_extension": ".py",
   "mimetype": "text/x-python",
   "name": "python",
   "nbconvert_exporter": "python",
   "pygments_lexer": "ipython3",
   "version": "3.11.8"
  }
 },
 "nbformat": 4,
 "nbformat_minor": 2
}
