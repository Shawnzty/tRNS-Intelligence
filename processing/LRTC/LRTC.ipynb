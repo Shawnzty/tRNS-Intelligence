{
 "cells": [
  {
   "cell_type": "markdown",
   "metadata": {},
   "source": [
    "## currently using DOWNSAMPLING TO 600"
   ]
  },
  {
   "cell_type": "code",
   "execution_count": 1,
   "metadata": {},
   "outputs": [
    {
     "name": "stderr",
     "output_type": "stream",
     "text": [
      "C:\\Users\\Tianyi Zheng\\AppData\\Local\\Temp\\ipykernel_23636\\1644134389.py:11: DeprecationWarning: the imp module is deprecated in favour of importlib and slated for removal in Python 3.12; see the module's documentation for alternative uses\n",
      "  import imp\n"
     ]
    },
    {
     "data": {
      "text/plain": [
       "<module 'funcs' from 'c:\\\\Users\\\\Tianyi Zheng\\\\OneDrive - neuron.t.u-tokyo.ac.jp\\\\Documents\\\\zheng\\\\mywork\\\\intelligence_tRNS\\\\tRNS-Intelligence\\\\processing\\\\funcs.py'>"
      ]
     },
     "execution_count": 1,
     "metadata": {},
     "output_type": "execute_result"
    }
   ],
   "source": [
    "import sys\n",
    "import os\n",
    "sys.path.insert(0, os.path.abspath('..'))\n",
    "import matplotlib.pyplot as plt\n",
    "import matplotlib\n",
    "import numpy as np\n",
    "import pandas as pd\n",
    "import seaborn as sns\n",
    "from scipy import stats\n",
    "import funcs\n",
    "import imp\n",
    "import random\n",
    "import mne\n",
    "from scipy.signal import hilbert\n",
    "imp.reload(funcs)"
   ]
  },
  {
   "cell_type": "code",
   "execution_count": 2,
   "metadata": {},
   "outputs": [],
   "source": [
    "load_path = os.path.join('..', '..', '..', 'data', 'subjects_behavior_eeg.pkl')\n",
    "subjects_behavior_eeg = pd.read_pickle(load_path)"
   ]
  },
  {
   "cell_type": "code",
   "execution_count": 3,
   "metadata": {},
   "outputs": [
    {
     "name": "stdout",
     "output_type": "stream",
     "text": [
      "[1.04496453 1.00522709 1.02358636 1.02203633 0.95712274 0.79136061\n",
      " 0.88333357 0.82572805 1.04585212 0.8161113  0.84190983 0.99592803\n",
      " 0.85651002 1.04958546 0.99444387 0.93155081 1.07036007 1.07807507\n",
      " 1.10251861 0.9864539  1.07938193 1.14588222 1.11731301 1.05214577\n",
      " 1.02399526 1.14929858 1.28111092 0.99965923 1.01657624 0.9877281\n",
      " 1.01567291]\n"
     ]
    }
   ],
   "source": [
    "df_idx = 40\n",
    "raw = subjects_behavior_eeg.at[df_idx, 'raw']\n",
    "eeg = raw.get_data()[1:32,:]\n",
    "alpha = np.zeros((eeg.shape[0]))\n",
    "for channel in range(eeg.shape[0]):\n",
    "    alpha[channel] = funcs.dfa_alpha(eeg[channel,:])\n",
    "\n",
    "print(alpha)"
   ]
  },
  {
   "cell_type": "code",
   "execution_count": 11,
   "metadata": {},
   "outputs": [
    {
     "name": "stdout",
     "output_type": "stream",
     "text": [
      "Trigger channel question has a non-zero initial value of {initial_value} (consider using initial_event=True to detect this event)\n",
      "1 event found on stim channel response\n",
      "Event IDs: [1]\n",
      "Trigger channel question has a non-zero initial value of {initial_value} (consider using initial_event=True to detect this event)\n",
      "1 event found on stim channel response\n",
      "Event IDs: [1]\n",
      "[0.71617225 0.80807354 1.12032442 1.03503808 0.52437481 0.7058451\n",
      " 1.21207169 1.31855635 1.0773752  0.53216448 0.86848359 0.80060555\n",
      " 0.70958145 0.32243486 0.4053409  0.9203173  0.6070731  0.41576426\n",
      " 0.31500543 0.770991   0.68771823 0.39252891 0.38196713 0.58328771\n",
      " 0.79928378 0.62990792 0.45644375 0.77833347 0.85839239 0.8510085\n",
      " 0.91219643]\n"
     ]
    }
   ],
   "source": [
    "df_idx = 40\n",
    "raw = subjects_behavior_eeg.at[df_idx, 'raw']\n",
    "raw_downsampled = raw.copy().resample(600)\n",
    "eeg = raw_downsampled.get_data()[1:32,:]\n",
    "alpha = np.zeros((eeg.shape[0]))\n",
    "for channel in range(eeg.shape[0]):\n",
    "    alpha[channel] = funcs.dfa_alpha(eeg[channel,:])\n",
    "\n",
    "print(alpha)"
   ]
  }
 ],
 "metadata": {
  "kernelspec": {
   "display_name": "brain",
   "language": "python",
   "name": "python3"
  },
  "language_info": {
   "codemirror_mode": {
    "name": "ipython",
    "version": 3
   },
   "file_extension": ".py",
   "mimetype": "text/x-python",
   "name": "python",
   "nbconvert_exporter": "python",
   "pygments_lexer": "ipython3",
   "version": "3.11.6"
  }
 },
 "nbformat": 4,
 "nbformat_minor": 2
}
