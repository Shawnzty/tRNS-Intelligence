{
 "cells": [
  {
   "cell_type": "markdown",
   "metadata": {},
   "source": [
    "## currently DOWNSAMPLED TO 600"
   ]
  },
  {
   "cell_type": "code",
   "execution_count": 1,
   "metadata": {},
   "outputs": [
    {
     "name": "stderr",
     "output_type": "stream",
     "text": [
      "C:\\Users\\Tianyi Zheng\\AppData\\Local\\Temp\\ipykernel_14808\\3916662429.py:11: DeprecationWarning: the imp module is deprecated in favour of importlib and slated for removal in Python 3.12; see the module's documentation for alternative uses\n",
      "  import imp\n"
     ]
    },
    {
     "data": {
      "text/plain": [
       "<module 'funcs' from 'c:\\\\Users\\\\Tianyi Zheng\\\\OneDrive - neuron.t.u-tokyo.ac.jp\\\\Documents\\\\zheng\\\\mywork\\\\intelligence_tRNS\\\\tRNS-Intelligence\\\\processing\\\\funcs.py'>"
      ]
     },
     "execution_count": 1,
     "metadata": {},
     "output_type": "execute_result"
    }
   ],
   "source": [
    "import sys\n",
    "import os\n",
    "sys.path.insert(0, os.path.abspath('..'))\n",
    "import matplotlib.pyplot as plt\n",
    "import matplotlib\n",
    "import numpy as np\n",
    "import pandas as pd\n",
    "import seaborn as sns\n",
    "from scipy import stats\n",
    "import funcs\n",
    "import imp\n",
    "import random\n",
    "import mne\n",
    "imp.reload(funcs)"
   ]
  },
  {
   "cell_type": "code",
   "execution_count": 2,
   "metadata": {},
   "outputs": [
    {
     "name": "stderr",
     "output_type": "stream",
     "text": [
      "c:\\Users\\Tianyi Zheng\\OneDrive - neuron.t.u-tokyo.ac.jp\\Documents\\zheng\\mywork\\intelligence_tRNS\\tRNS-Intelligence\\processing\\funcs.py:49: FutureWarning: The behavior of DataFrame concatenation with empty or all-NA entries is deprecated. In a future version, this will no longer exclude empty or all-NA columns when determining the result dtypes. To retain the old behavior, exclude the relevant entries before the concat operation.\n",
      "  subjects_behavior = pd.concat([subjects_behavior, one_behavior], ignore_index=True)\n"
     ]
    }
   ],
   "source": [
    "exp_info = funcs.load_info()\n",
    "subjects_behavior_alpha = funcs.load_subjects_behavior()\n",
    "subjects_behavior_alpha[\"alpha\"] = None\n",
    "\n",
    "load_path = os.path.join('..', '..', '..', 'data', 'subjects_behavior_eeg.pkl')\n",
    "subjects_behavior_eeg = pd.read_pickle(load_path)"
   ]
  },
  {
   "cell_type": "code",
   "execution_count": 3,
   "metadata": {},
   "outputs": [
    {
     "name": "stdout",
     "output_type": "stream",
     "text": [
      "subject id: 1 task time: pre question: A2\n",
      "Trigger channel question has a non-zero initial value of {initial_value} (consider using initial_event=True to detect this event)\n",
      "1 event found on stim channel response\n",
      "Event IDs: [1]\n",
      "Trigger channel question has a non-zero initial value of {initial_value} (consider using initial_event=True to detect this event)\n",
      "1 event found on stim channel response\n",
      "Event IDs: [1]\n",
      "subject id: 1 task time: pre question: A4\n",
      "Trigger channel question has a non-zero initial value of {initial_value} (consider using initial_event=True to detect this event)\n",
      "1 event found on stim channel response\n",
      "Event IDs: [1]\n",
      "Trigger channel question has a non-zero initial value of {initial_value} (consider using initial_event=True to detect this event)\n",
      "1 event found on stim channel response\n",
      "Event IDs: [1]\n",
      "subject id: 1 task time: pre question: A5\n",
      "Trigger channel question has a non-zero initial value of {initial_value} (consider using initial_event=True to detect this event)\n",
      "1 event found on stim channel response\n",
      "Event IDs: [1]\n",
      "Trigger channel question has a non-zero initial value of {initial_value} (consider using initial_event=True to detect this event)\n",
      "1 event found on stim channel response\n",
      "Event IDs: [1]\n",
      "subject id: 1 task time: pre question: A8\n",
      "Trigger channel question has a non-zero initial value of {initial_value} (consider using initial_event=True to detect this event)\n",
      "1 event found on stim channel response\n",
      "Event IDs: [1]\n",
      "Trigger channel question has a non-zero initial value of {initial_value} (consider using initial_event=True to detect this event)\n",
      "1 event found on stim channel response\n",
      "Event IDs: [1]\n"
     ]
    },
    {
     "ename": "KeyboardInterrupt",
     "evalue": "",
     "output_type": "error",
     "traceback": [
      "\u001b[1;31m---------------------------------------------------------------------------\u001b[0m",
      "\u001b[1;31mKeyboardInterrupt\u001b[0m                         Traceback (most recent call last)",
      "Cell \u001b[1;32mIn[3], line 14\u001b[0m\n\u001b[0;32m     12\u001b[0m alpha \u001b[38;5;241m=\u001b[39m np\u001b[38;5;241m.\u001b[39mzeros((eeg\u001b[38;5;241m.\u001b[39mshape[\u001b[38;5;241m0\u001b[39m]))\n\u001b[0;32m     13\u001b[0m \u001b[38;5;28;01mfor\u001b[39;00m channel \u001b[38;5;129;01min\u001b[39;00m \u001b[38;5;28mrange\u001b[39m(eeg\u001b[38;5;241m.\u001b[39mshape[\u001b[38;5;241m0\u001b[39m]):\n\u001b[1;32m---> 14\u001b[0m     alpha[channel] \u001b[38;5;241m=\u001b[39m \u001b[43mfuncs\u001b[49m\u001b[38;5;241;43m.\u001b[39;49m\u001b[43mdfa_alpha\u001b[49m\u001b[43m(\u001b[49m\u001b[43meeg\u001b[49m\u001b[43m[\u001b[49m\u001b[43mchannel\u001b[49m\u001b[43m,\u001b[49m\u001b[43m:\u001b[49m\u001b[43m]\u001b[49m\u001b[43m)\u001b[49m\n\u001b[0;32m     15\u001b[0m subjects_behavior_alpha\u001b[38;5;241m.\u001b[39mat[idx, \u001b[38;5;124m'\u001b[39m\u001b[38;5;124malpha\u001b[39m\u001b[38;5;124m'\u001b[39m] \u001b[38;5;241m=\u001b[39m alpha\n",
      "File \u001b[1;32mc:\\Users\\Tianyi Zheng\\OneDrive - neuron.t.u-tokyo.ac.jp\\Documents\\zheng\\mywork\\intelligence_tRNS\\tRNS-Intelligence\\processing\\funcs.py:98\u001b[0m, in \u001b[0;36mdfa_alpha\u001b[1;34m(data, min_win, max_win)\u001b[0m\n\u001b[0;32m     96\u001b[0m pydfa \u001b[38;5;241m=\u001b[39m fathon\u001b[38;5;241m.\u001b[39mDFA(dfa_data)\n\u001b[0;32m     97\u001b[0m wins \u001b[38;5;241m=\u001b[39m fu\u001b[38;5;241m.\u001b[39mlinRangeByStep(min_win, max_win)\n\u001b[1;32m---> 98\u001b[0m n,F \u001b[38;5;241m=\u001b[39m \u001b[43mpydfa\u001b[49m\u001b[38;5;241;43m.\u001b[39;49m\u001b[43mcomputeFlucVec\u001b[49m\u001b[43m(\u001b[49m\u001b[43mwins\u001b[49m\u001b[43m,\u001b[49m\u001b[43m \u001b[49m\u001b[43mrevSeg\u001b[49m\u001b[38;5;241;43m=\u001b[39;49m\u001b[38;5;28;43;01mTrue\u001b[39;49;00m\u001b[43m,\u001b[49m\u001b[43m \u001b[49m\u001b[43mpolOrd\u001b[49m\u001b[38;5;241;43m=\u001b[39;49m\u001b[38;5;241;43m3\u001b[39;49m\u001b[43m)\u001b[49m\n\u001b[0;32m     99\u001b[0m H, H_intercept \u001b[38;5;241m=\u001b[39m pydfa\u001b[38;5;241m.\u001b[39mfitFlucVec()\n\u001b[0;32m    100\u001b[0m \u001b[38;5;28;01mreturn\u001b[39;00m H\n",
      "\u001b[1;31mKeyboardInterrupt\u001b[0m: "
     ]
    }
   ],
   "source": [
    "for idx in range (subjects_behavior_eeg.shape[0]):\n",
    "    if subjects_behavior_eeg.at[idx, 'raw'] != None:\n",
    "        subject_id = subjects_behavior_eeg.at[idx, 'subject id']\n",
    "        tasktime = subjects_behavior_eeg.at[idx, 'task time']\n",
    "        question = subjects_behavior_eeg.at[idx, 'question']\n",
    "        print('subject id: ' + str(subject_id) + ' task time: ' + str(tasktime) + ' question: ' + str(question))\n",
    "        \n",
    "        raw = subjects_behavior_eeg.at[idx, 'raw']\n",
    "        raw_downsampled = raw.copy().resample(600)\n",
    "        eeg = raw_downsampled.get_data()[1:32,:]\n",
    "        eeg = raw.get_data()[1:32,:]\n",
    "        alpha = np.zeros((eeg.shape[0]))\n",
    "        for channel in range(eeg.shape[0]):\n",
    "            alpha[channel] = funcs.dfa_alpha(eeg[channel,:])\n",
    "        subjects_behavior_alpha.at[idx, 'alpha'] = alpha"
   ]
  },
  {
   "cell_type": "code",
   "execution_count": null,
   "metadata": {},
   "outputs": [],
   "source": [
    "save_path = os.path.join('..', '..', '..', 'data', 'subjects_behavior_alpha.pkl')\n",
    "subjects_behavior_alpha.to_pickle(save_path)"
   ]
  }
 ],
 "metadata": {
  "kernelspec": {
   "display_name": "brain",
   "language": "python",
   "name": "python3"
  },
  "language_info": {
   "codemirror_mode": {
    "name": "ipython",
    "version": 3
   },
   "file_extension": ".py",
   "mimetype": "text/x-python",
   "name": "python",
   "nbconvert_exporter": "python",
   "pygments_lexer": "ipython3",
   "version": "3.11.6"
  }
 },
 "nbformat": 4,
 "nbformat_minor": 2
}
