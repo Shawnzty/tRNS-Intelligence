{
 "cells": [
  {
   "cell_type": "code",
   "execution_count": 13,
   "metadata": {},
   "outputs": [
    {
     "data": {
      "text/plain": [
       "<module 'funcs' from 'c:\\\\Users\\\\Tianyi Zheng\\\\OneDrive - neuron.t.u-tokyo.ac.jp\\\\Documents\\\\zheng\\\\mywork\\\\intelligence_tRNS\\\\tRNS-Intelligence\\\\processing\\\\funcs.py'>"
      ]
     },
     "execution_count": 13,
     "metadata": {},
     "output_type": "execute_result"
    }
   ],
   "source": [
    "import sys\n",
    "import os\n",
    "sys.path.insert(0, os.path.abspath('..'))\n",
    "import matplotlib.pyplot as plt\n",
    "import matplotlib\n",
    "import numpy as np\n",
    "import pandas as pd\n",
    "import seaborn as sns\n",
    "from scipy import stats\n",
    "import funcs\n",
    "import imp\n",
    "import random\n",
    "import mne\n",
    "imp.reload(funcs)"
   ]
  },
  {
   "cell_type": "code",
   "execution_count": 14,
   "metadata": {},
   "outputs": [],
   "source": [
    "exp_info = funcs.load_info()\n",
    "exp_info[\"pre\"] = None\n",
    "exp_info[\"post\"] = None"
   ]
  },
  {
   "cell_type": "code",
   "execution_count": 15,
   "metadata": {},
   "outputs": [
    {
     "name": "stdout",
     "output_type": "stream",
     "text": [
      "Opening raw data file ..\\..\\..\\data\\1\\raw_1_rs1.fif...\n",
      "    Read a total of 1 projection items:\n",
      "        EOG-eeg--0.200-0.200-PCA-01 (1 x 31) active\n",
      "    Range : 0 ... 864130 =      0.000 ...   180.027 secs\n",
      "Ready.\n",
      "Reading 0 ... 864130  =      0.000 ...   180.027 secs...\n"
     ]
    },
    {
     "name": "stderr",
     "output_type": "stream",
     "text": [
      "C:\\Users\\Tianyi Zheng\\AppData\\Local\\Temp\\ipykernel_19024\\600693823.py:5: RuntimeWarning: This filename (..\\..\\..\\data\\1\\raw_1_rs1.fif) does not conform to MNE naming conventions. All raw files should end with raw.fif, raw_sss.fif, raw_tsss.fif, _meg.fif, _eeg.fif, _ieeg.fif, raw.fif.gz, raw_sss.fif.gz, raw_tsss.fif.gz, _meg.fif.gz, _eeg.fif.gz or _ieeg.fif.gz\n",
      "  raw = mne.io.read_raw_fif(raw_path, preload=True)\n"
     ]
    },
    {
     "name": "stdout",
     "output_type": "stream",
     "text": [
      "\n",
      "subject_id:  1  tasktime:  pre  duration:  3.0003888888888888 \n",
      "\n",
      "Opening raw data file ..\\..\\..\\data\\1\\raw_1_rs2.fif...\n",
      "    Read a total of 1 projection items:\n",
      "        EOG-eeg--0.200-0.200-PCA-01 (1 x 30) active\n",
      "    Range : 0 ... 864165 =      0.000 ...   180.034 secs\n",
      "Ready.\n",
      "Reading 0 ... 864165  =      0.000 ...   180.034 secs...\n"
     ]
    },
    {
     "name": "stderr",
     "output_type": "stream",
     "text": [
      "C:\\Users\\Tianyi Zheng\\AppData\\Local\\Temp\\ipykernel_19024\\600693823.py:5: RuntimeWarning: This filename (..\\..\\..\\data\\1\\raw_1_rs2.fif) does not conform to MNE naming conventions. All raw files should end with raw.fif, raw_sss.fif, raw_tsss.fif, _meg.fif, _eeg.fif, _ieeg.fif, raw.fif.gz, raw_sss.fif.gz, raw_tsss.fif.gz, _meg.fif.gz, _eeg.fif.gz or _ieeg.fif.gz\n",
      "  raw = mne.io.read_raw_fif(raw_path, preload=True)\n"
     ]
    },
    {
     "name": "stdout",
     "output_type": "stream",
     "text": [
      "\n",
      "subject_id:  1  tasktime:  post  duration:  3.0005104166666667 \n",
      "\n",
      "Opening raw data file ..\\..\\..\\data\\2\\raw_2_rs1.fif...\n",
      "    Read a total of 1 projection items:\n",
      "        EOG-eeg--0.200-0.200-PCA-01 (1 x 31) active\n",
      "    Range : 0 ... 864076 =      0.000 ...   180.016 secs\n",
      "Ready.\n",
      "Reading 0 ... 864076  =      0.000 ...   180.016 secs...\n"
     ]
    },
    {
     "name": "stderr",
     "output_type": "stream",
     "text": [
      "C:\\Users\\Tianyi Zheng\\AppData\\Local\\Temp\\ipykernel_19024\\600693823.py:5: RuntimeWarning: This filename (..\\..\\..\\data\\2\\raw_2_rs1.fif) does not conform to MNE naming conventions. All raw files should end with raw.fif, raw_sss.fif, raw_tsss.fif, _meg.fif, _eeg.fif, _ieeg.fif, raw.fif.gz, raw_sss.fif.gz, raw_tsss.fif.gz, _meg.fif.gz, _eeg.fif.gz or _ieeg.fif.gz\n",
      "  raw = mne.io.read_raw_fif(raw_path, preload=True)\n"
     ]
    },
    {
     "name": "stdout",
     "output_type": "stream",
     "text": [
      "\n",
      "subject_id:  2  tasktime:  pre  duration:  3.0002013888888888 \n",
      "\n",
      "Opening raw data file ..\\..\\..\\data\\2\\raw_2_rs2.fif...\n",
      "    Read a total of 1 projection items:\n",
      "        EOG-eeg--0.200-0.200-PCA-01 (1 x 30) active\n",
      "    Range : 0 ... 864108 =      0.000 ...   180.023 secs\n",
      "Ready.\n",
      "Reading 0 ... 864108  =      0.000 ...   180.023 secs...\n"
     ]
    },
    {
     "name": "stderr",
     "output_type": "stream",
     "text": [
      "C:\\Users\\Tianyi Zheng\\AppData\\Local\\Temp\\ipykernel_19024\\600693823.py:5: RuntimeWarning: This filename (..\\..\\..\\data\\2\\raw_2_rs2.fif) does not conform to MNE naming conventions. All raw files should end with raw.fif, raw_sss.fif, raw_tsss.fif, _meg.fif, _eeg.fif, _ieeg.fif, raw.fif.gz, raw_sss.fif.gz, raw_tsss.fif.gz, _meg.fif.gz, _eeg.fif.gz or _ieeg.fif.gz\n",
      "  raw = mne.io.read_raw_fif(raw_path, preload=True)\n"
     ]
    },
    {
     "name": "stdout",
     "output_type": "stream",
     "text": [
      "\n",
      "subject_id:  2  tasktime:  post  duration:  3.0003125 \n",
      "\n",
      "Opening raw data file ..\\..\\..\\data\\3\\raw_3_rs1.fif...\n",
      "    Read a total of 1 projection items:\n",
      "        EOG-eeg--0.200-0.200-PCA-01 (1 x 31) active\n",
      "    Range : 0 ... 864617 =      0.000 ...   180.129 secs\n",
      "Ready.\n",
      "Reading 0 ... 864617  =      0.000 ...   180.129 secs...\n"
     ]
    },
    {
     "name": "stderr",
     "output_type": "stream",
     "text": [
      "C:\\Users\\Tianyi Zheng\\AppData\\Local\\Temp\\ipykernel_19024\\600693823.py:5: RuntimeWarning: This filename (..\\..\\..\\data\\3\\raw_3_rs1.fif) does not conform to MNE naming conventions. All raw files should end with raw.fif, raw_sss.fif, raw_tsss.fif, _meg.fif, _eeg.fif, _ieeg.fif, raw.fif.gz, raw_sss.fif.gz, raw_tsss.fif.gz, _meg.fif.gz, _eeg.fif.gz or _ieeg.fif.gz\n",
      "  raw = mne.io.read_raw_fif(raw_path, preload=True)\n"
     ]
    },
    {
     "name": "stdout",
     "output_type": "stream",
     "text": [
      "\n",
      "subject_id:  3  tasktime:  pre  duration:  3.0 \n",
      "\n",
      "Opening raw data file ..\\..\\..\\data\\3\\raw_3_rs2.fif...\n",
      "    Read a total of 1 projection items:\n",
      "        EOG-eeg--0.200-0.200-PCA-01 (1 x 31) active\n",
      "    Range : 0 ... 864141 =      0.000 ...   180.029 secs\n",
      "Ready.\n",
      "Reading 0 ... 864141  =      0.000 ...   180.029 secs...\n"
     ]
    },
    {
     "name": "stderr",
     "output_type": "stream",
     "text": [
      "C:\\Users\\Tianyi Zheng\\AppData\\Local\\Temp\\ipykernel_19024\\600693823.py:5: RuntimeWarning: This filename (..\\..\\..\\data\\3\\raw_3_rs2.fif) does not conform to MNE naming conventions. All raw files should end with raw.fif, raw_sss.fif, raw_tsss.fif, _meg.fif, _eeg.fif, _ieeg.fif, raw.fif.gz, raw_sss.fif.gz, raw_tsss.fif.gz, _meg.fif.gz, _eeg.fif.gz or _ieeg.fif.gz\n",
      "  raw = mne.io.read_raw_fif(raw_path, preload=True)\n"
     ]
    },
    {
     "name": "stdout",
     "output_type": "stream",
     "text": [
      "\n",
      "subject_id:  3  tasktime:  post  duration:  3.0004270833333333 \n",
      "\n",
      "Opening raw data file ..\\..\\..\\data\\4\\raw_4_rs1.fif...\n",
      "    Read a total of 1 projection items:\n",
      "        EOG-eeg--0.200-0.200-PCA-01 (1 x 31) active\n",
      "    Range : 0 ... 864071 =      0.000 ...   180.015 secs\n",
      "Ready.\n",
      "Reading 0 ... 864071  =      0.000 ...   180.015 secs...\n"
     ]
    },
    {
     "name": "stderr",
     "output_type": "stream",
     "text": [
      "C:\\Users\\Tianyi Zheng\\AppData\\Local\\Temp\\ipykernel_19024\\600693823.py:5: RuntimeWarning: This filename (..\\..\\..\\data\\4\\raw_4_rs1.fif) does not conform to MNE naming conventions. All raw files should end with raw.fif, raw_sss.fif, raw_tsss.fif, _meg.fif, _eeg.fif, _ieeg.fif, raw.fif.gz, raw_sss.fif.gz, raw_tsss.fif.gz, _meg.fif.gz, _eeg.fif.gz or _ieeg.fif.gz\n",
      "  raw = mne.io.read_raw_fif(raw_path, preload=True)\n"
     ]
    },
    {
     "name": "stdout",
     "output_type": "stream",
     "text": [
      "\n",
      "subject_id:  4  tasktime:  pre  duration:  3.000184027777778 \n",
      "\n",
      "Opening raw data file ..\\..\\..\\data\\4\\raw_4_rs2.fif...\n",
      "    Read a total of 1 projection items:\n",
      "        EOG-eeg--0.200-0.200-PCA-01 (1 x 31) active\n",
      "    Range : 0 ... 864166 =      0.000 ...   180.035 secs\n",
      "Ready.\n",
      "Reading 0 ... 864166  =      0.000 ...   180.035 secs...\n"
     ]
    },
    {
     "name": "stderr",
     "output_type": "stream",
     "text": [
      "C:\\Users\\Tianyi Zheng\\AppData\\Local\\Temp\\ipykernel_19024\\600693823.py:5: RuntimeWarning: This filename (..\\..\\..\\data\\4\\raw_4_rs2.fif) does not conform to MNE naming conventions. All raw files should end with raw.fif, raw_sss.fif, raw_tsss.fif, _meg.fif, _eeg.fif, _ieeg.fif, raw.fif.gz, raw_sss.fif.gz, raw_tsss.fif.gz, _meg.fif.gz, _eeg.fif.gz or _ieeg.fif.gz\n",
      "  raw = mne.io.read_raw_fif(raw_path, preload=True)\n"
     ]
    },
    {
     "name": "stdout",
     "output_type": "stream",
     "text": [
      "\n",
      "subject_id:  4  tasktime:  post  duration:  3.000513888888889 \n",
      "\n",
      "Opening raw data file ..\\..\\..\\data\\5\\raw_5_rs1.fif...\n",
      "    Read a total of 1 projection items:\n",
      "        EOG-eeg--0.200-0.200-PCA-01 (1 x 31) active\n",
      "    Range : 0 ... 864165 =      0.000 ...   180.034 secs\n",
      "Ready.\n",
      "Reading 0 ... 864165  =      0.000 ...   180.034 secs...\n"
     ]
    },
    {
     "name": "stderr",
     "output_type": "stream",
     "text": [
      "C:\\Users\\Tianyi Zheng\\AppData\\Local\\Temp\\ipykernel_19024\\600693823.py:5: RuntimeWarning: This filename (..\\..\\..\\data\\5\\raw_5_rs1.fif) does not conform to MNE naming conventions. All raw files should end with raw.fif, raw_sss.fif, raw_tsss.fif, _meg.fif, _eeg.fif, _ieeg.fif, raw.fif.gz, raw_sss.fif.gz, raw_tsss.fif.gz, _meg.fif.gz, _eeg.fif.gz or _ieeg.fif.gz\n",
      "  raw = mne.io.read_raw_fif(raw_path, preload=True)\n"
     ]
    },
    {
     "name": "stdout",
     "output_type": "stream",
     "text": [
      "\n",
      "subject_id:  5  tasktime:  pre  duration:  3.0005104166666667 \n",
      "\n",
      "Opening raw data file ..\\..\\..\\data\\5\\raw_5_rs2.fif...\n",
      "    Read a total of 1 projection items:\n",
      "        EOG-eeg--0.200-0.200-PCA-01 (1 x 31) active\n",
      "    Range : 0 ... 864097 =      0.000 ...   180.020 secs\n",
      "Ready.\n",
      "Reading 0 ... 864097  =      0.000 ...   180.020 secs...\n"
     ]
    },
    {
     "name": "stderr",
     "output_type": "stream",
     "text": [
      "C:\\Users\\Tianyi Zheng\\AppData\\Local\\Temp\\ipykernel_19024\\600693823.py:5: RuntimeWarning: This filename (..\\..\\..\\data\\5\\raw_5_rs2.fif) does not conform to MNE naming conventions. All raw files should end with raw.fif, raw_sss.fif, raw_tsss.fif, _meg.fif, _eeg.fif, _ieeg.fif, raw.fif.gz, raw_sss.fif.gz, raw_tsss.fif.gz, _meg.fif.gz, _eeg.fif.gz or _ieeg.fif.gz\n",
      "  raw = mne.io.read_raw_fif(raw_path, preload=True)\n"
     ]
    },
    {
     "name": "stdout",
     "output_type": "stream",
     "text": [
      "\n",
      "subject_id:  5  tasktime:  post  duration:  3.0002743055555556 \n",
      "\n",
      "Opening raw data file ..\\..\\..\\data\\6\\raw_6_rs1.fif...\n",
      "    Read a total of 1 projection items:\n",
      "        EOG-eeg--0.200-0.200-PCA-01 (1 x 31) active\n",
      "    Range : 0 ... 864106 =      0.000 ...   180.022 secs\n",
      "Ready.\n",
      "Reading 0 ... 864106  =      0.000 ...   180.022 secs...\n"
     ]
    },
    {
     "name": "stderr",
     "output_type": "stream",
     "text": [
      "C:\\Users\\Tianyi Zheng\\AppData\\Local\\Temp\\ipykernel_19024\\600693823.py:5: RuntimeWarning: This filename (..\\..\\..\\data\\6\\raw_6_rs1.fif) does not conform to MNE naming conventions. All raw files should end with raw.fif, raw_sss.fif, raw_tsss.fif, _meg.fif, _eeg.fif, _ieeg.fif, raw.fif.gz, raw_sss.fif.gz, raw_tsss.fif.gz, _meg.fif.gz, _eeg.fif.gz or _ieeg.fif.gz\n",
      "  raw = mne.io.read_raw_fif(raw_path, preload=True)\n"
     ]
    },
    {
     "name": "stdout",
     "output_type": "stream",
     "text": [
      "\n",
      "subject_id:  6  tasktime:  pre  duration:  3.0003055555555553 \n",
      "\n",
      "Opening raw data file ..\\..\\..\\data\\6\\raw_6_rs2.fif...\n",
      "    Read a total of 1 projection items:\n",
      "        EOG-eeg--0.200-0.200-PCA-01 (1 x 30) active\n",
      "    Range : 0 ... 864131 =      0.000 ...   180.027 secs\n",
      "Ready.\n",
      "Reading 0 ... 864131  =      0.000 ...   180.027 secs...\n"
     ]
    },
    {
     "name": "stderr",
     "output_type": "stream",
     "text": [
      "C:\\Users\\Tianyi Zheng\\AppData\\Local\\Temp\\ipykernel_19024\\600693823.py:5: RuntimeWarning: This filename (..\\..\\..\\data\\6\\raw_6_rs2.fif) does not conform to MNE naming conventions. All raw files should end with raw.fif, raw_sss.fif, raw_tsss.fif, _meg.fif, _eeg.fif, _ieeg.fif, raw.fif.gz, raw_sss.fif.gz, raw_tsss.fif.gz, _meg.fif.gz, _eeg.fif.gz or _ieeg.fif.gz\n",
      "  raw = mne.io.read_raw_fif(raw_path, preload=True)\n"
     ]
    },
    {
     "name": "stdout",
     "output_type": "stream",
     "text": [
      "\n",
      "subject_id:  6  tasktime:  post  duration:  3.000392361111111 \n",
      "\n",
      "Opening raw data file ..\\..\\..\\data\\7\\raw_7_rs1.fif...\n",
      "    Read a total of 1 projection items:\n",
      "        EOG-eeg--0.200-0.200-PCA-01 (1 x 31) active\n",
      "    Range : 0 ... 864171 =      0.000 ...   180.036 secs\n",
      "Ready.\n",
      "Reading 0 ... 864171  =      0.000 ...   180.036 secs...\n"
     ]
    },
    {
     "name": "stderr",
     "output_type": "stream",
     "text": [
      "C:\\Users\\Tianyi Zheng\\AppData\\Local\\Temp\\ipykernel_19024\\600693823.py:5: RuntimeWarning: This filename (..\\..\\..\\data\\7\\raw_7_rs1.fif) does not conform to MNE naming conventions. All raw files should end with raw.fif, raw_sss.fif, raw_tsss.fif, _meg.fif, _eeg.fif, _ieeg.fif, raw.fif.gz, raw_sss.fif.gz, raw_tsss.fif.gz, _meg.fif.gz, _eeg.fif.gz or _ieeg.fif.gz\n",
      "  raw = mne.io.read_raw_fif(raw_path, preload=True)\n"
     ]
    },
    {
     "name": "stdout",
     "output_type": "stream",
     "text": [
      "\n",
      "subject_id:  7  tasktime:  pre  duration:  3.00053125 \n",
      "\n",
      "Opening raw data file ..\\..\\..\\data\\7\\raw_7_rs2.fif...\n",
      "    Read a total of 1 projection items:\n",
      "        EOG-eeg--0.200-0.200-PCA-01 (1 x 31) active\n",
      "    Range : 0 ... 864143 =      0.000 ...   180.030 secs\n",
      "Ready.\n",
      "Reading 0 ... 864143  =      0.000 ...   180.030 secs...\n"
     ]
    },
    {
     "name": "stderr",
     "output_type": "stream",
     "text": [
      "C:\\Users\\Tianyi Zheng\\AppData\\Local\\Temp\\ipykernel_19024\\600693823.py:5: RuntimeWarning: This filename (..\\..\\..\\data\\7\\raw_7_rs2.fif) does not conform to MNE naming conventions. All raw files should end with raw.fif, raw_sss.fif, raw_tsss.fif, _meg.fif, _eeg.fif, _ieeg.fif, raw.fif.gz, raw_sss.fif.gz, raw_tsss.fif.gz, _meg.fif.gz, _eeg.fif.gz or _ieeg.fif.gz\n",
      "  raw = mne.io.read_raw_fif(raw_path, preload=True)\n"
     ]
    },
    {
     "name": "stdout",
     "output_type": "stream",
     "text": [
      "\n",
      "subject_id:  7  tasktime:  post  duration:  3.0004340277777777 \n",
      "\n",
      "Opening raw data file ..\\..\\..\\data\\8\\raw_8_rs1.fif...\n",
      "    Read a total of 1 projection items:\n",
      "        EOG-eeg--0.200-0.200-PCA-01 (1 x 31) active\n",
      "    Range : 0 ... 864091 =      0.000 ...   180.019 secs\n",
      "Ready.\n",
      "Reading 0 ... 864091  =      0.000 ...   180.019 secs...\n"
     ]
    },
    {
     "name": "stderr",
     "output_type": "stream",
     "text": [
      "C:\\Users\\Tianyi Zheng\\AppData\\Local\\Temp\\ipykernel_19024\\600693823.py:5: RuntimeWarning: This filename (..\\..\\..\\data\\8\\raw_8_rs1.fif) does not conform to MNE naming conventions. All raw files should end with raw.fif, raw_sss.fif, raw_tsss.fif, _meg.fif, _eeg.fif, _ieeg.fif, raw.fif.gz, raw_sss.fif.gz, raw_tsss.fif.gz, _meg.fif.gz, _eeg.fif.gz or _ieeg.fif.gz\n",
      "  raw = mne.io.read_raw_fif(raw_path, preload=True)\n"
     ]
    },
    {
     "name": "stdout",
     "output_type": "stream",
     "text": [
      "\n",
      "subject_id:  8  tasktime:  pre  duration:  3.000253472222222 \n",
      "\n",
      "Opening raw data file ..\\..\\..\\data\\8\\raw_8_rs2.fif...\n",
      "    Read a total of 1 projection items:\n",
      "        EOG-eeg--0.200-0.200-PCA-01 (1 x 31) active\n",
      "    Range : 0 ... 864085 =      0.000 ...   180.018 secs\n",
      "Ready.\n",
      "Reading 0 ... 864085  =      0.000 ...   180.018 secs...\n"
     ]
    },
    {
     "name": "stderr",
     "output_type": "stream",
     "text": [
      "C:\\Users\\Tianyi Zheng\\AppData\\Local\\Temp\\ipykernel_19024\\600693823.py:5: RuntimeWarning: This filename (..\\..\\..\\data\\8\\raw_8_rs2.fif) does not conform to MNE naming conventions. All raw files should end with raw.fif, raw_sss.fif, raw_tsss.fif, _meg.fif, _eeg.fif, _ieeg.fif, raw.fif.gz, raw_sss.fif.gz, raw_tsss.fif.gz, _meg.fif.gz, _eeg.fif.gz or _ieeg.fif.gz\n",
      "  raw = mne.io.read_raw_fif(raw_path, preload=True)\n"
     ]
    },
    {
     "name": "stdout",
     "output_type": "stream",
     "text": [
      "\n",
      "subject_id:  8  tasktime:  post  duration:  3.000232638888889 \n",
      "\n",
      "Opening raw data file ..\\..\\..\\data\\9\\raw_9_rs1.fif...\n",
      "    Read a total of 1 projection items:\n",
      "        EOG-eeg--0.200-0.200-PCA-01 (1 x 31) active\n",
      "    Range : 0 ... 864146 =      0.000 ...   180.030 secs\n",
      "Ready.\n",
      "Reading 0 ... 864146  =      0.000 ...   180.030 secs...\n"
     ]
    },
    {
     "name": "stderr",
     "output_type": "stream",
     "text": [
      "C:\\Users\\Tianyi Zheng\\AppData\\Local\\Temp\\ipykernel_19024\\600693823.py:5: RuntimeWarning: This filename (..\\..\\..\\data\\9\\raw_9_rs1.fif) does not conform to MNE naming conventions. All raw files should end with raw.fif, raw_sss.fif, raw_tsss.fif, _meg.fif, _eeg.fif, _ieeg.fif, raw.fif.gz, raw_sss.fif.gz, raw_tsss.fif.gz, _meg.fif.gz, _eeg.fif.gz or _ieeg.fif.gz\n",
      "  raw = mne.io.read_raw_fif(raw_path, preload=True)\n"
     ]
    },
    {
     "name": "stdout",
     "output_type": "stream",
     "text": [
      "\n",
      "subject_id:  9  tasktime:  pre  duration:  3.000440972222222 \n",
      "\n",
      "Opening raw data file ..\\..\\..\\data\\9\\raw_9_rs2.fif...\n",
      "    Read a total of 1 projection items:\n",
      "        EOG-eeg--0.200-0.200-PCA-01 (1 x 31) active\n",
      "    Range : 0 ... 864090 =      0.000 ...   180.019 secs\n",
      "Ready.\n",
      "Reading 0 ... 864090  =      0.000 ...   180.019 secs...\n"
     ]
    },
    {
     "name": "stderr",
     "output_type": "stream",
     "text": [
      "C:\\Users\\Tianyi Zheng\\AppData\\Local\\Temp\\ipykernel_19024\\600693823.py:5: RuntimeWarning: This filename (..\\..\\..\\data\\9\\raw_9_rs2.fif) does not conform to MNE naming conventions. All raw files should end with raw.fif, raw_sss.fif, raw_tsss.fif, _meg.fif, _eeg.fif, _ieeg.fif, raw.fif.gz, raw_sss.fif.gz, raw_tsss.fif.gz, _meg.fif.gz, _eeg.fif.gz or _ieeg.fif.gz\n",
      "  raw = mne.io.read_raw_fif(raw_path, preload=True)\n"
     ]
    },
    {
     "name": "stdout",
     "output_type": "stream",
     "text": [
      "\n",
      "subject_id:  9  tasktime:  post  duration:  3.0002465277777777 \n",
      "\n",
      "Opening raw data file ..\\..\\..\\data\\10\\raw_10_rs1.fif...\n",
      "    Read a total of 1 projection items:\n",
      "        EOG-eeg--0.200-0.200-PCA-01 (1 x 31) active\n",
      "    Range : 0 ... 864136 =      0.000 ...   180.028 secs\n",
      "Ready.\n",
      "Reading 0 ... 864136  =      0.000 ...   180.028 secs...\n"
     ]
    },
    {
     "name": "stderr",
     "output_type": "stream",
     "text": [
      "C:\\Users\\Tianyi Zheng\\AppData\\Local\\Temp\\ipykernel_19024\\600693823.py:5: RuntimeWarning: This filename (..\\..\\..\\data\\10\\raw_10_rs1.fif) does not conform to MNE naming conventions. All raw files should end with raw.fif, raw_sss.fif, raw_tsss.fif, _meg.fif, _eeg.fif, _ieeg.fif, raw.fif.gz, raw_sss.fif.gz, raw_tsss.fif.gz, _meg.fif.gz, _eeg.fif.gz or _ieeg.fif.gz\n",
      "  raw = mne.io.read_raw_fif(raw_path, preload=True)\n"
     ]
    },
    {
     "name": "stdout",
     "output_type": "stream",
     "text": [
      "\n",
      "subject_id:  10  tasktime:  pre  duration:  3.0004097222222224 \n",
      "\n",
      "Opening raw data file ..\\..\\..\\data\\10\\raw_10_rs2.fif...\n",
      "    Read a total of 1 projection items:\n",
      "        EOG-eeg--0.200-0.200-PCA-01 (1 x 31) active\n",
      "    Range : 0 ... 864116 =      0.000 ...   180.024 secs\n",
      "Ready.\n",
      "Reading 0 ... 864116  =      0.000 ...   180.024 secs...\n"
     ]
    },
    {
     "name": "stderr",
     "output_type": "stream",
     "text": [
      "C:\\Users\\Tianyi Zheng\\AppData\\Local\\Temp\\ipykernel_19024\\600693823.py:5: RuntimeWarning: This filename (..\\..\\..\\data\\10\\raw_10_rs2.fif) does not conform to MNE naming conventions. All raw files should end with raw.fif, raw_sss.fif, raw_tsss.fif, _meg.fif, _eeg.fif, _ieeg.fif, raw.fif.gz, raw_sss.fif.gz, raw_tsss.fif.gz, _meg.fif.gz, _eeg.fif.gz or _ieeg.fif.gz\n",
      "  raw = mne.io.read_raw_fif(raw_path, preload=True)\n"
     ]
    },
    {
     "name": "stdout",
     "output_type": "stream",
     "text": [
      "\n",
      "subject_id:  10  tasktime:  post  duration:  3.0003402777777777 \n",
      "\n",
      "Opening raw data file ..\\..\\..\\data\\11\\raw_11_rs1.fif...\n",
      "    Read a total of 1 projection items:\n",
      "        EOG-eeg--0.200-0.200-PCA-01 (1 x 16) active\n",
      "    Range : 0 ... 785323 =      0.000 ...   163.609 secs\n",
      "Ready.\n",
      "Reading 0 ... 785323  =      0.000 ...   163.609 secs...\n"
     ]
    },
    {
     "name": "stderr",
     "output_type": "stream",
     "text": [
      "C:\\Users\\Tianyi Zheng\\AppData\\Local\\Temp\\ipykernel_19024\\600693823.py:5: RuntimeWarning: This filename (..\\..\\..\\data\\11\\raw_11_rs1.fif) does not conform to MNE naming conventions. All raw files should end with raw.fif, raw_sss.fif, raw_tsss.fif, _meg.fif, _eeg.fif, _ieeg.fif, raw.fif.gz, raw_sss.fif.gz, raw_tsss.fif.gz, _meg.fif.gz, _eeg.fif.gz or _ieeg.fif.gz\n",
      "  raw = mne.io.read_raw_fif(raw_path, preload=True)\n"
     ]
    },
    {
     "name": "stdout",
     "output_type": "stream",
     "text": [
      "\n",
      "subject_id:  11  tasktime:  pre  duration:  2.726753472222222 \n",
      "\n",
      "Opening raw data file ..\\..\\..\\data\\11\\raw_11_rs2.fif...\n",
      "    Read a total of 1 projection items:\n",
      "        EOG-eeg--0.200-0.200-PCA-01 (1 x 31) active\n",
      "    Range : 0 ... 864065 =      0.000 ...   180.014 secs\n",
      "Ready.\n",
      "Reading 0 ... 864065  =      0.000 ...   180.014 secs...\n"
     ]
    },
    {
     "name": "stderr",
     "output_type": "stream",
     "text": [
      "C:\\Users\\Tianyi Zheng\\AppData\\Local\\Temp\\ipykernel_19024\\600693823.py:5: RuntimeWarning: This filename (..\\..\\..\\data\\11\\raw_11_rs2.fif) does not conform to MNE naming conventions. All raw files should end with raw.fif, raw_sss.fif, raw_tsss.fif, _meg.fif, _eeg.fif, _ieeg.fif, raw.fif.gz, raw_sss.fif.gz, raw_tsss.fif.gz, _meg.fif.gz, _eeg.fif.gz or _ieeg.fif.gz\n",
      "  raw = mne.io.read_raw_fif(raw_path, preload=True)\n"
     ]
    },
    {
     "name": "stdout",
     "output_type": "stream",
     "text": [
      "\n",
      "subject_id:  11  tasktime:  post  duration:  3.000159722222222 \n",
      "\n",
      "Opening raw data file ..\\..\\..\\data\\12\\raw_12_rs1.fif...\n",
      "    Read a total of 1 projection items:\n",
      "        EOG-eeg--0.200-0.200-PCA-01 (1 x 31) active\n",
      "    Range : 0 ... 864157 =      0.000 ...   180.033 secs\n",
      "Ready.\n",
      "Reading 0 ... 864157  =      0.000 ...   180.033 secs...\n"
     ]
    },
    {
     "name": "stderr",
     "output_type": "stream",
     "text": [
      "C:\\Users\\Tianyi Zheng\\AppData\\Local\\Temp\\ipykernel_19024\\600693823.py:5: RuntimeWarning: This filename (..\\..\\..\\data\\12\\raw_12_rs1.fif) does not conform to MNE naming conventions. All raw files should end with raw.fif, raw_sss.fif, raw_tsss.fif, _meg.fif, _eeg.fif, _ieeg.fif, raw.fif.gz, raw_sss.fif.gz, raw_tsss.fif.gz, _meg.fif.gz, _eeg.fif.gz or _ieeg.fif.gz\n",
      "  raw = mne.io.read_raw_fif(raw_path, preload=True)\n"
     ]
    },
    {
     "name": "stdout",
     "output_type": "stream",
     "text": [
      "\n",
      "subject_id:  12  tasktime:  pre  duration:  3.0004826388888888 \n",
      "\n",
      "Opening raw data file ..\\..\\..\\data\\12\\raw_12_rs2.fif...\n",
      "    Read a total of 1 projection items:\n",
      "        EOG-eeg--0.200-0.200-PCA-01 (1 x 31) active\n",
      "    Range : 0 ... 864160 =      0.000 ...   180.033 secs\n",
      "Ready.\n",
      "Reading 0 ... 864160  =      0.000 ...   180.033 secs...\n"
     ]
    },
    {
     "name": "stderr",
     "output_type": "stream",
     "text": [
      "C:\\Users\\Tianyi Zheng\\AppData\\Local\\Temp\\ipykernel_19024\\600693823.py:5: RuntimeWarning: This filename (..\\..\\..\\data\\12\\raw_12_rs2.fif) does not conform to MNE naming conventions. All raw files should end with raw.fif, raw_sss.fif, raw_tsss.fif, _meg.fif, _eeg.fif, _ieeg.fif, raw.fif.gz, raw_sss.fif.gz, raw_tsss.fif.gz, _meg.fif.gz, _eeg.fif.gz or _ieeg.fif.gz\n",
      "  raw = mne.io.read_raw_fif(raw_path, preload=True)\n"
     ]
    },
    {
     "name": "stdout",
     "output_type": "stream",
     "text": [
      "\n",
      "subject_id:  12  tasktime:  post  duration:  3.0004930555555553 \n",
      "\n",
      "Opening raw data file ..\\..\\..\\data\\13\\raw_13_rs1.fif...\n",
      "    Read a total of 1 projection items:\n",
      "        EOG-eeg--0.200-0.200-PCA-01 (1 x 30) active\n",
      "    Range : 0 ... 864120 =      0.000 ...   180.025 secs\n",
      "Ready.\n",
      "Reading 0 ... 864120  =      0.000 ...   180.025 secs...\n"
     ]
    },
    {
     "name": "stderr",
     "output_type": "stream",
     "text": [
      "C:\\Users\\Tianyi Zheng\\AppData\\Local\\Temp\\ipykernel_19024\\600693823.py:5: RuntimeWarning: This filename (..\\..\\..\\data\\13\\raw_13_rs1.fif) does not conform to MNE naming conventions. All raw files should end with raw.fif, raw_sss.fif, raw_tsss.fif, _meg.fif, _eeg.fif, _ieeg.fif, raw.fif.gz, raw_sss.fif.gz, raw_tsss.fif.gz, _meg.fif.gz, _eeg.fif.gz or _ieeg.fif.gz\n",
      "  raw = mne.io.read_raw_fif(raw_path, preload=True)\n"
     ]
    },
    {
     "name": "stdout",
     "output_type": "stream",
     "text": [
      "\n",
      "subject_id:  13  tasktime:  pre  duration:  3.000354166666667 \n",
      "\n",
      "Opening raw data file ..\\..\\..\\data\\13\\raw_13_rs2.fif...\n",
      "    Read a total of 1 projection items:\n",
      "        EOG-eeg--0.200-0.200-PCA-01 (1 x 31) active\n",
      "    Range : 0 ... 864158 =      0.000 ...   180.033 secs\n",
      "Ready.\n",
      "Reading 0 ... 864158  =      0.000 ...   180.033 secs...\n"
     ]
    },
    {
     "name": "stderr",
     "output_type": "stream",
     "text": [
      "C:\\Users\\Tianyi Zheng\\AppData\\Local\\Temp\\ipykernel_19024\\600693823.py:5: RuntimeWarning: This filename (..\\..\\..\\data\\13\\raw_13_rs2.fif) does not conform to MNE naming conventions. All raw files should end with raw.fif, raw_sss.fif, raw_tsss.fif, _meg.fif, _eeg.fif, _ieeg.fif, raw.fif.gz, raw_sss.fif.gz, raw_tsss.fif.gz, _meg.fif.gz, _eeg.fif.gz or _ieeg.fif.gz\n",
      "  raw = mne.io.read_raw_fif(raw_path, preload=True)\n"
     ]
    },
    {
     "name": "stdout",
     "output_type": "stream",
     "text": [
      "\n",
      "subject_id:  13  tasktime:  post  duration:  3.000486111111111 \n",
      "\n",
      "Opening raw data file ..\\..\\..\\data\\14\\raw_14_rs1.fif...\n",
      "    Read a total of 1 projection items:\n",
      "        EOG-eeg--0.200-0.200-PCA-01 (1 x 31) active\n",
      "    Range : 0 ... 864071 =      0.000 ...   180.015 secs\n",
      "Ready.\n",
      "Reading 0 ... 864071  =      0.000 ...   180.015 secs...\n",
      "\n",
      "subject_id:  14  tasktime:  pre  duration:  3.000184027777778 \n",
      "\n"
     ]
    },
    {
     "name": "stderr",
     "output_type": "stream",
     "text": [
      "C:\\Users\\Tianyi Zheng\\AppData\\Local\\Temp\\ipykernel_19024\\600693823.py:5: RuntimeWarning: This filename (..\\..\\..\\data\\14\\raw_14_rs1.fif) does not conform to MNE naming conventions. All raw files should end with raw.fif, raw_sss.fif, raw_tsss.fif, _meg.fif, _eeg.fif, _ieeg.fif, raw.fif.gz, raw_sss.fif.gz, raw_tsss.fif.gz, _meg.fif.gz, _eeg.fif.gz or _ieeg.fif.gz\n",
      "  raw = mne.io.read_raw_fif(raw_path, preload=True)\n"
     ]
    },
    {
     "name": "stdout",
     "output_type": "stream",
     "text": [
      "Opening raw data file ..\\..\\..\\data\\14\\raw_14_rs2.fif...\n",
      "    Read a total of 1 projection items:\n",
      "        EOG-eeg--0.200-0.200-PCA-01 (1 x 31) active\n",
      "    Range : 0 ... 864165 =      0.000 ...   180.034 secs\n",
      "Ready.\n",
      "Reading 0 ... 864165  =      0.000 ...   180.034 secs...\n"
     ]
    },
    {
     "name": "stderr",
     "output_type": "stream",
     "text": [
      "C:\\Users\\Tianyi Zheng\\AppData\\Local\\Temp\\ipykernel_19024\\600693823.py:5: RuntimeWarning: This filename (..\\..\\..\\data\\14\\raw_14_rs2.fif) does not conform to MNE naming conventions. All raw files should end with raw.fif, raw_sss.fif, raw_tsss.fif, _meg.fif, _eeg.fif, _ieeg.fif, raw.fif.gz, raw_sss.fif.gz, raw_tsss.fif.gz, _meg.fif.gz, _eeg.fif.gz or _ieeg.fif.gz\n",
      "  raw = mne.io.read_raw_fif(raw_path, preload=True)\n"
     ]
    },
    {
     "name": "stdout",
     "output_type": "stream",
     "text": [
      "\n",
      "subject_id:  14  tasktime:  post  duration:  3.0005104166666667 \n",
      "\n",
      "Opening raw data file ..\\..\\..\\data\\15\\raw_15_rs1.fif...\n",
      "    Read a total of 1 projection items:\n",
      "        EOG-eeg--0.200-0.200-PCA-01 (1 x 31) active\n",
      "    Range : 0 ... 864092 =      0.000 ...   180.019 secs\n",
      "Ready.\n",
      "Reading 0 ... 864092  =      0.000 ...   180.019 secs...\n"
     ]
    },
    {
     "name": "stderr",
     "output_type": "stream",
     "text": [
      "C:\\Users\\Tianyi Zheng\\AppData\\Local\\Temp\\ipykernel_19024\\600693823.py:5: RuntimeWarning: This filename (..\\..\\..\\data\\15\\raw_15_rs1.fif) does not conform to MNE naming conventions. All raw files should end with raw.fif, raw_sss.fif, raw_tsss.fif, _meg.fif, _eeg.fif, _ieeg.fif, raw.fif.gz, raw_sss.fif.gz, raw_tsss.fif.gz, _meg.fif.gz, _eeg.fif.gz or _ieeg.fif.gz\n",
      "  raw = mne.io.read_raw_fif(raw_path, preload=True)\n"
     ]
    },
    {
     "name": "stdout",
     "output_type": "stream",
     "text": [
      "\n",
      "subject_id:  15  tasktime:  pre  duration:  3.0002569444444442 \n",
      "\n",
      "Opening raw data file ..\\..\\..\\data\\15\\raw_15_rs2.fif...\n",
      "    Read a total of 1 projection items:\n",
      "        EOG-eeg--0.200-0.200-PCA-01 (1 x 31) active\n",
      "    Range : 0 ... 864106 =      0.000 ...   180.022 secs\n",
      "Ready.\n",
      "Reading 0 ... 864106  =      0.000 ...   180.022 secs...\n"
     ]
    },
    {
     "name": "stderr",
     "output_type": "stream",
     "text": [
      "C:\\Users\\Tianyi Zheng\\AppData\\Local\\Temp\\ipykernel_19024\\600693823.py:5: RuntimeWarning: This filename (..\\..\\..\\data\\15\\raw_15_rs2.fif) does not conform to MNE naming conventions. All raw files should end with raw.fif, raw_sss.fif, raw_tsss.fif, _meg.fif, _eeg.fif, _ieeg.fif, raw.fif.gz, raw_sss.fif.gz, raw_tsss.fif.gz, _meg.fif.gz, _eeg.fif.gz or _ieeg.fif.gz\n",
      "  raw = mne.io.read_raw_fif(raw_path, preload=True)\n"
     ]
    },
    {
     "name": "stdout",
     "output_type": "stream",
     "text": [
      "\n",
      "subject_id:  15  tasktime:  post  duration:  3.0003055555555553 \n",
      "\n",
      "Opening raw data file ..\\..\\..\\data\\16\\raw_16_rs1.fif...\n",
      "    Read a total of 1 projection items:\n",
      "        EOG-eeg--0.200-0.200-PCA-01 (1 x 31) active\n",
      "    Range : 0 ... 864069 =      0.000 ...   180.014 secs\n",
      "Ready.\n",
      "Reading 0 ... 864069  =      0.000 ...   180.014 secs...\n"
     ]
    },
    {
     "name": "stderr",
     "output_type": "stream",
     "text": [
      "C:\\Users\\Tianyi Zheng\\AppData\\Local\\Temp\\ipykernel_19024\\600693823.py:5: RuntimeWarning: This filename (..\\..\\..\\data\\16\\raw_16_rs1.fif) does not conform to MNE naming conventions. All raw files should end with raw.fif, raw_sss.fif, raw_tsss.fif, _meg.fif, _eeg.fif, _ieeg.fif, raw.fif.gz, raw_sss.fif.gz, raw_tsss.fif.gz, _meg.fif.gz, _eeg.fif.gz or _ieeg.fif.gz\n",
      "  raw = mne.io.read_raw_fif(raw_path, preload=True)\n"
     ]
    },
    {
     "name": "stdout",
     "output_type": "stream",
     "text": [
      "\n",
      "subject_id:  16  tasktime:  pre  duration:  3.0001770833333334 \n",
      "\n",
      "Opening raw data file ..\\..\\..\\data\\16\\raw_16_rs2.fif...\n",
      "    Read a total of 1 projection items:\n",
      "        EOG-eeg--0.200-0.200-PCA-01 (1 x 31) active\n",
      "    Range : 0 ... 864123 =      0.000 ...   180.026 secs\n",
      "Ready.\n",
      "Reading 0 ... 864123  =      0.000 ...   180.026 secs...\n"
     ]
    },
    {
     "name": "stderr",
     "output_type": "stream",
     "text": [
      "C:\\Users\\Tianyi Zheng\\AppData\\Local\\Temp\\ipykernel_19024\\600693823.py:5: RuntimeWarning: This filename (..\\..\\..\\data\\16\\raw_16_rs2.fif) does not conform to MNE naming conventions. All raw files should end with raw.fif, raw_sss.fif, raw_tsss.fif, _meg.fif, _eeg.fif, _ieeg.fif, raw.fif.gz, raw_sss.fif.gz, raw_tsss.fif.gz, _meg.fif.gz, _eeg.fif.gz or _ieeg.fif.gz\n",
      "  raw = mne.io.read_raw_fif(raw_path, preload=True)\n"
     ]
    },
    {
     "name": "stdout",
     "output_type": "stream",
     "text": [
      "\n",
      "subject_id:  16  tasktime:  post  duration:  3.0003611111111113 \n",
      "\n",
      "Opening raw data file ..\\..\\..\\data\\17\\raw_17_rs1.fif...\n",
      "    Read a total of 1 projection items:\n",
      "        EOG-eeg--0.200-0.200-PCA-01 (1 x 26) active\n",
      "    Range : 0 ... 864080 =      0.000 ...   180.017 secs\n",
      "Ready.\n",
      "Reading 0 ... 864080  =      0.000 ...   180.017 secs...\n"
     ]
    },
    {
     "name": "stderr",
     "output_type": "stream",
     "text": [
      "C:\\Users\\Tianyi Zheng\\AppData\\Local\\Temp\\ipykernel_19024\\600693823.py:5: RuntimeWarning: This filename (..\\..\\..\\data\\17\\raw_17_rs1.fif) does not conform to MNE naming conventions. All raw files should end with raw.fif, raw_sss.fif, raw_tsss.fif, _meg.fif, _eeg.fif, _ieeg.fif, raw.fif.gz, raw_sss.fif.gz, raw_tsss.fif.gz, _meg.fif.gz, _eeg.fif.gz or _ieeg.fif.gz\n",
      "  raw = mne.io.read_raw_fif(raw_path, preload=True)\n"
     ]
    },
    {
     "name": "stdout",
     "output_type": "stream",
     "text": [
      "\n",
      "subject_id:  17  tasktime:  pre  duration:  3.000215277777778 \n",
      "\n",
      "Opening raw data file ..\\..\\..\\data\\17\\raw_17_rs2.fif...\n",
      "    Read a total of 1 projection items:\n",
      "        EOG-eeg--0.200-0.200-PCA-01 (1 x 31) active\n",
      "    Range : 0 ... 864105 =      0.000 ...   180.022 secs\n",
      "Ready.\n",
      "Reading 0 ... 864105  =      0.000 ...   180.022 secs...\n"
     ]
    },
    {
     "name": "stderr",
     "output_type": "stream",
     "text": [
      "C:\\Users\\Tianyi Zheng\\AppData\\Local\\Temp\\ipykernel_19024\\600693823.py:5: RuntimeWarning: This filename (..\\..\\..\\data\\17\\raw_17_rs2.fif) does not conform to MNE naming conventions. All raw files should end with raw.fif, raw_sss.fif, raw_tsss.fif, _meg.fif, _eeg.fif, _ieeg.fif, raw.fif.gz, raw_sss.fif.gz, raw_tsss.fif.gz, _meg.fif.gz, _eeg.fif.gz or _ieeg.fif.gz\n",
      "  raw = mne.io.read_raw_fif(raw_path, preload=True)\n"
     ]
    },
    {
     "name": "stdout",
     "output_type": "stream",
     "text": [
      "\n",
      "subject_id:  17  tasktime:  post  duration:  3.000302083333333 \n",
      "\n",
      "Opening raw data file ..\\..\\..\\data\\18\\raw_18_rs1.fif...\n",
      "    Read a total of 1 projection items:\n",
      "        EOG-eeg--0.200-0.200-PCA-01 (1 x 29) active\n",
      "    Range : 0 ... 864166 =      0.000 ...   180.035 secs\n",
      "Ready.\n",
      "Reading 0 ... 864166  =      0.000 ...   180.035 secs...\n"
     ]
    },
    {
     "name": "stderr",
     "output_type": "stream",
     "text": [
      "C:\\Users\\Tianyi Zheng\\AppData\\Local\\Temp\\ipykernel_19024\\600693823.py:5: RuntimeWarning: This filename (..\\..\\..\\data\\18\\raw_18_rs1.fif) does not conform to MNE naming conventions. All raw files should end with raw.fif, raw_sss.fif, raw_tsss.fif, _meg.fif, _eeg.fif, _ieeg.fif, raw.fif.gz, raw_sss.fif.gz, raw_tsss.fif.gz, _meg.fif.gz, _eeg.fif.gz or _ieeg.fif.gz\n",
      "  raw = mne.io.read_raw_fif(raw_path, preload=True)\n"
     ]
    },
    {
     "name": "stdout",
     "output_type": "stream",
     "text": [
      "\n",
      "subject_id:  18  tasktime:  pre  duration:  3.000513888888889 \n",
      "\n",
      "Opening raw data file ..\\..\\..\\data\\18\\raw_18_rs2.fif...\n",
      "    Read a total of 1 projection items:\n",
      "        EOG-eeg--0.200-0.200-PCA-01 (1 x 31) active\n",
      "    Range : 0 ... 864086 =      0.000 ...   180.018 secs\n",
      "Ready.\n",
      "Reading 0 ... 864086  =      0.000 ...   180.018 secs...\n"
     ]
    },
    {
     "name": "stderr",
     "output_type": "stream",
     "text": [
      "C:\\Users\\Tianyi Zheng\\AppData\\Local\\Temp\\ipykernel_19024\\600693823.py:5: RuntimeWarning: This filename (..\\..\\..\\data\\18\\raw_18_rs2.fif) does not conform to MNE naming conventions. All raw files should end with raw.fif, raw_sss.fif, raw_tsss.fif, _meg.fif, _eeg.fif, _ieeg.fif, raw.fif.gz, raw_sss.fif.gz, raw_tsss.fif.gz, _meg.fif.gz, _eeg.fif.gz or _ieeg.fif.gz\n",
      "  raw = mne.io.read_raw_fif(raw_path, preload=True)\n"
     ]
    },
    {
     "name": "stdout",
     "output_type": "stream",
     "text": [
      "\n",
      "subject_id:  18  tasktime:  post  duration:  3.000236111111111 \n",
      "\n",
      "Opening raw data file ..\\..\\..\\data\\19\\raw_19_rs1.fif...\n",
      "    Read a total of 1 projection items:\n",
      "        EOG-eeg--0.200-0.200-PCA-01 (1 x 31) active\n",
      "    Range : 0 ... 864074 =      0.000 ...   180.015 secs\n",
      "Ready.\n",
      "Reading 0 ... 864074  =      0.000 ...   180.015 secs...\n"
     ]
    },
    {
     "name": "stderr",
     "output_type": "stream",
     "text": [
      "C:\\Users\\Tianyi Zheng\\AppData\\Local\\Temp\\ipykernel_19024\\600693823.py:5: RuntimeWarning: This filename (..\\..\\..\\data\\19\\raw_19_rs1.fif) does not conform to MNE naming conventions. All raw files should end with raw.fif, raw_sss.fif, raw_tsss.fif, _meg.fif, _eeg.fif, _ieeg.fif, raw.fif.gz, raw_sss.fif.gz, raw_tsss.fif.gz, _meg.fif.gz, _eeg.fif.gz or _ieeg.fif.gz\n",
      "  raw = mne.io.read_raw_fif(raw_path, preload=True)\n"
     ]
    },
    {
     "name": "stdout",
     "output_type": "stream",
     "text": [
      "\n",
      "subject_id:  19  tasktime:  pre  duration:  3.0001944444444444 \n",
      "\n",
      "Opening raw data file ..\\..\\..\\data\\19\\raw_19_rs2.fif...\n",
      "    Read a total of 1 projection items:\n",
      "        EOG-eeg--0.200-0.200-PCA-01 (1 x 31) active\n",
      "    Range : 0 ... 864101 =      0.000 ...   180.021 secs\n",
      "Ready.\n",
      "Reading 0 ... 864101  =      0.000 ...   180.021 secs...\n"
     ]
    },
    {
     "name": "stderr",
     "output_type": "stream",
     "text": [
      "C:\\Users\\Tianyi Zheng\\AppData\\Local\\Temp\\ipykernel_19024\\600693823.py:5: RuntimeWarning: This filename (..\\..\\..\\data\\19\\raw_19_rs2.fif) does not conform to MNE naming conventions. All raw files should end with raw.fif, raw_sss.fif, raw_tsss.fif, _meg.fif, _eeg.fif, _ieeg.fif, raw.fif.gz, raw_sss.fif.gz, raw_tsss.fif.gz, _meg.fif.gz, _eeg.fif.gz or _ieeg.fif.gz\n",
      "  raw = mne.io.read_raw_fif(raw_path, preload=True)\n"
     ]
    },
    {
     "name": "stdout",
     "output_type": "stream",
     "text": [
      "\n",
      "subject_id:  19  tasktime:  post  duration:  3.0002881944444444 \n",
      "\n",
      "Opening raw data file ..\\..\\..\\data\\20\\raw_20_rs1.fif...\n",
      "    Read a total of 1 projection items:\n",
      "        EOG-eeg--0.200-0.200-PCA-01 (1 x 31) active\n",
      "    Range : 0 ... 864113 =      0.000 ...   180.024 secs\n",
      "Ready.\n",
      "Reading 0 ... 864113  =      0.000 ...   180.024 secs...\n"
     ]
    },
    {
     "name": "stderr",
     "output_type": "stream",
     "text": [
      "C:\\Users\\Tianyi Zheng\\AppData\\Local\\Temp\\ipykernel_19024\\600693823.py:5: RuntimeWarning: This filename (..\\..\\..\\data\\20\\raw_20_rs1.fif) does not conform to MNE naming conventions. All raw files should end with raw.fif, raw_sss.fif, raw_tsss.fif, _meg.fif, _eeg.fif, _ieeg.fif, raw.fif.gz, raw_sss.fif.gz, raw_tsss.fif.gz, _meg.fif.gz, _eeg.fif.gz or _ieeg.fif.gz\n",
      "  raw = mne.io.read_raw_fif(raw_path, preload=True)\n"
     ]
    },
    {
     "name": "stdout",
     "output_type": "stream",
     "text": [
      "\n",
      "subject_id:  20  tasktime:  pre  duration:  3.000329861111111 \n",
      "\n",
      "Opening raw data file ..\\..\\..\\data\\20\\raw_20_rs2.fif...\n",
      "    Read a total of 1 projection items:\n",
      "        EOG-eeg--0.200-0.200-PCA-01 (1 x 31) active\n",
      "    Range : 0 ... 864134 =      0.000 ...   180.028 secs\n",
      "Ready.\n",
      "Reading 0 ... 864134  =      0.000 ...   180.028 secs...\n"
     ]
    },
    {
     "name": "stderr",
     "output_type": "stream",
     "text": [
      "C:\\Users\\Tianyi Zheng\\AppData\\Local\\Temp\\ipykernel_19024\\600693823.py:5: RuntimeWarning: This filename (..\\..\\..\\data\\20\\raw_20_rs2.fif) does not conform to MNE naming conventions. All raw files should end with raw.fif, raw_sss.fif, raw_tsss.fif, _meg.fif, _eeg.fif, _ieeg.fif, raw.fif.gz, raw_sss.fif.gz, raw_tsss.fif.gz, _meg.fif.gz, _eeg.fif.gz or _ieeg.fif.gz\n",
      "  raw = mne.io.read_raw_fif(raw_path, preload=True)\n"
     ]
    },
    {
     "name": "stdout",
     "output_type": "stream",
     "text": [
      "\n",
      "subject_id:  20  tasktime:  post  duration:  3.000402777777778 \n",
      "\n",
      "Opening raw data file ..\\..\\..\\data\\21\\raw_21_rs1.fif...\n",
      "    Read a total of 1 projection items:\n",
      "        EOG-eeg--0.200-0.200-PCA-01 (1 x 31) active\n",
      "    Range : 0 ... 864163 =      0.000 ...   180.034 secs\n",
      "Ready.\n",
      "Reading 0 ... 864163  =      0.000 ...   180.034 secs...\n"
     ]
    },
    {
     "name": "stderr",
     "output_type": "stream",
     "text": [
      "C:\\Users\\Tianyi Zheng\\AppData\\Local\\Temp\\ipykernel_19024\\600693823.py:5: RuntimeWarning: This filename (..\\..\\..\\data\\21\\raw_21_rs1.fif) does not conform to MNE naming conventions. All raw files should end with raw.fif, raw_sss.fif, raw_tsss.fif, _meg.fif, _eeg.fif, _ieeg.fif, raw.fif.gz, raw_sss.fif.gz, raw_tsss.fif.gz, _meg.fif.gz, _eeg.fif.gz or _ieeg.fif.gz\n",
      "  raw = mne.io.read_raw_fif(raw_path, preload=True)\n"
     ]
    },
    {
     "name": "stdout",
     "output_type": "stream",
     "text": [
      "\n",
      "subject_id:  21  tasktime:  pre  duration:  3.0005034722222224 \n",
      "\n",
      "Opening raw data file ..\\..\\..\\data\\21\\raw_21_rs2.fif...\n",
      "    Read a total of 1 projection items:\n",
      "        EOG-eeg--0.200-0.200-PCA-01 (1 x 30) active\n",
      "    Range : 0 ... 864096 =      0.000 ...   180.020 secs\n",
      "Ready.\n",
      "Reading 0 ... 864096  =      0.000 ...   180.020 secs...\n"
     ]
    },
    {
     "name": "stderr",
     "output_type": "stream",
     "text": [
      "C:\\Users\\Tianyi Zheng\\AppData\\Local\\Temp\\ipykernel_19024\\600693823.py:5: RuntimeWarning: This filename (..\\..\\..\\data\\21\\raw_21_rs2.fif) does not conform to MNE naming conventions. All raw files should end with raw.fif, raw_sss.fif, raw_tsss.fif, _meg.fif, _eeg.fif, _ieeg.fif, raw.fif.gz, raw_sss.fif.gz, raw_tsss.fif.gz, _meg.fif.gz, _eeg.fif.gz or _ieeg.fif.gz\n",
      "  raw = mne.io.read_raw_fif(raw_path, preload=True)\n"
     ]
    },
    {
     "name": "stdout",
     "output_type": "stream",
     "text": [
      "\n",
      "subject_id:  21  tasktime:  post  duration:  3.0002708333333334 \n",
      "\n",
      "Opening raw data file ..\\..\\..\\data\\22\\raw_22_rs1.fif...\n",
      "    Read a total of 1 projection items:\n",
      "        EOG-eeg--0.200-0.200-PCA-01 (1 x 30) active\n",
      "    Range : 0 ... 864138 =      0.000 ...   180.029 secs\n",
      "Ready.\n",
      "Reading 0 ... 864138  =      0.000 ...   180.029 secs...\n"
     ]
    },
    {
     "name": "stderr",
     "output_type": "stream",
     "text": [
      "C:\\Users\\Tianyi Zheng\\AppData\\Local\\Temp\\ipykernel_19024\\600693823.py:5: RuntimeWarning: This filename (..\\..\\..\\data\\22\\raw_22_rs1.fif) does not conform to MNE naming conventions. All raw files should end with raw.fif, raw_sss.fif, raw_tsss.fif, _meg.fif, _eeg.fif, _ieeg.fif, raw.fif.gz, raw_sss.fif.gz, raw_tsss.fif.gz, _meg.fif.gz, _eeg.fif.gz or _ieeg.fif.gz\n",
      "  raw = mne.io.read_raw_fif(raw_path, preload=True)\n"
     ]
    },
    {
     "name": "stdout",
     "output_type": "stream",
     "text": [
      "\n",
      "subject_id:  22  tasktime:  pre  duration:  3.0004166666666667 \n",
      "\n",
      "Opening raw data file ..\\..\\..\\data\\22\\raw_22_rs2.fif...\n",
      "    Read a total of 1 projection items:\n",
      "        EOG-eeg--0.200-0.200-PCA-01 (1 x 31) active\n",
      "    Range : 0 ... 864094 =      0.000 ...   180.020 secs\n",
      "Ready.\n",
      "Reading 0 ... 864094  =      0.000 ...   180.020 secs...\n",
      "\n",
      "subject_id:  22  tasktime:  post  duration:  3.000263888888889 \n",
      "\n"
     ]
    },
    {
     "name": "stderr",
     "output_type": "stream",
     "text": [
      "C:\\Users\\Tianyi Zheng\\AppData\\Local\\Temp\\ipykernel_19024\\600693823.py:5: RuntimeWarning: This filename (..\\..\\..\\data\\22\\raw_22_rs2.fif) does not conform to MNE naming conventions. All raw files should end with raw.fif, raw_sss.fif, raw_tsss.fif, _meg.fif, _eeg.fif, _ieeg.fif, raw.fif.gz, raw_sss.fif.gz, raw_tsss.fif.gz, _meg.fif.gz, _eeg.fif.gz or _ieeg.fif.gz\n",
      "  raw = mne.io.read_raw_fif(raw_path, preload=True)\n"
     ]
    },
    {
     "name": "stdout",
     "output_type": "stream",
     "text": [
      "Opening raw data file ..\\..\\..\\data\\23\\raw_23_rs1.fif...\n",
      "    Read a total of 1 projection items:\n",
      "        EOG-eeg--0.200-0.200-PCA-01 (1 x 31) active\n",
      "    Range : 0 ... 864101 =      0.000 ...   180.021 secs\n",
      "Ready.\n",
      "Reading 0 ... 864101  =      0.000 ...   180.021 secs...\n",
      "\n",
      "subject_id:  23  tasktime:  pre  duration:  3.0002881944444444 \n",
      "\n"
     ]
    },
    {
     "name": "stderr",
     "output_type": "stream",
     "text": [
      "C:\\Users\\Tianyi Zheng\\AppData\\Local\\Temp\\ipykernel_19024\\600693823.py:5: RuntimeWarning: This filename (..\\..\\..\\data\\23\\raw_23_rs1.fif) does not conform to MNE naming conventions. All raw files should end with raw.fif, raw_sss.fif, raw_tsss.fif, _meg.fif, _eeg.fif, _ieeg.fif, raw.fif.gz, raw_sss.fif.gz, raw_tsss.fif.gz, _meg.fif.gz, _eeg.fif.gz or _ieeg.fif.gz\n",
      "  raw = mne.io.read_raw_fif(raw_path, preload=True)\n"
     ]
    },
    {
     "name": "stdout",
     "output_type": "stream",
     "text": [
      "Opening raw data file ..\\..\\..\\data\\23\\raw_23_rs2.fif...\n",
      "    Read a total of 1 projection items:\n",
      "        EOG-eeg--0.200-0.200-PCA-01 (1 x 31) active\n",
      "    Range : 0 ... 864157 =      0.000 ...   180.033 secs\n",
      "Ready.\n",
      "Reading 0 ... 864157  =      0.000 ...   180.033 secs...\n",
      "\n",
      "subject_id:  23  tasktime:  post  duration:  3.0004826388888888 \n",
      "\n"
     ]
    },
    {
     "name": "stderr",
     "output_type": "stream",
     "text": [
      "C:\\Users\\Tianyi Zheng\\AppData\\Local\\Temp\\ipykernel_19024\\600693823.py:5: RuntimeWarning: This filename (..\\..\\..\\data\\23\\raw_23_rs2.fif) does not conform to MNE naming conventions. All raw files should end with raw.fif, raw_sss.fif, raw_tsss.fif, _meg.fif, _eeg.fif, _ieeg.fif, raw.fif.gz, raw_sss.fif.gz, raw_tsss.fif.gz, _meg.fif.gz, _eeg.fif.gz or _ieeg.fif.gz\n",
      "  raw = mne.io.read_raw_fif(raw_path, preload=True)\n"
     ]
    },
    {
     "name": "stdout",
     "output_type": "stream",
     "text": [
      "Opening raw data file ..\\..\\..\\data\\24\\raw_24_rs1.fif...\n",
      "    Read a total of 1 projection items:\n",
      "        EOG-eeg--0.200-0.200-PCA-01 (1 x 31) active\n",
      "    Range : 0 ... 864180 =      0.000 ...   180.037 secs\n",
      "Ready.\n",
      "Reading 0 ... 864180  =      0.000 ...   180.037 secs...\n"
     ]
    },
    {
     "name": "stderr",
     "output_type": "stream",
     "text": [
      "C:\\Users\\Tianyi Zheng\\AppData\\Local\\Temp\\ipykernel_19024\\600693823.py:5: RuntimeWarning: This filename (..\\..\\..\\data\\24\\raw_24_rs1.fif) does not conform to MNE naming conventions. All raw files should end with raw.fif, raw_sss.fif, raw_tsss.fif, _meg.fif, _eeg.fif, _ieeg.fif, raw.fif.gz, raw_sss.fif.gz, raw_tsss.fif.gz, _meg.fif.gz, _eeg.fif.gz or _ieeg.fif.gz\n",
      "  raw = mne.io.read_raw_fif(raw_path, preload=True)\n"
     ]
    },
    {
     "name": "stdout",
     "output_type": "stream",
     "text": [
      "\n",
      "subject_id:  24  tasktime:  pre  duration:  3.0005625 \n",
      "\n",
      "Opening raw data file ..\\..\\..\\data\\24\\raw_24_rs2.fif...\n",
      "    Read a total of 1 projection items:\n",
      "        EOG-eeg--0.200-0.200-PCA-01 (1 x 31) active\n",
      "    Range : 0 ... 864111 =      0.000 ...   180.023 secs\n",
      "Ready.\n",
      "Reading 0 ... 864111  =      0.000 ...   180.023 secs...\n"
     ]
    },
    {
     "name": "stderr",
     "output_type": "stream",
     "text": [
      "C:\\Users\\Tianyi Zheng\\AppData\\Local\\Temp\\ipykernel_19024\\600693823.py:5: RuntimeWarning: This filename (..\\..\\..\\data\\24\\raw_24_rs2.fif) does not conform to MNE naming conventions. All raw files should end with raw.fif, raw_sss.fif, raw_tsss.fif, _meg.fif, _eeg.fif, _ieeg.fif, raw.fif.gz, raw_sss.fif.gz, raw_tsss.fif.gz, _meg.fif.gz, _eeg.fif.gz or _ieeg.fif.gz\n",
      "  raw = mne.io.read_raw_fif(raw_path, preload=True)\n"
     ]
    },
    {
     "name": "stdout",
     "output_type": "stream",
     "text": [
      "\n",
      "subject_id:  24  tasktime:  post  duration:  3.0003229166666667 \n",
      "\n",
      "Opening raw data file ..\\..\\..\\data\\25\\raw_25_rs1.fif...\n",
      "    Read a total of 1 projection items:\n",
      "        EOG-eeg--0.200-0.200-PCA-01 (1 x 30) active\n",
      "    Range : 0 ... 864083 =      0.000 ...   180.017 secs\n",
      "Ready.\n",
      "Reading 0 ... 864083  =      0.000 ...   180.017 secs...\n"
     ]
    },
    {
     "name": "stderr",
     "output_type": "stream",
     "text": [
      "C:\\Users\\Tianyi Zheng\\AppData\\Local\\Temp\\ipykernel_19024\\600693823.py:5: RuntimeWarning: This filename (..\\..\\..\\data\\25\\raw_25_rs1.fif) does not conform to MNE naming conventions. All raw files should end with raw.fif, raw_sss.fif, raw_tsss.fif, _meg.fif, _eeg.fif, _ieeg.fif, raw.fif.gz, raw_sss.fif.gz, raw_tsss.fif.gz, _meg.fif.gz, _eeg.fif.gz or _ieeg.fif.gz\n",
      "  raw = mne.io.read_raw_fif(raw_path, preload=True)\n"
     ]
    },
    {
     "name": "stdout",
     "output_type": "stream",
     "text": [
      "\n",
      "subject_id:  25  tasktime:  pre  duration:  3.0002256944444445 \n",
      "\n",
      "Opening raw data file ..\\..\\..\\data\\25\\raw_25_rs2.fif...\n",
      "    Read a total of 1 projection items:\n",
      "        EOG-eeg--0.200-0.200-PCA-01 (1 x 30) active\n",
      "    Range : 0 ... 864121 =      0.000 ...   180.025 secs\n",
      "Ready.\n",
      "Reading 0 ... 864121  =      0.000 ...   180.025 secs...\n"
     ]
    },
    {
     "name": "stderr",
     "output_type": "stream",
     "text": [
      "C:\\Users\\Tianyi Zheng\\AppData\\Local\\Temp\\ipykernel_19024\\600693823.py:5: RuntimeWarning: This filename (..\\..\\..\\data\\25\\raw_25_rs2.fif) does not conform to MNE naming conventions. All raw files should end with raw.fif, raw_sss.fif, raw_tsss.fif, _meg.fif, _eeg.fif, _ieeg.fif, raw.fif.gz, raw_sss.fif.gz, raw_tsss.fif.gz, _meg.fif.gz, _eeg.fif.gz or _ieeg.fif.gz\n",
      "  raw = mne.io.read_raw_fif(raw_path, preload=True)\n"
     ]
    },
    {
     "name": "stdout",
     "output_type": "stream",
     "text": [
      "\n",
      "subject_id:  25  tasktime:  post  duration:  3.000357638888889 \n",
      "\n",
      "Opening raw data file ..\\..\\..\\data\\26\\raw_26_rs1.fif...\n",
      "    Read a total of 1 projection items:\n",
      "        EOG-eeg--0.200-0.200-PCA-01 (1 x 31) active\n",
      "    Range : 0 ... 864092 =      0.000 ...   180.019 secs\n",
      "Ready.\n",
      "Reading 0 ... 864092  =      0.000 ...   180.019 secs...\n"
     ]
    },
    {
     "name": "stderr",
     "output_type": "stream",
     "text": [
      "C:\\Users\\Tianyi Zheng\\AppData\\Local\\Temp\\ipykernel_19024\\600693823.py:5: RuntimeWarning: This filename (..\\..\\..\\data\\26\\raw_26_rs1.fif) does not conform to MNE naming conventions. All raw files should end with raw.fif, raw_sss.fif, raw_tsss.fif, _meg.fif, _eeg.fif, _ieeg.fif, raw.fif.gz, raw_sss.fif.gz, raw_tsss.fif.gz, _meg.fif.gz, _eeg.fif.gz or _ieeg.fif.gz\n",
      "  raw = mne.io.read_raw_fif(raw_path, preload=True)\n"
     ]
    },
    {
     "name": "stdout",
     "output_type": "stream",
     "text": [
      "\n",
      "subject_id:  26  tasktime:  pre  duration:  3.000253472222222 \n",
      "\n",
      "Opening raw data file ..\\..\\..\\data\\26\\raw_26_rs2.fif...\n",
      "    Read a total of 1 projection items:\n",
      "        EOG-eeg--0.200-0.200-PCA-01 (1 x 31) active\n",
      "    Range : 0 ... 864143 =      0.000 ...   180.030 secs\n",
      "Ready.\n",
      "Reading 0 ... 864143  =      0.000 ...   180.030 secs...\n"
     ]
    },
    {
     "name": "stderr",
     "output_type": "stream",
     "text": [
      "C:\\Users\\Tianyi Zheng\\AppData\\Local\\Temp\\ipykernel_19024\\600693823.py:5: RuntimeWarning: This filename (..\\..\\..\\data\\26\\raw_26_rs2.fif) does not conform to MNE naming conventions. All raw files should end with raw.fif, raw_sss.fif, raw_tsss.fif, _meg.fif, _eeg.fif, _ieeg.fif, raw.fif.gz, raw_sss.fif.gz, raw_tsss.fif.gz, _meg.fif.gz, _eeg.fif.gz or _ieeg.fif.gz\n",
      "  raw = mne.io.read_raw_fif(raw_path, preload=True)\n"
     ]
    },
    {
     "name": "stdout",
     "output_type": "stream",
     "text": [
      "\n",
      "subject_id:  26  tasktime:  post  duration:  3.0004340277777777 \n",
      "\n"
     ]
    }
   ],
   "source": [
    "task_time_name = ['pre', 'post']\n",
    "for subject_id in range(1, 27):\n",
    "    for tasktime in range (1, 3):\n",
    "        raw_path = os.path.join('..', '..', '..', 'data', str(subject_id), 'raw_' + str(subject_id) + '_rs' + str(tasktime) + '.fif')\n",
    "        raw = mne.io.read_raw_fif(raw_path, preload=True)\n",
    "        \n",
    "        trigger = raw.get_data()[33, :]\n",
    "        indices = np.where(trigger == 8)[0]\n",
    "        if indices.size > 0:\n",
    "            first_index = indices[0]\n",
    "            last_index = indices[-1]\n",
    "        print(\"\\nsubject_id: \", subject_id, \" tasktime: \", task_time_name[tasktime-1], \" duration: \", (last_index - first_index)/(4800*60), \"\\n\")\n",
    "        raw_trial = raw.copy().crop(tmin=first_index/raw.info['sfreq'], tmax=last_index/raw.info['sfreq'])\n",
    "\n",
    "        idx = exp_info[(exp_info['subject id'] == subject_id)].index[0]\n",
    "        exp_info.at[idx, task_time_name[tasktime-1]] = raw_trial\n",
    "# "
   ]
  },
  {
   "cell_type": "code",
   "execution_count": 16,
   "metadata": {},
   "outputs": [],
   "source": [
    "save_path = os.path.join('..', '..', '..', 'data', 'subjects_rest_eeg.pkl')\n",
    "exp_info.to_pickle(save_path)"
   ]
  }
 ],
 "metadata": {
  "kernelspec": {
   "display_name": "brain",
   "language": "python",
   "name": "python3"
  },
  "language_info": {
   "codemirror_mode": {
    "name": "ipython",
    "version": 3
   },
   "file_extension": ".py",
   "mimetype": "text/x-python",
   "name": "python",
   "nbconvert_exporter": "python",
   "pygments_lexer": "ipython3",
   "version": "3.11.6"
  }
 },
 "nbformat": 4,
 "nbformat_minor": 2
}
