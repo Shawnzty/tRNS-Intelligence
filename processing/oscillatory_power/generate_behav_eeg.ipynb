{
 "cells": [
  {
   "cell_type": "code",
   "execution_count": 1,
   "metadata": {},
   "outputs": [
    {
     "name": "stderr",
     "output_type": "stream",
     "text": [
      "C:\\Users\\Tianyi Zheng\\AppData\\Local\\Temp\\ipykernel_18888\\3916662429.py:11: DeprecationWarning: the imp module is deprecated in favour of importlib and slated for removal in Python 3.12; see the module's documentation for alternative uses\n",
      "  import imp\n"
     ]
    },
    {
     "data": {
      "text/plain": [
       "<module 'funcs' from 'c:\\\\Users\\\\Tianyi Zheng\\\\OneDrive - neuron.t.u-tokyo.ac.jp\\\\Documents\\\\zheng\\\\mywork\\\\intelligence_tRNS\\\\tRNS-Intelligence\\\\processing\\\\funcs.py'>"
      ]
     },
     "execution_count": 1,
     "metadata": {},
     "output_type": "execute_result"
    }
   ],
   "source": [
    "import sys\n",
    "import os\n",
    "sys.path.insert(0, os.path.abspath('..'))\n",
    "import matplotlib.pyplot as plt\n",
    "import matplotlib\n",
    "import numpy as np\n",
    "import pandas as pd\n",
    "import seaborn as sns\n",
    "from scipy import stats\n",
    "import funcs\n",
    "import imp\n",
    "import random\n",
    "import mne\n",
    "imp.reload(funcs)"
   ]
  },
  {
   "cell_type": "code",
   "execution_count": 2,
   "metadata": {},
   "outputs": [
    {
     "name": "stderr",
     "output_type": "stream",
     "text": [
      "c:\\Users\\Tianyi Zheng\\OneDrive - neuron.t.u-tokyo.ac.jp\\Documents\\zheng\\mywork\\intelligence_tRNS\\tRNS-Intelligence\\processing\\funcs.py:49: FutureWarning: The behavior of DataFrame concatenation with empty or all-NA entries is deprecated. In a future version, this will no longer exclude empty or all-NA columns when determining the result dtypes. To retain the old behavior, exclude the relevant entries before the concat operation.\n",
      "  subjects_behavior = pd.concat([subjects_behavior, one_behavior], ignore_index=True)\n"
     ]
    }
   ],
   "source": [
    "exp_info = funcs.load_info()\n",
    "subjects_behavior = funcs.load_subjects_behavior()\n",
    "subjects_behavior[\"raw\"] = None"
   ]
  },
  {
   "cell_type": "code",
   "execution_count": 3,
   "metadata": {},
   "outputs": [
    {
     "name": "stdout",
     "output_type": "stream",
     "text": [
      "Opening raw data file ..\\..\\..\\data\\1\\raw_1_1.fif...\n",
      "    Read a total of 1 projection items:\n",
      "        EOG-eeg--0.200-0.200-PCA-01 (1 x 31) active\n",
      "    Range : 0 ... 3865075 =      0.000 ...   805.224 secs\n",
      "Ready.\n"
     ]
    },
    {
     "name": "stderr",
     "output_type": "stream",
     "text": [
      "C:\\Users\\Tianyi Zheng\\AppData\\Local\\Temp\\ipykernel_18888\\3499214276.py:5: RuntimeWarning: This filename (..\\..\\..\\data\\1\\raw_1_1.fif) does not conform to MNE naming conventions. All raw files should end with raw.fif, raw_sss.fif, raw_tsss.fif, _meg.fif, _eeg.fif, _ieeg.fif, raw.fif.gz, raw_sss.fif.gz, raw_tsss.fif.gz, _meg.fif.gz, _eeg.fif.gz or _ieeg.fif.gz\n",
      "  raw = mne.io.read_raw_fif(raw_path, preload=True)\n"
     ]
    },
    {
     "name": "stdout",
     "output_type": "stream",
     "text": [
      "Reading 0 ... 3865075  =      0.000 ...   805.224 secs...\n",
      "41 events found on stim channel question\n",
      "Event IDs: [1]\n",
      "41 events found on stim channel response\n",
      "Event IDs: [1]\n",
      "subject_id:  1 tasktime:  1 trial:  1 /41\n",
      "subject_id:  1 tasktime:  1 trial:  2 /41\n",
      "subject_id:  1 tasktime:  1 trial:  3 /41\n",
      "subject_id:  1 tasktime:  1 trial:  4 /41\n",
      "subject_id:  1 tasktime:  1 trial:  5 /41\n",
      "subject_id:  1 tasktime:  1 trial:  6 /41\n",
      "subject_id:  1 tasktime:  1 trial:  7 /41\n",
      "subject_id:  1 tasktime:  1 trial:  8 /41\n",
      "subject_id:  1 tasktime:  1 trial:  9 /41\n",
      "subject_id:  1 tasktime:  1 trial:  10 /41\n",
      "subject_id:  1 tasktime:  1 trial:  11 /41\n",
      "subject_id:  1 tasktime:  1 trial:  12 /41\n",
      "subject_id:  1 tasktime:  1 trial:  13 /41\n",
      "subject_id:  1 tasktime:  1 trial:  14 /41\n",
      "subject_id:  1 tasktime:  1 trial:  15 /41\n",
      "subject_id:  1 tasktime:  1 trial:  16 /41\n",
      "subject_id:  1 tasktime:  1 trial:  17 /41\n",
      "subject_id:  1 tasktime:  1 trial:  18 /41\n",
      "subject_id:  1 tasktime:  1 trial:  19 /41\n",
      "subject_id:  1 tasktime:  1 trial:  20 /41\n",
      "subject_id:  1 tasktime:  1 trial:  21 /41\n",
      "subject_id:  1 tasktime:  1 trial:  22 /41\n",
      "subject_id:  1 tasktime:  1 trial:  23 /41\n",
      "subject_id:  1 tasktime:  1 trial:  24 /41\n",
      "subject_id:  1 tasktime:  1 trial:  25 /41\n",
      "subject_id:  1 tasktime:  1 trial:  26 /41\n",
      "subject_id:  1 tasktime:  1 trial:  27 /41\n",
      "subject_id:  1 tasktime:  1 trial:  28 /41\n",
      "subject_id:  1 tasktime:  1 trial:  29 /41\n",
      "subject_id:  1 tasktime:  1 trial:  30 /41\n",
      "subject_id:  1 tasktime:  1 trial:  31 /41\n",
      "subject_id:  1 tasktime:  1 trial:  32 /41\n"
     ]
    },
    {
     "ename": "KeyboardInterrupt",
     "evalue": "",
     "output_type": "error",
     "traceback": [
      "\u001b[1;31m---------------------------------------------------------------------------\u001b[0m",
      "\u001b[1;31mKeyboardInterrupt\u001b[0m                         Traceback (most recent call last)",
      "Cell \u001b[1;32mIn[3], line 24\u001b[0m\n\u001b[0;32m     22\u001b[0m     \u001b[38;5;28;01mif\u001b[39;00m (response_time \u001b[38;5;241m-\u001b[39m question_time) \u001b[38;5;241m/\u001b[39m raw\u001b[38;5;241m.\u001b[39minfo[\u001b[38;5;124m'\u001b[39m\u001b[38;5;124msfreq\u001b[39m\u001b[38;5;124m'\u001b[39m] \u001b[38;5;241m>\u001b[39m \u001b[38;5;241m90\u001b[39m:\n\u001b[0;32m     23\u001b[0m         \u001b[38;5;28mprint\u001b[39m(\u001b[38;5;124m\"\u001b[39m\u001b[38;5;130;01m\\n\u001b[39;00m\u001b[38;5;124mTOO LONG!!\u001b[39m\u001b[38;5;130;01m\\n\u001b[39;00m\u001b[38;5;124m\"\u001b[39m)\n\u001b[1;32m---> 24\u001b[0m     raw_trial \u001b[38;5;241m=\u001b[39m \u001b[43mraw\u001b[49m\u001b[38;5;241;43m.\u001b[39;49m\u001b[43mcopy\u001b[49m\u001b[43m(\u001b[49m\u001b[43m)\u001b[49m\u001b[38;5;241;43m.\u001b[39;49m\u001b[43mcrop\u001b[49m\u001b[43m(\u001b[49m\u001b[43mtmin\u001b[49m\u001b[38;5;241;43m=\u001b[39;49m\u001b[43mquestion_time\u001b[49m\u001b[38;5;241;43m/\u001b[39;49m\u001b[43mraw\u001b[49m\u001b[38;5;241;43m.\u001b[39;49m\u001b[43minfo\u001b[49m\u001b[43m[\u001b[49m\u001b[38;5;124;43m'\u001b[39;49m\u001b[38;5;124;43msfreq\u001b[39;49m\u001b[38;5;124;43m'\u001b[39;49m\u001b[43m]\u001b[49m\u001b[43m,\u001b[49m\u001b[43m \u001b[49m\u001b[43mtmax\u001b[49m\u001b[38;5;241;43m=\u001b[39;49m\u001b[43mresponse_time\u001b[49m\u001b[38;5;241;43m/\u001b[39;49m\u001b[43mraw\u001b[49m\u001b[38;5;241;43m.\u001b[39;49m\u001b[43minfo\u001b[49m\u001b[43m[\u001b[49m\u001b[38;5;124;43m'\u001b[39;49m\u001b[38;5;124;43msfreq\u001b[39;49m\u001b[38;5;124;43m'\u001b[39;49m\u001b[43m]\u001b[49m\u001b[43m)\u001b[49m\n\u001b[0;32m     25\u001b[0m     subjects_behavior\u001b[38;5;241m.\u001b[39mat[idx, \u001b[38;5;124m\"\u001b[39m\u001b[38;5;124mraw\u001b[39m\u001b[38;5;124m\"\u001b[39m] \u001b[38;5;241m=\u001b[39m raw_trial\n\u001b[0;32m     27\u001b[0m inraw_index \u001b[38;5;241m+\u001b[39m\u001b[38;5;241m=\u001b[39m \u001b[38;5;241m1\u001b[39m\n",
      "File \u001b[1;32m<decorator-gen-171>:12\u001b[0m, in \u001b[0;36mcrop\u001b[1;34m(self, tmin, tmax, include_tmax, verbose)\u001b[0m\n",
      "File \u001b[1;32mc:\\ProgramData\\anaconda3\\envs\\brain\\Lib\\site-packages\\mne\\io\\base.py:1527\u001b[0m, in \u001b[0;36mBaseRaw.crop\u001b[1;34m(self, tmin, tmax, include_tmax, verbose)\u001b[0m\n\u001b[0;32m   1521\u001b[0m     \u001b[38;5;66;03m# When self.info['meas_date'] is None (which is guaranteed if\u001b[39;00m\n\u001b[0;32m   1522\u001b[0m     \u001b[38;5;66;03m# self.annotations.orig_time is None), when we do the\u001b[39;00m\n\u001b[0;32m   1523\u001b[0m     \u001b[38;5;66;03m# self.set_annotations, it's assumed that the annotations onset\u001b[39;00m\n\u001b[0;32m   1524\u001b[0m     \u001b[38;5;66;03m# are relative to first_time, so we have to subtract it, then\u001b[39;00m\n\u001b[0;32m   1525\u001b[0m     \u001b[38;5;66;03m# set_annotations will put it back.\u001b[39;00m\n\u001b[0;32m   1526\u001b[0m     annotations\u001b[38;5;241m.\u001b[39monset \u001b[38;5;241m-\u001b[39m\u001b[38;5;241m=\u001b[39m \u001b[38;5;28mself\u001b[39m\u001b[38;5;241m.\u001b[39mfirst_time\n\u001b[1;32m-> 1527\u001b[0m \u001b[38;5;28;43mself\u001b[39;49m\u001b[38;5;241;43m.\u001b[39;49m\u001b[43mset_annotations\u001b[49m\u001b[43m(\u001b[49m\u001b[43mannotations\u001b[49m\u001b[43m,\u001b[49m\u001b[43m \u001b[49m\u001b[38;5;28;43;01mFalse\u001b[39;49;00m\u001b[43m)\u001b[49m\n\u001b[0;32m   1529\u001b[0m \u001b[38;5;28;01mreturn\u001b[39;00m \u001b[38;5;28mself\u001b[39m\n",
      "File \u001b[1;32m<decorator-gen-166>:12\u001b[0m, in \u001b[0;36mset_annotations\u001b[1;34m(self, annotations, emit_warning, on_missing, verbose)\u001b[0m\n",
      "File \u001b[1;32mc:\\ProgramData\\anaconda3\\envs\\brain\\Lib\\site-packages\\mne\\io\\base.py:738\u001b[0m, in \u001b[0;36mBaseRaw.set_annotations\u001b[1;34m(self, annotations, emit_warning, on_missing, verbose)\u001b[0m\n\u001b[0;32m    735\u001b[0m new_annotations\u001b[38;5;241m.\u001b[39m_prune_ch_names(\u001b[38;5;28mself\u001b[39m\u001b[38;5;241m.\u001b[39minfo, on_missing)\n\u001b[0;32m    736\u001b[0m \u001b[38;5;28;01mif\u001b[39;00m annotations\u001b[38;5;241m.\u001b[39morig_time \u001b[38;5;129;01mis\u001b[39;00m \u001b[38;5;28;01mNone\u001b[39;00m:\n\u001b[0;32m    737\u001b[0m     new_annotations\u001b[38;5;241m.\u001b[39mcrop(\n\u001b[1;32m--> 738\u001b[0m         \u001b[38;5;241m0\u001b[39m, \u001b[38;5;28;43mself\u001b[39;49m\u001b[38;5;241;43m.\u001b[39;49m\u001b[43mtimes\u001b[49m[\u001b[38;5;241m-\u001b[39m\u001b[38;5;241m1\u001b[39m] \u001b[38;5;241m+\u001b[39m delta, emit_warning\u001b[38;5;241m=\u001b[39memit_warning\n\u001b[0;32m    739\u001b[0m     )\n\u001b[0;32m    740\u001b[0m     new_annotations\u001b[38;5;241m.\u001b[39monset \u001b[38;5;241m+\u001b[39m\u001b[38;5;241m=\u001b[39m \u001b[38;5;28mself\u001b[39m\u001b[38;5;241m.\u001b[39m_first_time\n\u001b[0;32m    741\u001b[0m \u001b[38;5;28;01melse\u001b[39;00m:\n",
      "File \u001b[1;32mc:\\ProgramData\\anaconda3\\envs\\brain\\Lib\\site-packages\\mne\\io\\base.py:1855\u001b[0m, in \u001b[0;36mBaseRaw.times\u001b[1;34m(self)\u001b[0m\n\u001b[0;32m   1852\u001b[0m \u001b[38;5;129m@property\u001b[39m\n\u001b[0;32m   1853\u001b[0m \u001b[38;5;28;01mdef\u001b[39;00m \u001b[38;5;21mtimes\u001b[39m(\u001b[38;5;28mself\u001b[39m):\n\u001b[0;32m   1854\u001b[0m \u001b[38;5;250m    \u001b[39m\u001b[38;5;124;03m\"\"\"Time points.\"\"\"\u001b[39;00m\n\u001b[1;32m-> 1855\u001b[0m     out \u001b[38;5;241m=\u001b[39m \u001b[43m_arange_div\u001b[49m\u001b[43m(\u001b[49m\u001b[38;5;28;43mself\u001b[39;49m\u001b[38;5;241;43m.\u001b[39;49m\u001b[43mn_times\u001b[49m\u001b[43m,\u001b[49m\u001b[43m \u001b[49m\u001b[38;5;28;43mfloat\u001b[39;49m\u001b[43m(\u001b[49m\u001b[38;5;28;43mself\u001b[39;49m\u001b[38;5;241;43m.\u001b[39;49m\u001b[43minfo\u001b[49m\u001b[43m[\u001b[49m\u001b[38;5;124;43m\"\u001b[39;49m\u001b[38;5;124;43msfreq\u001b[39;49m\u001b[38;5;124;43m\"\u001b[39;49m\u001b[43m]\u001b[49m\u001b[43m)\u001b[49m\u001b[43m)\u001b[49m\n\u001b[0;32m   1856\u001b[0m     out\u001b[38;5;241m.\u001b[39mflags[\u001b[38;5;124m\"\u001b[39m\u001b[38;5;124mWRITEABLE\u001b[39m\u001b[38;5;124m\"\u001b[39m] \u001b[38;5;241m=\u001b[39m \u001b[38;5;28;01mFalse\u001b[39;00m\n\u001b[0;32m   1857\u001b[0m     \u001b[38;5;28;01mreturn\u001b[39;00m out\n",
      "File \u001b[1;32mc:\\ProgramData\\anaconda3\\envs\\brain\\Lib\\site-packages\\numba\\core\\serialize.py:30\u001b[0m, in \u001b[0;36m_numba_unpickle\u001b[1;34m(address, bytedata, hashed)\u001b[0m\n\u001b[0;32m     26\u001b[0m \u001b[38;5;66;03m# Keep unpickled object via `numba_unpickle` alive.\u001b[39;00m\n\u001b[0;32m     27\u001b[0m _unpickled_memo \u001b[38;5;241m=\u001b[39m {}\n\u001b[1;32m---> 30\u001b[0m \u001b[38;5;28;01mdef\u001b[39;00m \u001b[38;5;21m_numba_unpickle\u001b[39m(address, bytedata, hashed):\n\u001b[0;32m     31\u001b[0m \u001b[38;5;250m    \u001b[39m\u001b[38;5;124;03m\"\"\"Used by `numba_unpickle` from _helperlib.c\u001b[39;00m\n\u001b[0;32m     32\u001b[0m \n\u001b[0;32m     33\u001b[0m \u001b[38;5;124;03m    Parameters\u001b[39;00m\n\u001b[1;32m   (...)\u001b[0m\n\u001b[0;32m     42\u001b[0m \u001b[38;5;124;03m        unpickled object\u001b[39;00m\n\u001b[0;32m     43\u001b[0m \u001b[38;5;124;03m    \"\"\"\u001b[39;00m\n\u001b[0;32m     44\u001b[0m     key \u001b[38;5;241m=\u001b[39m (address, hashed)\n",
      "\u001b[1;31mKeyboardInterrupt\u001b[0m: "
     ]
    }
   ],
   "source": [
    "task_time_name = ['pre', 'post']\n",
    "for subject_id in range(1, 27):\n",
    "    for tasktime in range (1, 3):\n",
    "        raw_path = os.path.join('..', '..', '..', 'data', str(subject_id), 'raw_' + str(subject_id) + '_' + str(tasktime) + '.fif')\n",
    "        raw = mne.io.read_raw_fif(raw_path, preload=True)\n",
    "        # Locate question events\n",
    "        question_times = mne.find_events(raw, stim_channel='question')[:, 0]\n",
    "        response_times = mne.find_events(raw, stim_channel='response')[:, 0]\n",
    "\n",
    "        idx_start = (subject_id-1) * 82 + (tasktime-1) * 41\n",
    "        idx_end = idx_start + 40\n",
    "        inraw_index = 0\n",
    "\n",
    "        for idx in range (idx_start, idx_end+1): # 41 trials\n",
    "            # print(\"subject_id: \", subject_id, \"tasktime: \", tasktime, \"trial: \", inraw_index+1, \"/41\")\n",
    "            if subjects_behavior.at[idx, \"answered\"] == 1:\n",
    "                print(\"subject_id: \", subject_id, \"tasktime: \", tasktime, \"trial: \", inraw_index+1, \"/41\")\n",
    "                # write here\n",
    "                question_time = question_times[inraw_index]\n",
    "                response_idx = np.searchsorted(response_times, question_time, side='right')\n",
    "                response_time = response_times[response_idx]\n",
    "                if (response_time - question_time) / raw.info['sfreq'] > 90:\n",
    "                    print(\"\\nTOO LONG!!\\n\")\n",
    "                raw_trial = raw.copy().crop(tmin=question_time/raw.info['sfreq'], tmax=response_time/raw.info['sfreq'])\n",
    "                subjects_behavior.at[idx, \"raw\"] = raw_trial\n",
    "          \n",
    "            inraw_index += 1\n",
    "# 11min28.9s"
   ]
  },
  {
   "cell_type": "code",
   "execution_count": 7,
   "metadata": {},
   "outputs": [],
   "source": [
    "save_path = os.path.join('..', '..', '..', 'data', 'subjects_behavior_eeg.pkl')\n",
    "subjects_behavior.to_pickle(save_path)"
   ]
  }
 ],
 "metadata": {
  "kernelspec": {
   "display_name": "brain",
   "language": "python",
   "name": "python3"
  },
  "language_info": {
   "codemirror_mode": {
    "name": "ipython",
    "version": 3
   },
   "file_extension": ".py",
   "mimetype": "text/x-python",
   "name": "python",
   "nbconvert_exporter": "python",
   "pygments_lexer": "ipython3",
   "version": "3.11.6"
  }
 },
 "nbformat": 4,
 "nbformat_minor": 2
}
