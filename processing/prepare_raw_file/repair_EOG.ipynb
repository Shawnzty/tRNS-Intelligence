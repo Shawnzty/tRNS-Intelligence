{
 "cells": [
  {
   "cell_type": "code",
   "execution_count": 33,
   "metadata": {},
   "outputs": [],
   "source": [
    "import mne\n",
    "import os\n",
    "from mne.preprocessing import create_eog_epochs, EOGRegression"
   ]
  },
  {
   "cell_type": "code",
   "execution_count": 34,
   "metadata": {},
   "outputs": [
    {
     "name": "stdout",
     "output_type": "stream",
     "text": [
      "Opening raw data file ..\\..\\..\\data\\1\\raw_1_1.fif...\n",
      "    Range : 0 ... 3865075 =      0.000 ...   805.224 secs\n",
      "Ready.\n",
      "Reading 0 ... 3865075  =      0.000 ...   805.224 secs...\n"
     ]
    },
    {
     "name": "stderr",
     "output_type": "stream",
     "text": [
      "C:\\Users\\Tianyi Zheng\\AppData\\Local\\Temp\\ipykernel_27696\\2193600228.py:5: RuntimeWarning: This filename (..\\..\\..\\data\\1\\raw_1_1.fif) does not conform to MNE naming conventions. All raw files should end with raw.fif, raw_sss.fif, raw_tsss.fif, _meg.fif, _eeg.fif, _ieeg.fif, raw.fif.gz, raw_sss.fif.gz, raw_tsss.fif.gz, _meg.fif.gz, _eeg.fif.gz or _ieeg.fif.gz\n",
      "  raw = mne.io.read_raw_fif(raw_path, preload=True)\n"
     ]
    }
   ],
   "source": [
    "# load raw\n",
    "subject_id = 1\n",
    "tasktime = 1 # 1-pre, 2-post\n",
    "raw_path = os.path.join('..', '..', '..', 'data', str(subject_id), 'raw_' + str(subject_id) + '_' + str(tasktime) + '.fif')\n",
    "raw = mne.io.read_raw_fif(raw_path, preload=True)"
   ]
  },
  {
   "cell_type": "code",
   "execution_count": 35,
   "metadata": {},
   "outputs": [
    {
     "name": "stdout",
     "output_type": "stream",
     "text": [
      "EEG channel type selected for re-referencing\n",
      "Applying average reference.\n",
      "Applying a custom ('EEG',) reference.\n",
      "Filtering raw data in 1 contiguous segment\n",
      "Setting up high-pass filter at 0.3 Hz\n",
      "\n",
      "FIR filter parameters\n",
      "---------------------\n",
      "Designing a one-pass, zero-phase, non-causal highpass filter:\n",
      "- Windowed time-domain design (firwin) method\n",
      "- Hamming window with 0.0194 passband ripple and 53 dB stopband attenuation\n",
      "- Lower passband edge: 0.30\n",
      "- Lower transition bandwidth: 0.30 Hz (-6 dB cutoff frequency: 0.15 Hz)\n",
      "- Filter length: 52801 samples (11.000 s)\n",
      "\n"
     ]
    },
    {
     "name": "stderr",
     "output_type": "stream",
     "text": [
      "[Parallel(n_jobs=1)]: Done  17 tasks      | elapsed:    2.2s\n"
     ]
    },
    {
     "name": "stdout",
     "output_type": "stream",
     "text": [
      "Using EOG channel: EOG\n",
      "EOG channel index for this subject is: [32]\n",
      "Filtering the data to remove DC offset to help distinguish blinks from saccades\n",
      "Selecting channel EOG for blink detection\n",
      "Setting up band-pass filter from 1 - 10 Hz\n",
      "\n",
      "FIR filter parameters\n",
      "---------------------\n",
      "Designing a two-pass forward and reverse, zero-phase, non-causal bandpass filter:\n",
      "- Windowed frequency-domain design (firwin2) method\n",
      "- Hann window\n",
      "- Lower passband edge: 1.00\n",
      "- Lower transition bandwidth: 0.50 Hz (-12 dB cutoff frequency: 0.75 Hz)\n",
      "- Upper passband edge: 10.00 Hz\n",
      "- Upper transition bandwidth: 0.50 Hz (-12 dB cutoff frequency: 10.25 Hz)\n",
      "- Filter length: 48000 samples (10.000 s)\n",
      "\n",
      "Now detecting blinks and generating corresponding events\n",
      "Found 79 significant peaks\n",
      "Number of EOG events detected: 79\n",
      "Not setting metadata\n",
      "79 matching events found\n",
      "No baseline correction applied\n",
      "Using data from preloaded Raw for 79 events and 4801 original time points ...\n",
      "0 bad epochs dropped\n",
      "Applying baseline correction (mode: mean)\n",
      "No projector specified for this dataset. Please consider the method self.add_proj.\n",
      "No projector specified for this dataset. Please consider the method self.add_proj.\n"
     ]
    },
    {
     "data": {
      "text/plain": [
       "<mne_qt_browser._pg_figure.MNEQtBrowser at 0x2f08005dc60>"
      ]
     },
     "execution_count": 35,
     "metadata": {},
     "output_type": "execute_result"
    }
   ],
   "source": [
    "# Pick EEG and EOG channels\n",
    "# raw.pick_types(eeg=True, eog=True, exclude=[])\n",
    "\n",
    "# Set EEG reference and filter data\n",
    "raw.set_eeg_reference('average')\n",
    "# Highpass filter to eliminate slow drifts\n",
    "raw.filter(0.3, None, picks=\"eeg\")\n",
    "\n",
    "# Create EOG epochs\n",
    "eog_epochs = create_eog_epochs(raw)  # This automatically detects EOG events\n",
    "eog_epochs.apply_baseline((0, 0))  # Baseline correction, if necessary\n",
    "\n",
    "# Perform regression to get correction coefficients\n",
    "model = EOGRegression(picks=\"eeg\", picks_artifact=\"eog\").fit(eog_epochs)\n",
    "\n",
    "# Apply the regression to remove EOG artifacts\n",
    "raw_corrected = model.apply(raw)\n",
    "\n",
    "# Optionally, save the cleaned data\n",
    "# raw_corrected.save('path_to_save_cleaned_raw.fif', overwrite=True)\n",
    "\n",
    "# Visualize the effect\n",
    "raw.plot(title=\"Before EOG correction\")\n",
    "raw_corrected.plot(title=\"After EOG correction\")"
   ]
  }
 ],
 "metadata": {
  "kernelspec": {
   "display_name": "brain",
   "language": "python",
   "name": "python3"
  },
  "language_info": {
   "codemirror_mode": {
    "name": "ipython",
    "version": 3
   },
   "file_extension": ".py",
   "mimetype": "text/x-python",
   "name": "python",
   "nbconvert_exporter": "python",
   "pygments_lexer": "ipython3",
   "version": "3.11.6"
  }
 },
 "nbformat": 4,
 "nbformat_minor": 2
}
